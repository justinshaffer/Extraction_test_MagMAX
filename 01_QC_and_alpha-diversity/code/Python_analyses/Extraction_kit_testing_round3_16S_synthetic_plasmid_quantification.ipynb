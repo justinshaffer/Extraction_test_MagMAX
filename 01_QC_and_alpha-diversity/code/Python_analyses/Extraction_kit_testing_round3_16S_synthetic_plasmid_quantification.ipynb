{
 "cells": [
  {
   "cell_type": "code",
   "execution_count": 1,
   "metadata": {},
   "outputs": [],
   "source": [
    "import numpy as np\n",
    "import pandas as pd\n",
    "import seaborn as sns\n",
    "import scipy\n",
    "from scipy import stats\n",
    "import matplotlib.pyplot as plt\n",
    "import re\n",
    "%matplotlib inline\n",
    "from qiime2.plugins import feature_table\n",
    "from qiime2 import Artifact\n",
    "from qiime2 import Metadata\n",
    "import biom\n",
    "from biom import load_table\n",
    "from qiime2.plugins import diversity\n",
    "from scipy.stats import ttest_ind\n"
   ]
  },
  {
   "cell_type": "code",
   "execution_count": 2,
   "metadata": {},
   "outputs": [
    {
     "name": "stdout",
     "output_type": "stream",
     "text": [
      "/Users/Justin/Google-Drive-UCSD/UCSD/00_Knight_Lab/03_Extraction_test_12201/round_03_2vs20min/01_16S/synthetic_plasmids\n"
     ]
    }
   ],
   "source": [
    "cd UCSD/00_Knight_Lab/03_Extraction_test_12201/round_03_2vs20min/01_16S/synthetic_plasmids/\n"
   ]
  },
  {
   "cell_type": "code",
   "execution_count": null,
   "metadata": {},
   "outputs": [],
   "source": [
    "biom convert \\\n",
    "  -i combined_trimmed_derep_biom_taxa_collapse.biom \\\n",
    "  -o combined_trimmed_derep_biom_taxa_collapse.tsv \\\n",
    "  --to-tsv\n"
   ]
  },
  {
   "cell_type": "code",
   "execution_count": 57,
   "metadata": {},
   "outputs": [],
   "source": [
    "biom_collapsed = pd.read_csv('combined_trimmed_derep_biom_taxa_collapse.tsv', sep = '\\t', index_col = 0, header = 1)\n"
   ]
  },
  {
   "cell_type": "code",
   "execution_count": 58,
   "metadata": {},
   "outputs": [
    {
     "data": {
      "text/html": [
       "<div>\n",
       "<style scoped>\n",
       "    .dataframe tbody tr th:only-of-type {\n",
       "        vertical-align: middle;\n",
       "    }\n",
       "\n",
       "    .dataframe tbody tr th {\n",
       "        vertical-align: top;\n",
       "    }\n",
       "\n",
       "    .dataframe thead th {\n",
       "        text-align: right;\n",
       "    }\n",
       "</style>\n",
       "<table border=\"1\" class=\"dataframe\">\n",
       "  <thead>\n",
       "    <tr style=\"text-align: right;\">\n",
       "      <th></th>\n",
       "      <th>12201.BLANK.A2.microbiome2.C</th>\n",
       "      <th>12201.BLANK.A2.microbiome20.C</th>\n",
       "      <th>12201.BLANK.A2.qiagen.C</th>\n",
       "      <th>12201.BLANK.A3.microbiome20.H</th>\n",
       "      <th>12201.BLANK.C10.microbiome2.C</th>\n",
       "      <th>12201.BLANK.C10.microbiome20.C</th>\n",
       "      <th>12201.BLANK.C10.qiagen.C</th>\n",
       "      <th>12201.BLANK.C5.microbiome2.C</th>\n",
       "      <th>12201.BLANK.C5.qiagen.C</th>\n",
       "      <th>12201.BLANK.C7.microbiome20.H</th>\n",
       "      <th>...</th>\n",
       "      <th>12201.BLANK.D10.qiagen.H</th>\n",
       "      <th>12201.bacsu.d8.1.qiagen.L</th>\n",
       "      <th>12201.built.doorknob.A.2.qiagen.L</th>\n",
       "      <th>12201.para.d7.2.qiagen.L</th>\n",
       "      <th>12201.uriF.D.1.microbiome2.L</th>\n",
       "      <th>12201.uriM.A.1.microbiome20.L</th>\n",
       "      <th>12201.uriM.A.2.microbiome2.L</th>\n",
       "      <th>12201.food.sourkraut.1.2.microbiome2.H</th>\n",
       "      <th>12201.uriM.A.3.microbiome20.L</th>\n",
       "      <th>12201.stool.mouse.S.3.microbiome2.H</th>\n",
       "    </tr>\n",
       "    <tr>\n",
       "      <th>#OTU ID</th>\n",
       "      <th></th>\n",
       "      <th></th>\n",
       "      <th></th>\n",
       "      <th></th>\n",
       "      <th></th>\n",
       "      <th></th>\n",
       "      <th></th>\n",
       "      <th></th>\n",
       "      <th></th>\n",
       "      <th></th>\n",
       "      <th></th>\n",
       "      <th></th>\n",
       "      <th></th>\n",
       "      <th></th>\n",
       "      <th></th>\n",
       "      <th></th>\n",
       "      <th></th>\n",
       "      <th></th>\n",
       "      <th></th>\n",
       "      <th></th>\n",
       "      <th></th>\n",
       "    </tr>\n",
       "  </thead>\n",
       "  <tbody>\n",
       "    <tr>\n",
       "      <th>EC5502_08</th>\n",
       "      <td>0.0</td>\n",
       "      <td>0.0</td>\n",
       "      <td>0.0</td>\n",
       "      <td>4.0</td>\n",
       "      <td>3.0</td>\n",
       "      <td>4.0</td>\n",
       "      <td>0.0</td>\n",
       "      <td>0.0</td>\n",
       "      <td>0.0</td>\n",
       "      <td>3.0</td>\n",
       "      <td>...</td>\n",
       "      <td>0.0</td>\n",
       "      <td>0.0</td>\n",
       "      <td>0.0</td>\n",
       "      <td>0.0</td>\n",
       "      <td>3.0</td>\n",
       "      <td>0.0</td>\n",
       "      <td>1.0</td>\n",
       "      <td>0.0</td>\n",
       "      <td>0.0</td>\n",
       "      <td>1.0</td>\n",
       "    </tr>\n",
       "    <tr>\n",
       "      <th>EC6001_06</th>\n",
       "      <td>0.0</td>\n",
       "      <td>0.0</td>\n",
       "      <td>0.0</td>\n",
       "      <td>0.0</td>\n",
       "      <td>0.0</td>\n",
       "      <td>0.0</td>\n",
       "      <td>0.0</td>\n",
       "      <td>0.0</td>\n",
       "      <td>0.0</td>\n",
       "      <td>0.0</td>\n",
       "      <td>...</td>\n",
       "      <td>0.0</td>\n",
       "      <td>0.0</td>\n",
       "      <td>0.0</td>\n",
       "      <td>0.0</td>\n",
       "      <td>0.0</td>\n",
       "      <td>0.0</td>\n",
       "      <td>0.0</td>\n",
       "      <td>0.0</td>\n",
       "      <td>0.0</td>\n",
       "      <td>0.0</td>\n",
       "    </tr>\n",
       "    <tr>\n",
       "      <th>GA5501_11</th>\n",
       "      <td>0.0</td>\n",
       "      <td>2.0</td>\n",
       "      <td>0.0</td>\n",
       "      <td>5.0</td>\n",
       "      <td>0.0</td>\n",
       "      <td>4.0</td>\n",
       "      <td>0.0</td>\n",
       "      <td>0.0</td>\n",
       "      <td>0.0</td>\n",
       "      <td>2.0</td>\n",
       "      <td>...</td>\n",
       "      <td>0.0</td>\n",
       "      <td>1.0</td>\n",
       "      <td>0.0</td>\n",
       "      <td>1.0</td>\n",
       "      <td>0.0</td>\n",
       "      <td>0.0</td>\n",
       "      <td>0.0</td>\n",
       "      <td>0.0</td>\n",
       "      <td>0.0</td>\n",
       "      <td>0.0</td>\n",
       "    </tr>\n",
       "    <tr>\n",
       "      <th>TB5501_10</th>\n",
       "      <td>0.0</td>\n",
       "      <td>0.0</td>\n",
       "      <td>0.0</td>\n",
       "      <td>0.0</td>\n",
       "      <td>0.0</td>\n",
       "      <td>1.0</td>\n",
       "      <td>2.0</td>\n",
       "      <td>0.0</td>\n",
       "      <td>0.0</td>\n",
       "      <td>1.0</td>\n",
       "      <td>...</td>\n",
       "      <td>0.0</td>\n",
       "      <td>0.0</td>\n",
       "      <td>0.0</td>\n",
       "      <td>0.0</td>\n",
       "      <td>0.0</td>\n",
       "      <td>1.0</td>\n",
       "      <td>0.0</td>\n",
       "      <td>0.0</td>\n",
       "      <td>0.0</td>\n",
       "      <td>0.0</td>\n",
       "    </tr>\n",
       "    <tr>\n",
       "      <th>Unassigned</th>\n",
       "      <td>372.0</td>\n",
       "      <td>11548.0</td>\n",
       "      <td>5821.0</td>\n",
       "      <td>32219.0</td>\n",
       "      <td>464.0</td>\n",
       "      <td>26304.0</td>\n",
       "      <td>9291.0</td>\n",
       "      <td>953.0</td>\n",
       "      <td>682.0</td>\n",
       "      <td>3852.0</td>\n",
       "      <td>...</td>\n",
       "      <td>445.0</td>\n",
       "      <td>1635.0</td>\n",
       "      <td>2026.0</td>\n",
       "      <td>957.0</td>\n",
       "      <td>5671.0</td>\n",
       "      <td>434.0</td>\n",
       "      <td>309.0</td>\n",
       "      <td>6710.0</td>\n",
       "      <td>541.0</td>\n",
       "      <td>91.0</td>\n",
       "    </tr>\n",
       "  </tbody>\n",
       "</table>\n",
       "<p>5 rows × 858 columns</p>\n",
       "</div>"
      ],
      "text/plain": [
       "            12201.BLANK.A2.microbiome2.C  12201.BLANK.A2.microbiome20.C  \\\n",
       "#OTU ID                                                                   \n",
       "EC5502_08                            0.0                            0.0   \n",
       "EC6001_06                            0.0                            0.0   \n",
       "GA5501_11                            0.0                            2.0   \n",
       "TB5501_10                            0.0                            0.0   \n",
       "Unassigned                         372.0                        11548.0   \n",
       "\n",
       "            12201.BLANK.A2.qiagen.C  12201.BLANK.A3.microbiome20.H  \\\n",
       "#OTU ID                                                              \n",
       "EC5502_08                       0.0                            4.0   \n",
       "EC6001_06                       0.0                            0.0   \n",
       "GA5501_11                       0.0                            5.0   \n",
       "TB5501_10                       0.0                            0.0   \n",
       "Unassigned                   5821.0                        32219.0   \n",
       "\n",
       "            12201.BLANK.C10.microbiome2.C  12201.BLANK.C10.microbiome20.C  \\\n",
       "#OTU ID                                                                     \n",
       "EC5502_08                             3.0                             4.0   \n",
       "EC6001_06                             0.0                             0.0   \n",
       "GA5501_11                             0.0                             4.0   \n",
       "TB5501_10                             0.0                             1.0   \n",
       "Unassigned                          464.0                         26304.0   \n",
       "\n",
       "            12201.BLANK.C10.qiagen.C  12201.BLANK.C5.microbiome2.C  \\\n",
       "#OTU ID                                                              \n",
       "EC5502_08                        0.0                           0.0   \n",
       "EC6001_06                        0.0                           0.0   \n",
       "GA5501_11                        0.0                           0.0   \n",
       "TB5501_10                        2.0                           0.0   \n",
       "Unassigned                    9291.0                         953.0   \n",
       "\n",
       "            12201.BLANK.C5.qiagen.C  12201.BLANK.C7.microbiome20.H  ...  \\\n",
       "#OTU ID                                                             ...   \n",
       "EC5502_08                       0.0                            3.0  ...   \n",
       "EC6001_06                       0.0                            0.0  ...   \n",
       "GA5501_11                       0.0                            2.0  ...   \n",
       "TB5501_10                       0.0                            1.0  ...   \n",
       "Unassigned                    682.0                         3852.0  ...   \n",
       "\n",
       "            12201.BLANK.D10.qiagen.H  12201.bacsu.d8.1.qiagen.L  \\\n",
       "#OTU ID                                                           \n",
       "EC5502_08                        0.0                        0.0   \n",
       "EC6001_06                        0.0                        0.0   \n",
       "GA5501_11                        0.0                        1.0   \n",
       "TB5501_10                        0.0                        0.0   \n",
       "Unassigned                     445.0                     1635.0   \n",
       "\n",
       "            12201.built.doorknob.A.2.qiagen.L  12201.para.d7.2.qiagen.L  \\\n",
       "#OTU ID                                                                   \n",
       "EC5502_08                                 0.0                       0.0   \n",
       "EC6001_06                                 0.0                       0.0   \n",
       "GA5501_11                                 0.0                       1.0   \n",
       "TB5501_10                                 0.0                       0.0   \n",
       "Unassigned                             2026.0                     957.0   \n",
       "\n",
       "            12201.uriF.D.1.microbiome2.L  12201.uriM.A.1.microbiome20.L  \\\n",
       "#OTU ID                                                                   \n",
       "EC5502_08                            3.0                            0.0   \n",
       "EC6001_06                            0.0                            0.0   \n",
       "GA5501_11                            0.0                            0.0   \n",
       "TB5501_10                            0.0                            1.0   \n",
       "Unassigned                        5671.0                          434.0   \n",
       "\n",
       "            12201.uriM.A.2.microbiome2.L  \\\n",
       "#OTU ID                                    \n",
       "EC5502_08                            1.0   \n",
       "EC6001_06                            0.0   \n",
       "GA5501_11                            0.0   \n",
       "TB5501_10                            0.0   \n",
       "Unassigned                         309.0   \n",
       "\n",
       "            12201.food.sourkraut.1.2.microbiome2.H  \\\n",
       "#OTU ID                                              \n",
       "EC5502_08                                      0.0   \n",
       "EC6001_06                                      0.0   \n",
       "GA5501_11                                      0.0   \n",
       "TB5501_10                                      0.0   \n",
       "Unassigned                                  6710.0   \n",
       "\n",
       "            12201.uriM.A.3.microbiome20.L  12201.stool.mouse.S.3.microbiome2.H  \n",
       "#OTU ID                                                                         \n",
       "EC5502_08                             0.0                                  1.0  \n",
       "EC6001_06                             0.0                                  0.0  \n",
       "GA5501_11                             0.0                                  0.0  \n",
       "TB5501_10                             0.0                                  0.0  \n",
       "Unassigned                          541.0                                 91.0  \n",
       "\n",
       "[5 rows x 858 columns]"
      ]
     },
     "execution_count": 58,
     "metadata": {},
     "output_type": "execute_result"
    }
   ],
   "source": [
    "biom_collapsed.tail()\n"
   ]
  },
  {
   "cell_type": "code",
   "execution_count": 59,
   "metadata": {},
   "outputs": [],
   "source": [
    "md = pd.read_csv('../../../00_metadata/metadata_12201_2020.08.08.txt', sep='\\t', index_col=0)\n"
   ]
  },
  {
   "cell_type": "code",
   "execution_count": 60,
   "metadata": {},
   "outputs": [],
   "source": [
    "# Sum the number of reads per synthetic plasmid\n",
    "plasmid_sum = biom_collapsed\n",
    "plasmid_sum = plasmid_sum.apply(pd.to_numeric)\n",
    "plasmid_sum['synth_sums_across_samples'] = plasmid_sum.sum(axis=1)\n"
   ]
  },
  {
   "cell_type": "code",
   "execution_count": 61,
   "metadata": {
    "scrolled": true
   },
   "outputs": [
    {
     "data": {
      "text/plain": [
       "#OTU ID\n",
       "BV5501_09        90352.0\n",
       "CA5501_12       106648.0\n",
       "EC5001_01        31874.0\n",
       "EC5002_02         3150.0\n",
       "EC5003_03        48039.0\n",
       "EC5004_04         3259.0\n",
       "EC5005_05        65051.0\n",
       "EC5501_07       111348.0\n",
       "EC5502_08        43119.0\n",
       "EC6001_06        10092.0\n",
       "GA5501_11       127663.0\n",
       "TB5501_10        84057.0\n",
       "Unassigned    17650986.0\n",
       "Name: synth_sums_across_samples, dtype: float64"
      ]
     },
     "execution_count": 61,
     "metadata": {},
     "output_type": "execute_result"
    }
   ],
   "source": [
    "# Make table of read counts per plasmid\n",
    "plasmid_sum.synth_sums_across_samples\n"
   ]
  },
  {
   "cell_type": "code",
   "execution_count": null,
   "metadata": {},
   "outputs": [],
   "source": [
    "# OK great All plasmids are present at some abundance.\n"
   ]
  },
  {
   "cell_type": "code",
   "execution_count": 62,
   "metadata": {},
   "outputs": [],
   "source": [
    "# Copy collapsed BIOM table and convert values to numeric\n",
    "biom_collapsed_with_sums = biom_collapsed \n",
    "biom_collapsed_with_sums = biom_collapsed_with_sums.apply(pd.to_numeric)\n",
    "\n",
    "# Add a row with columns sums (i.e., total synthetic plasmid reads per sample)\n",
    "biom_collapsed_with_sums.loc['synth_sum'] = (biom_collapsed_with_sums.sum(axis=0) - biom_collapsed_with_sums.loc['Unassigned'])\n",
    "biom_collapsed_with_sums.loc['synth_perc'] = (biom_collapsed_with_sums.loc['synth_sum'] / (biom_collapsed_with_sums.loc['Unassigned'] + biom_collapsed_with_sums.loc['synth_sum']))\n"
   ]
  },
  {
   "cell_type": "code",
   "execution_count": 63,
   "metadata": {},
   "outputs": [
    {
     "data": {
      "text/html": [
       "<div>\n",
       "<style scoped>\n",
       "    .dataframe tbody tr th:only-of-type {\n",
       "        vertical-align: middle;\n",
       "    }\n",
       "\n",
       "    .dataframe tbody tr th {\n",
       "        vertical-align: top;\n",
       "    }\n",
       "\n",
       "    .dataframe thead th {\n",
       "        text-align: right;\n",
       "    }\n",
       "</style>\n",
       "<table border=\"1\" class=\"dataframe\">\n",
       "  <thead>\n",
       "    <tr style=\"text-align: right;\">\n",
       "      <th></th>\n",
       "      <th>12201.BLANK.A2.microbiome2.C</th>\n",
       "      <th>12201.BLANK.A2.microbiome20.C</th>\n",
       "      <th>12201.BLANK.A2.qiagen.C</th>\n",
       "      <th>12201.BLANK.A3.microbiome20.H</th>\n",
       "      <th>12201.BLANK.C10.microbiome2.C</th>\n",
       "      <th>12201.BLANK.C10.microbiome20.C</th>\n",
       "      <th>12201.BLANK.C10.qiagen.C</th>\n",
       "      <th>12201.BLANK.C5.microbiome2.C</th>\n",
       "      <th>12201.BLANK.C5.qiagen.C</th>\n",
       "      <th>12201.BLANK.C7.microbiome20.H</th>\n",
       "      <th>...</th>\n",
       "      <th>12201.BLANK.D10.qiagen.H</th>\n",
       "      <th>12201.bacsu.d8.1.qiagen.L</th>\n",
       "      <th>12201.built.doorknob.A.2.qiagen.L</th>\n",
       "      <th>12201.para.d7.2.qiagen.L</th>\n",
       "      <th>12201.uriF.D.1.microbiome2.L</th>\n",
       "      <th>12201.uriM.A.1.microbiome20.L</th>\n",
       "      <th>12201.uriM.A.2.microbiome2.L</th>\n",
       "      <th>12201.food.sourkraut.1.2.microbiome2.H</th>\n",
       "      <th>12201.uriM.A.3.microbiome20.L</th>\n",
       "      <th>12201.stool.mouse.S.3.microbiome2.H</th>\n",
       "    </tr>\n",
       "    <tr>\n",
       "      <th>#OTU ID</th>\n",
       "      <th></th>\n",
       "      <th></th>\n",
       "      <th></th>\n",
       "      <th></th>\n",
       "      <th></th>\n",
       "      <th></th>\n",
       "      <th></th>\n",
       "      <th></th>\n",
       "      <th></th>\n",
       "      <th></th>\n",
       "      <th></th>\n",
       "      <th></th>\n",
       "      <th></th>\n",
       "      <th></th>\n",
       "      <th></th>\n",
       "      <th></th>\n",
       "      <th></th>\n",
       "      <th></th>\n",
       "      <th></th>\n",
       "      <th></th>\n",
       "      <th></th>\n",
       "    </tr>\n",
       "  </thead>\n",
       "  <tbody>\n",
       "    <tr>\n",
       "      <th>GA5501_11</th>\n",
       "      <td>0.0</td>\n",
       "      <td>2.000000</td>\n",
       "      <td>0.000000</td>\n",
       "      <td>5.000000</td>\n",
       "      <td>0.000000</td>\n",
       "      <td>4.000000</td>\n",
       "      <td>0.000000</td>\n",
       "      <td>0.0</td>\n",
       "      <td>0.000000</td>\n",
       "      <td>2.000000</td>\n",
       "      <td>...</td>\n",
       "      <td>0.000000</td>\n",
       "      <td>1.000000</td>\n",
       "      <td>0.0</td>\n",
       "      <td>1.000000</td>\n",
       "      <td>0.000000</td>\n",
       "      <td>0.000000</td>\n",
       "      <td>0.000000</td>\n",
       "      <td>0.000000</td>\n",
       "      <td>0.0</td>\n",
       "      <td>0.000000</td>\n",
       "    </tr>\n",
       "    <tr>\n",
       "      <th>TB5501_10</th>\n",
       "      <td>0.0</td>\n",
       "      <td>0.000000</td>\n",
       "      <td>0.000000</td>\n",
       "      <td>0.000000</td>\n",
       "      <td>0.000000</td>\n",
       "      <td>1.000000</td>\n",
       "      <td>2.000000</td>\n",
       "      <td>0.0</td>\n",
       "      <td>0.000000</td>\n",
       "      <td>1.000000</td>\n",
       "      <td>...</td>\n",
       "      <td>0.000000</td>\n",
       "      <td>0.000000</td>\n",
       "      <td>0.0</td>\n",
       "      <td>0.000000</td>\n",
       "      <td>0.000000</td>\n",
       "      <td>1.000000</td>\n",
       "      <td>0.000000</td>\n",
       "      <td>0.000000</td>\n",
       "      <td>0.0</td>\n",
       "      <td>0.000000</td>\n",
       "    </tr>\n",
       "    <tr>\n",
       "      <th>Unassigned</th>\n",
       "      <td>372.0</td>\n",
       "      <td>11548.000000</td>\n",
       "      <td>5821.000000</td>\n",
       "      <td>32219.000000</td>\n",
       "      <td>464.000000</td>\n",
       "      <td>26304.000000</td>\n",
       "      <td>9291.000000</td>\n",
       "      <td>953.0</td>\n",
       "      <td>682.000000</td>\n",
       "      <td>3852.000000</td>\n",
       "      <td>...</td>\n",
       "      <td>445.000000</td>\n",
       "      <td>1635.000000</td>\n",
       "      <td>2026.0</td>\n",
       "      <td>957.000000</td>\n",
       "      <td>5671.000000</td>\n",
       "      <td>434.000000</td>\n",
       "      <td>309.000000</td>\n",
       "      <td>6710.000000</td>\n",
       "      <td>541.0</td>\n",
       "      <td>91.000000</td>\n",
       "    </tr>\n",
       "    <tr>\n",
       "      <th>synth_sum</th>\n",
       "      <td>0.0</td>\n",
       "      <td>2.000000</td>\n",
       "      <td>1.000000</td>\n",
       "      <td>25.000000</td>\n",
       "      <td>4.000000</td>\n",
       "      <td>16.000000</td>\n",
       "      <td>7.000000</td>\n",
       "      <td>0.0</td>\n",
       "      <td>2.000000</td>\n",
       "      <td>42332.000000</td>\n",
       "      <td>...</td>\n",
       "      <td>1.000000</td>\n",
       "      <td>2.000000</td>\n",
       "      <td>0.0</td>\n",
       "      <td>2.000000</td>\n",
       "      <td>4.000000</td>\n",
       "      <td>1.000000</td>\n",
       "      <td>1.000000</td>\n",
       "      <td>1.000000</td>\n",
       "      <td>0.0</td>\n",
       "      <td>2.000000</td>\n",
       "    </tr>\n",
       "    <tr>\n",
       "      <th>synth_perc</th>\n",
       "      <td>0.0</td>\n",
       "      <td>0.000173</td>\n",
       "      <td>0.000172</td>\n",
       "      <td>0.000775</td>\n",
       "      <td>0.008547</td>\n",
       "      <td>0.000608</td>\n",
       "      <td>0.000753</td>\n",
       "      <td>0.0</td>\n",
       "      <td>0.002924</td>\n",
       "      <td>0.916594</td>\n",
       "      <td>...</td>\n",
       "      <td>0.002242</td>\n",
       "      <td>0.001222</td>\n",
       "      <td>0.0</td>\n",
       "      <td>0.002086</td>\n",
       "      <td>0.000705</td>\n",
       "      <td>0.002299</td>\n",
       "      <td>0.003226</td>\n",
       "      <td>0.000149</td>\n",
       "      <td>0.0</td>\n",
       "      <td>0.021505</td>\n",
       "    </tr>\n",
       "  </tbody>\n",
       "</table>\n",
       "<p>5 rows × 858 columns</p>\n",
       "</div>"
      ],
      "text/plain": [
       "            12201.BLANK.A2.microbiome2.C  12201.BLANK.A2.microbiome20.C  \\\n",
       "#OTU ID                                                                   \n",
       "GA5501_11                            0.0                       2.000000   \n",
       "TB5501_10                            0.0                       0.000000   \n",
       "Unassigned                         372.0                   11548.000000   \n",
       "synth_sum                            0.0                       2.000000   \n",
       "synth_perc                           0.0                       0.000173   \n",
       "\n",
       "            12201.BLANK.A2.qiagen.C  12201.BLANK.A3.microbiome20.H  \\\n",
       "#OTU ID                                                              \n",
       "GA5501_11                  0.000000                       5.000000   \n",
       "TB5501_10                  0.000000                       0.000000   \n",
       "Unassigned              5821.000000                   32219.000000   \n",
       "synth_sum                  1.000000                      25.000000   \n",
       "synth_perc                 0.000172                       0.000775   \n",
       "\n",
       "            12201.BLANK.C10.microbiome2.C  12201.BLANK.C10.microbiome20.C  \\\n",
       "#OTU ID                                                                     \n",
       "GA5501_11                        0.000000                        4.000000   \n",
       "TB5501_10                        0.000000                        1.000000   \n",
       "Unassigned                     464.000000                    26304.000000   \n",
       "synth_sum                        4.000000                       16.000000   \n",
       "synth_perc                       0.008547                        0.000608   \n",
       "\n",
       "            12201.BLANK.C10.qiagen.C  12201.BLANK.C5.microbiome2.C  \\\n",
       "#OTU ID                                                              \n",
       "GA5501_11                   0.000000                           0.0   \n",
       "TB5501_10                   2.000000                           0.0   \n",
       "Unassigned               9291.000000                         953.0   \n",
       "synth_sum                   7.000000                           0.0   \n",
       "synth_perc                  0.000753                           0.0   \n",
       "\n",
       "            12201.BLANK.C5.qiagen.C  12201.BLANK.C7.microbiome20.H  ...  \\\n",
       "#OTU ID                                                             ...   \n",
       "GA5501_11                  0.000000                       2.000000  ...   \n",
       "TB5501_10                  0.000000                       1.000000  ...   \n",
       "Unassigned               682.000000                    3852.000000  ...   \n",
       "synth_sum                  2.000000                   42332.000000  ...   \n",
       "synth_perc                 0.002924                       0.916594  ...   \n",
       "\n",
       "            12201.BLANK.D10.qiagen.H  12201.bacsu.d8.1.qiagen.L  \\\n",
       "#OTU ID                                                           \n",
       "GA5501_11                   0.000000                   1.000000   \n",
       "TB5501_10                   0.000000                   0.000000   \n",
       "Unassigned                445.000000                1635.000000   \n",
       "synth_sum                   1.000000                   2.000000   \n",
       "synth_perc                  0.002242                   0.001222   \n",
       "\n",
       "            12201.built.doorknob.A.2.qiagen.L  12201.para.d7.2.qiagen.L  \\\n",
       "#OTU ID                                                                   \n",
       "GA5501_11                                 0.0                  1.000000   \n",
       "TB5501_10                                 0.0                  0.000000   \n",
       "Unassigned                             2026.0                957.000000   \n",
       "synth_sum                                 0.0                  2.000000   \n",
       "synth_perc                                0.0                  0.002086   \n",
       "\n",
       "            12201.uriF.D.1.microbiome2.L  12201.uriM.A.1.microbiome20.L  \\\n",
       "#OTU ID                                                                   \n",
       "GA5501_11                       0.000000                       0.000000   \n",
       "TB5501_10                       0.000000                       1.000000   \n",
       "Unassigned                   5671.000000                     434.000000   \n",
       "synth_sum                       4.000000                       1.000000   \n",
       "synth_perc                      0.000705                       0.002299   \n",
       "\n",
       "            12201.uriM.A.2.microbiome2.L  \\\n",
       "#OTU ID                                    \n",
       "GA5501_11                       0.000000   \n",
       "TB5501_10                       0.000000   \n",
       "Unassigned                    309.000000   \n",
       "synth_sum                       1.000000   \n",
       "synth_perc                      0.003226   \n",
       "\n",
       "            12201.food.sourkraut.1.2.microbiome2.H  \\\n",
       "#OTU ID                                              \n",
       "GA5501_11                                 0.000000   \n",
       "TB5501_10                                 0.000000   \n",
       "Unassigned                             6710.000000   \n",
       "synth_sum                                 1.000000   \n",
       "synth_perc                                0.000149   \n",
       "\n",
       "            12201.uriM.A.3.microbiome20.L  12201.stool.mouse.S.3.microbiome2.H  \n",
       "#OTU ID                                                                         \n",
       "GA5501_11                             0.0                             0.000000  \n",
       "TB5501_10                             0.0                             0.000000  \n",
       "Unassigned                          541.0                            91.000000  \n",
       "synth_sum                             0.0                             2.000000  \n",
       "synth_perc                            0.0                             0.021505  \n",
       "\n",
       "[5 rows x 858 columns]"
      ]
     },
     "execution_count": 63,
     "metadata": {},
     "output_type": "execute_result"
    }
   ],
   "source": [
    "biom_collapsed_with_sums.tail()"
   ]
  },
  {
   "cell_type": "code",
   "execution_count": 64,
   "metadata": {},
   "outputs": [],
   "source": [
    "biom_collapsed_with_sums_transposed = biom_collapsed_with_sums.T"
   ]
  },
  {
   "cell_type": "code",
   "execution_count": 65,
   "metadata": {},
   "outputs": [
    {
     "data": {
      "text/html": [
       "<div>\n",
       "<style scoped>\n",
       "    .dataframe tbody tr th:only-of-type {\n",
       "        vertical-align: middle;\n",
       "    }\n",
       "\n",
       "    .dataframe tbody tr th {\n",
       "        vertical-align: top;\n",
       "    }\n",
       "\n",
       "    .dataframe thead th {\n",
       "        text-align: right;\n",
       "    }\n",
       "</style>\n",
       "<table border=\"1\" class=\"dataframe\">\n",
       "  <thead>\n",
       "    <tr style=\"text-align: right;\">\n",
       "      <th>#OTU ID</th>\n",
       "      <th>BV5501_09</th>\n",
       "      <th>CA5501_12</th>\n",
       "      <th>EC5001_01</th>\n",
       "      <th>EC5002_02</th>\n",
       "      <th>EC5003_03</th>\n",
       "      <th>EC5004_04</th>\n",
       "      <th>EC5005_05</th>\n",
       "      <th>EC5501_07</th>\n",
       "      <th>EC5502_08</th>\n",
       "      <th>EC6001_06</th>\n",
       "      <th>GA5501_11</th>\n",
       "      <th>TB5501_10</th>\n",
       "      <th>Unassigned</th>\n",
       "      <th>synth_sum</th>\n",
       "      <th>synth_perc</th>\n",
       "    </tr>\n",
       "  </thead>\n",
       "  <tbody>\n",
       "    <tr>\n",
       "      <th>12201.BLANK.A2.microbiome2.C</th>\n",
       "      <td>0.0</td>\n",
       "      <td>0.0</td>\n",
       "      <td>0.0</td>\n",
       "      <td>0.0</td>\n",
       "      <td>0.0</td>\n",
       "      <td>0.0</td>\n",
       "      <td>0.0</td>\n",
       "      <td>0.0</td>\n",
       "      <td>0.0</td>\n",
       "      <td>0.0</td>\n",
       "      <td>0.0</td>\n",
       "      <td>0.0</td>\n",
       "      <td>372.0</td>\n",
       "      <td>0.0</td>\n",
       "      <td>0.000000</td>\n",
       "    </tr>\n",
       "    <tr>\n",
       "      <th>12201.BLANK.A2.microbiome20.C</th>\n",
       "      <td>0.0</td>\n",
       "      <td>0.0</td>\n",
       "      <td>0.0</td>\n",
       "      <td>0.0</td>\n",
       "      <td>0.0</td>\n",
       "      <td>0.0</td>\n",
       "      <td>0.0</td>\n",
       "      <td>0.0</td>\n",
       "      <td>0.0</td>\n",
       "      <td>0.0</td>\n",
       "      <td>2.0</td>\n",
       "      <td>0.0</td>\n",
       "      <td>11548.0</td>\n",
       "      <td>2.0</td>\n",
       "      <td>0.000173</td>\n",
       "    </tr>\n",
       "    <tr>\n",
       "      <th>12201.BLANK.A2.qiagen.C</th>\n",
       "      <td>0.0</td>\n",
       "      <td>0.0</td>\n",
       "      <td>0.0</td>\n",
       "      <td>0.0</td>\n",
       "      <td>1.0</td>\n",
       "      <td>0.0</td>\n",
       "      <td>0.0</td>\n",
       "      <td>0.0</td>\n",
       "      <td>0.0</td>\n",
       "      <td>0.0</td>\n",
       "      <td>0.0</td>\n",
       "      <td>0.0</td>\n",
       "      <td>5821.0</td>\n",
       "      <td>1.0</td>\n",
       "      <td>0.000172</td>\n",
       "    </tr>\n",
       "    <tr>\n",
       "      <th>12201.BLANK.A3.microbiome20.H</th>\n",
       "      <td>1.0</td>\n",
       "      <td>13.0</td>\n",
       "      <td>0.0</td>\n",
       "      <td>0.0</td>\n",
       "      <td>0.0</td>\n",
       "      <td>0.0</td>\n",
       "      <td>1.0</td>\n",
       "      <td>1.0</td>\n",
       "      <td>4.0</td>\n",
       "      <td>0.0</td>\n",
       "      <td>5.0</td>\n",
       "      <td>0.0</td>\n",
       "      <td>32219.0</td>\n",
       "      <td>25.0</td>\n",
       "      <td>0.000775</td>\n",
       "    </tr>\n",
       "    <tr>\n",
       "      <th>12201.BLANK.C10.microbiome2.C</th>\n",
       "      <td>0.0</td>\n",
       "      <td>0.0</td>\n",
       "      <td>0.0</td>\n",
       "      <td>0.0</td>\n",
       "      <td>0.0</td>\n",
       "      <td>0.0</td>\n",
       "      <td>0.0</td>\n",
       "      <td>1.0</td>\n",
       "      <td>3.0</td>\n",
       "      <td>0.0</td>\n",
       "      <td>0.0</td>\n",
       "      <td>0.0</td>\n",
       "      <td>464.0</td>\n",
       "      <td>4.0</td>\n",
       "      <td>0.008547</td>\n",
       "    </tr>\n",
       "  </tbody>\n",
       "</table>\n",
       "</div>"
      ],
      "text/plain": [
       "#OTU ID                        BV5501_09  CA5501_12  EC5001_01  EC5002_02  \\\n",
       "12201.BLANK.A2.microbiome2.C         0.0        0.0        0.0        0.0   \n",
       "12201.BLANK.A2.microbiome20.C        0.0        0.0        0.0        0.0   \n",
       "12201.BLANK.A2.qiagen.C              0.0        0.0        0.0        0.0   \n",
       "12201.BLANK.A3.microbiome20.H        1.0       13.0        0.0        0.0   \n",
       "12201.BLANK.C10.microbiome2.C        0.0        0.0        0.0        0.0   \n",
       "\n",
       "#OTU ID                        EC5003_03  EC5004_04  EC5005_05  EC5501_07  \\\n",
       "12201.BLANK.A2.microbiome2.C         0.0        0.0        0.0        0.0   \n",
       "12201.BLANK.A2.microbiome20.C        0.0        0.0        0.0        0.0   \n",
       "12201.BLANK.A2.qiagen.C              1.0        0.0        0.0        0.0   \n",
       "12201.BLANK.A3.microbiome20.H        0.0        0.0        1.0        1.0   \n",
       "12201.BLANK.C10.microbiome2.C        0.0        0.0        0.0        1.0   \n",
       "\n",
       "#OTU ID                        EC5502_08  EC6001_06  GA5501_11  TB5501_10  \\\n",
       "12201.BLANK.A2.microbiome2.C         0.0        0.0        0.0        0.0   \n",
       "12201.BLANK.A2.microbiome20.C        0.0        0.0        2.0        0.0   \n",
       "12201.BLANK.A2.qiagen.C              0.0        0.0        0.0        0.0   \n",
       "12201.BLANK.A3.microbiome20.H        4.0        0.0        5.0        0.0   \n",
       "12201.BLANK.C10.microbiome2.C        3.0        0.0        0.0        0.0   \n",
       "\n",
       "#OTU ID                        Unassigned  synth_sum  synth_perc  \n",
       "12201.BLANK.A2.microbiome2.C        372.0        0.0    0.000000  \n",
       "12201.BLANK.A2.microbiome20.C     11548.0        2.0    0.000173  \n",
       "12201.BLANK.A2.qiagen.C            5821.0        1.0    0.000172  \n",
       "12201.BLANK.A3.microbiome20.H     32219.0       25.0    0.000775  \n",
       "12201.BLANK.C10.microbiome2.C       464.0        4.0    0.008547  "
      ]
     },
     "execution_count": 65,
     "metadata": {},
     "output_type": "execute_result"
    }
   ],
   "source": [
    "biom_collapsed_with_sums_transposed.head()"
   ]
  },
  {
   "cell_type": "code",
   "execution_count": 66,
   "metadata": {},
   "outputs": [],
   "source": [
    "md_with_biom_and_sums = pd.merge(biom_collapsed_with_sums_transposed, md, left_index=True, right_index=True)"
   ]
  },
  {
   "cell_type": "code",
   "execution_count": 67,
   "metadata": {},
   "outputs": [
    {
     "data": {
      "text/html": [
       "<div>\n",
       "<style scoped>\n",
       "    .dataframe tbody tr th:only-of-type {\n",
       "        vertical-align: middle;\n",
       "    }\n",
       "\n",
       "    .dataframe tbody tr th {\n",
       "        vertical-align: top;\n",
       "    }\n",
       "\n",
       "    .dataframe thead th {\n",
       "        text-align: right;\n",
       "    }\n",
       "</style>\n",
       "<table border=\"1\" class=\"dataframe\">\n",
       "  <thead>\n",
       "    <tr style=\"text-align: right;\">\n",
       "      <th></th>\n",
       "      <th>BV5501_09</th>\n",
       "      <th>CA5501_12</th>\n",
       "      <th>EC5001_01</th>\n",
       "      <th>EC5002_02</th>\n",
       "      <th>EC5003_03</th>\n",
       "      <th>EC5004_04</th>\n",
       "      <th>EC5005_05</th>\n",
       "      <th>EC5501_07</th>\n",
       "      <th>EC5502_08</th>\n",
       "      <th>EC6001_06</th>\n",
       "      <th>...</th>\n",
       "      <th>sample_type_2</th>\n",
       "      <th>sample_type_3</th>\n",
       "      <th>host_subject_id</th>\n",
       "      <th>scientific_name</th>\n",
       "      <th>sex</th>\n",
       "      <th>storage_solution</th>\n",
       "      <th>swab_type</th>\n",
       "      <th>taxon_id</th>\n",
       "      <th>title</th>\n",
       "      <th>unique_sample_id</th>\n",
       "    </tr>\n",
       "  </thead>\n",
       "  <tbody>\n",
       "    <tr>\n",
       "      <th>12201.BLANK.A2.microbiome2.C</th>\n",
       "      <td>0.0</td>\n",
       "      <td>0.0</td>\n",
       "      <td>0.0</td>\n",
       "      <td>0.0</td>\n",
       "      <td>0.0</td>\n",
       "      <td>0.0</td>\n",
       "      <td>0.0</td>\n",
       "      <td>0.0</td>\n",
       "      <td>0.0</td>\n",
       "      <td>0.0</td>\n",
       "      <td>...</td>\n",
       "      <td>PCR extraction control</td>\n",
       "      <td>PCR extraction control</td>\n",
       "      <td>BLANK.A2.microbiome2.C</td>\n",
       "      <td>metagenome</td>\n",
       "      <td>not applicable</td>\n",
       "      <td>not applicable</td>\n",
       "      <td>not applicable</td>\n",
       "      <td>256318</td>\n",
       "      <td>Knight sample set for testing</td>\n",
       "      <td>not collected</td>\n",
       "    </tr>\n",
       "    <tr>\n",
       "      <th>12201.BLANK.A2.microbiome20.C</th>\n",
       "      <td>0.0</td>\n",
       "      <td>0.0</td>\n",
       "      <td>0.0</td>\n",
       "      <td>0.0</td>\n",
       "      <td>0.0</td>\n",
       "      <td>0.0</td>\n",
       "      <td>0.0</td>\n",
       "      <td>0.0</td>\n",
       "      <td>0.0</td>\n",
       "      <td>0.0</td>\n",
       "      <td>...</td>\n",
       "      <td>PCR extraction control</td>\n",
       "      <td>PCR extraction control</td>\n",
       "      <td>BLANK.A2.microbiome.20.C</td>\n",
       "      <td>metagenome</td>\n",
       "      <td>not applicable</td>\n",
       "      <td>not applicable</td>\n",
       "      <td>not applicable</td>\n",
       "      <td>256318</td>\n",
       "      <td>Knight sample set for testing</td>\n",
       "      <td>not collected</td>\n",
       "    </tr>\n",
       "    <tr>\n",
       "      <th>12201.BLANK.A2.qiagen.C</th>\n",
       "      <td>0.0</td>\n",
       "      <td>0.0</td>\n",
       "      <td>0.0</td>\n",
       "      <td>0.0</td>\n",
       "      <td>1.0</td>\n",
       "      <td>0.0</td>\n",
       "      <td>0.0</td>\n",
       "      <td>0.0</td>\n",
       "      <td>0.0</td>\n",
       "      <td>0.0</td>\n",
       "      <td>...</td>\n",
       "      <td>PCR extraction control</td>\n",
       "      <td>PCR extraction control</td>\n",
       "      <td>BLANK.A2.standard.C</td>\n",
       "      <td>metagenome</td>\n",
       "      <td>not applicable</td>\n",
       "      <td>not applicable</td>\n",
       "      <td>not applicable</td>\n",
       "      <td>256318</td>\n",
       "      <td>Knight sample set for testing</td>\n",
       "      <td>not collected</td>\n",
       "    </tr>\n",
       "    <tr>\n",
       "      <th>12201.BLANK.A3.microbiome20.H</th>\n",
       "      <td>1.0</td>\n",
       "      <td>13.0</td>\n",
       "      <td>0.0</td>\n",
       "      <td>0.0</td>\n",
       "      <td>0.0</td>\n",
       "      <td>0.0</td>\n",
       "      <td>1.0</td>\n",
       "      <td>1.0</td>\n",
       "      <td>4.0</td>\n",
       "      <td>0.0</td>\n",
       "      <td>...</td>\n",
       "      <td>PCR extraction control</td>\n",
       "      <td>PCR extraction control</td>\n",
       "      <td>BLANK.A3.microbiome.20.H</td>\n",
       "      <td>metagenome</td>\n",
       "      <td>not applicable</td>\n",
       "      <td>not applicable</td>\n",
       "      <td>not applicable</td>\n",
       "      <td>256318</td>\n",
       "      <td>Knight sample set for testing</td>\n",
       "      <td>not collected</td>\n",
       "    </tr>\n",
       "    <tr>\n",
       "      <th>12201.BLANK.C10.microbiome2.C</th>\n",
       "      <td>0.0</td>\n",
       "      <td>0.0</td>\n",
       "      <td>0.0</td>\n",
       "      <td>0.0</td>\n",
       "      <td>0.0</td>\n",
       "      <td>0.0</td>\n",
       "      <td>0.0</td>\n",
       "      <td>1.0</td>\n",
       "      <td>3.0</td>\n",
       "      <td>0.0</td>\n",
       "      <td>...</td>\n",
       "      <td>PCR extraction control</td>\n",
       "      <td>PCR extraction control</td>\n",
       "      <td>BLANK.C10.microbiome2.C</td>\n",
       "      <td>metagenome</td>\n",
       "      <td>not applicable</td>\n",
       "      <td>not applicable</td>\n",
       "      <td>not applicable</td>\n",
       "      <td>256318</td>\n",
       "      <td>Knight sample set for testing</td>\n",
       "      <td>not collected</td>\n",
       "    </tr>\n",
       "  </tbody>\n",
       "</table>\n",
       "<p>5 rows × 90 columns</p>\n",
       "</div>"
      ],
      "text/plain": [
       "                               BV5501_09  CA5501_12  EC5001_01  EC5002_02  \\\n",
       "12201.BLANK.A2.microbiome2.C         0.0        0.0        0.0        0.0   \n",
       "12201.BLANK.A2.microbiome20.C        0.0        0.0        0.0        0.0   \n",
       "12201.BLANK.A2.qiagen.C              0.0        0.0        0.0        0.0   \n",
       "12201.BLANK.A3.microbiome20.H        1.0       13.0        0.0        0.0   \n",
       "12201.BLANK.C10.microbiome2.C        0.0        0.0        0.0        0.0   \n",
       "\n",
       "                               EC5003_03  EC5004_04  EC5005_05  EC5501_07  \\\n",
       "12201.BLANK.A2.microbiome2.C         0.0        0.0        0.0        0.0   \n",
       "12201.BLANK.A2.microbiome20.C        0.0        0.0        0.0        0.0   \n",
       "12201.BLANK.A2.qiagen.C              1.0        0.0        0.0        0.0   \n",
       "12201.BLANK.A3.microbiome20.H        0.0        0.0        1.0        1.0   \n",
       "12201.BLANK.C10.microbiome2.C        0.0        0.0        0.0        1.0   \n",
       "\n",
       "                               EC5502_08  EC6001_06  ...  \\\n",
       "12201.BLANK.A2.microbiome2.C         0.0        0.0  ...   \n",
       "12201.BLANK.A2.microbiome20.C        0.0        0.0  ...   \n",
       "12201.BLANK.A2.qiagen.C              0.0        0.0  ...   \n",
       "12201.BLANK.A3.microbiome20.H        4.0        0.0  ...   \n",
       "12201.BLANK.C10.microbiome2.C        3.0        0.0  ...   \n",
       "\n",
       "                                        sample_type_2           sample_type_3  \\\n",
       "12201.BLANK.A2.microbiome2.C   PCR extraction control  PCR extraction control   \n",
       "12201.BLANK.A2.microbiome20.C  PCR extraction control  PCR extraction control   \n",
       "12201.BLANK.A2.qiagen.C        PCR extraction control  PCR extraction control   \n",
       "12201.BLANK.A3.microbiome20.H  PCR extraction control  PCR extraction control   \n",
       "12201.BLANK.C10.microbiome2.C  PCR extraction control  PCR extraction control   \n",
       "\n",
       "                                        host_subject_id  scientific_name  \\\n",
       "12201.BLANK.A2.microbiome2.C     BLANK.A2.microbiome2.C       metagenome   \n",
       "12201.BLANK.A2.microbiome20.C  BLANK.A2.microbiome.20.C       metagenome   \n",
       "12201.BLANK.A2.qiagen.C             BLANK.A2.standard.C       metagenome   \n",
       "12201.BLANK.A3.microbiome20.H  BLANK.A3.microbiome.20.H       metagenome   \n",
       "12201.BLANK.C10.microbiome2.C   BLANK.C10.microbiome2.C       metagenome   \n",
       "\n",
       "                                          sex storage_solution  \\\n",
       "12201.BLANK.A2.microbiome2.C   not applicable   not applicable   \n",
       "12201.BLANK.A2.microbiome20.C  not applicable   not applicable   \n",
       "12201.BLANK.A2.qiagen.C        not applicable   not applicable   \n",
       "12201.BLANK.A3.microbiome20.H  not applicable   not applicable   \n",
       "12201.BLANK.C10.microbiome2.C  not applicable   not applicable   \n",
       "\n",
       "                                    swab_type taxon_id  \\\n",
       "12201.BLANK.A2.microbiome2.C   not applicable   256318   \n",
       "12201.BLANK.A2.microbiome20.C  not applicable   256318   \n",
       "12201.BLANK.A2.qiagen.C        not applicable   256318   \n",
       "12201.BLANK.A3.microbiome20.H  not applicable   256318   \n",
       "12201.BLANK.C10.microbiome2.C  not applicable   256318   \n",
       "\n",
       "                                                       title unique_sample_id  \n",
       "12201.BLANK.A2.microbiome2.C   Knight sample set for testing    not collected  \n",
       "12201.BLANK.A2.microbiome20.C  Knight sample set for testing    not collected  \n",
       "12201.BLANK.A2.qiagen.C        Knight sample set for testing    not collected  \n",
       "12201.BLANK.A3.microbiome20.H  Knight sample set for testing    not collected  \n",
       "12201.BLANK.C10.microbiome2.C  Knight sample set for testing    not collected  \n",
       "\n",
       "[5 rows x 90 columns]"
      ]
     },
     "execution_count": 67,
     "metadata": {},
     "output_type": "execute_result"
    }
   ],
   "source": [
    "md_with_biom_and_sums.head()"
   ]
  },
  {
   "cell_type": "code",
   "execution_count": 68,
   "metadata": {},
   "outputs": [],
   "source": [
    "# Export metadata with BIOM table and synthetic plasmid sums\n",
    "md_with_biom_and_sums.to_csv('synthetic_plasmid_results_updated.csv', index = 1)\n"
   ]
  },
  {
   "cell_type": "code",
   "execution_count": 69,
   "metadata": {},
   "outputs": [
    {
     "data": {
      "text/plain": [
       "array(['COVID-19', 'high', 'low'], dtype=object)"
      ]
     },
     "execution_count": 69,
     "metadata": {},
     "output_type": "execute_result"
    }
   ],
   "source": [
    "# Double-check levels for 'biomass_plate'\n",
    "md_with_biom_and_sums.biomass_plate.unique()\n"
   ]
  },
  {
   "cell_type": "code",
   "execution_count": 70,
   "metadata": {},
   "outputs": [
    {
     "data": {
      "image/png": "[encoded data removed]",
      "text/plain": [
       "<Figure size 432x288 with 1 Axes>"
      ]
     },
     "metadata": {
      "needs_background": "light"
     },
     "output_type": "display_data"
    }
   ],
   "source": [
    "# OK good! The synth plasmids are in the high biomass plates more than the low biomass and COVID \n",
    "# plates (as expected since we only put into the high biomass plate)\n",
    "plot_plasmids_across_plates = sns.boxplot(x = 'biomass_plate', y = 'synth_sum', data = md_with_biom_and_sums)\n",
    "plot_plasmids_across_plates.set_yscale('log')\n"
   ]
  },
  {
   "cell_type": "code",
   "execution_count": null,
   "metadata": {},
   "outputs": [],
   "source": [
    "## Justin stopped here\n"
   ]
  },
  {
   "cell_type": "markdown",
   "metadata": {},
   "source": [
    "## Convert to format for making heatmaps in excel"
   ]
  },
  {
   "cell_type": "code",
   "execution_count": 44,
   "metadata": {},
   "outputs": [],
   "source": [
    "# deal with A1 vs A01\n",
    "plate = pd.read_csv('well-to-plate.txt', sep='\\t', index_col=0)\n",
    "plate.sort_index(inplace=True)"
   ]
  },
  {
   "cell_type": "code",
   "execution_count": 45,
   "metadata": {},
   "outputs": [
    {
     "name": "stderr",
     "output_type": "stream",
     "text": [
      "/Users/lisamarotz/miniconda2/envs/qiime2-2020.6/lib/python3.6/site-packages/ipykernel_launcher.py:15: SettingWithCopyWarning: \n",
      "A value is trying to be set on a copy of a slice from a DataFrame.\n",
      "Try using .loc[row_indexer,col_indexer] = value instead\n",
      "\n",
      "See the caveats in the documentation: http://pandas.pydata.org/pandas-docs/stable/user_guide/indexing.html#returning-a-view-versus-a-copy\n",
      "  from ipykernel import kernelapp as app\n"
     ]
    },
    {
     "data": {
      "text/plain": [
       "0.3411764705882353"
      ]
     },
     "execution_count": 45,
     "metadata": {},
     "output_type": "execute_result"
    }
   ],
   "source": [
    "#pull out just one plate\n",
    "std = mefil[(mefil['extraction_kit_id']=='norgen')&\n",
    "            (mefil['biomass']=='high')]\n",
    "#pull out columns you need\n",
    "std = std[['synth_sum', 'gdna_well_id', 'synth_perc']]\n",
    "# rename index\n",
    "std.set_index('gdna_well_id', inplace=True)\n",
    "std.sort_index(inplace=True)\n",
    "# take care of A1 v A01 with well-to-plate.txt\n",
    "mapit = plate.join(std)\n",
    "mapit.sort_values(by='Map', inplace=True)\n",
    "# remove wells where you spiked in plasmid\n",
    "ecto = mapit[(mapit['Map']!='E01')&(mapit['Map']!='G02')&(mapit['Map']!='A03')&(mapit['Map']!='D04')&(mapit['Map']!='H05')&(mapit['Map']!='B06')&(mapit['Map']!='F07')&(mapit['Map']!='C08')&(mapit['Map']!='H09')&(mapit['Map']!='E10')&(mapit['Map']!='A11')]\n",
    "# determine how many sample wells had snythetic plasmid\n",
    "ecto['preabs'] = np.where(ecto['synth_sum']>0, 1, 0)\n",
    "# what percentage of samples had contamination? 85 samples total (other 11 had plasmid spike-in)\n",
    "ecto['preabs'].sum() / 85"
   ]
  },
  {
   "cell_type": "code",
   "execution_count": 46,
   "metadata": {},
   "outputs": [
    {
     "data": {
      "text/plain": [
       "8.512310075378255e-05"
      ]
     },
     "execution_count": 46,
     "metadata": {},
     "output_type": "execute_result"
    }
   ],
   "source": [
    "# of the samples that had contamination, what percentage of the reads were synthetic plasmids?\n",
    "ecto[ecto['preabs']==1].synth_perc.mean()"
   ]
  },
  {
   "cell_type": "code",
   "execution_count": 47,
   "metadata": {},
   "outputs": [],
   "source": [
    "#### Repeat two cells above across all the differen plates"
   ]
  },
  {
   "cell_type": "code",
   "execution_count": 48,
   "metadata": {
    "scrolled": true
   },
   "outputs": [
    {
     "name": "stderr",
     "output_type": "stream",
     "text": [
      "/Users/lisamarotz/miniconda2/envs/qiime2-2020.6/lib/python3.6/site-packages/ipykernel_launcher.py:15: SettingWithCopyWarning: \n",
      "A value is trying to be set on a copy of a slice from a DataFrame.\n",
      "Try using .loc[row_indexer,col_indexer] = value instead\n",
      "\n",
      "See the caveats in the documentation: http://pandas.pydata.org/pandas-docs/stable/user_guide/indexing.html#returning-a-view-versus-a-copy\n",
      "  from ipykernel import kernelapp as app\n"
     ]
    },
    {
     "data": {
      "text/plain": [
       "0.5176470588235295"
      ]
     },
     "execution_count": 48,
     "metadata": {},
     "output_type": "execute_result"
    }
   ],
   "source": [
    "#pull out just one plate\n",
    "std = mefil[(mefil['extraction_kit_id']=='standard')&\n",
    "            (mefil['biomass']=='high')]\n",
    "#pull out columns you need\n",
    "std = std[['synth_sum', 'gdna_well_id', 'synth_perc']]\n",
    "# rename index\n",
    "std.set_index('gdna_well_id', inplace=True)\n",
    "std.sort_index(inplace=True)\n",
    "\n",
    "mapit = plate.join(std)\n",
    "mapit.sort_values(by='Map', inplace=True)\n",
    "\n",
    "ecto = mapit[(mapit['Map']!='E01')&(mapit['Map']!='G02')&(mapit['Map']!='A03')&(mapit['Map']!='D04')&(mapit['Map']!='H05')&(mapit['Map']!='B06')&(mapit['Map']!='F07')&(mapit['Map']!='C08')&(mapit['Map']!='H09')&(mapit['Map']!='E10')&(mapit['Map']!='A11')]\n",
    "\n",
    "ecto['preabs'] = np.where(ecto['synth_sum']>0, 1, 0)\n",
    "ecto['preabs'].sum() / 85"
   ]
  },
  {
   "cell_type": "code",
   "execution_count": 49,
   "metadata": {},
   "outputs": [
    {
     "data": {
      "text/plain": [
       "0.016725024393412388"
      ]
     },
     "execution_count": 49,
     "metadata": {},
     "output_type": "execute_result"
    }
   ],
   "source": [
    "ecto[ecto['preabs']==1].synth_perc.mean()"
   ]
  },
  {
   "cell_type": "code",
   "execution_count": 50,
   "metadata": {
    "scrolled": false
   },
   "outputs": [
    {
     "name": "stderr",
     "output_type": "stream",
     "text": [
      "/Users/lisamarotz/miniconda2/envs/qiime2-2020.6/lib/python3.6/site-packages/ipykernel_launcher.py:15: SettingWithCopyWarning: \n",
      "A value is trying to be set on a copy of a slice from a DataFrame.\n",
      "Try using .loc[row_indexer,col_indexer] = value instead\n",
      "\n",
      "See the caveats in the documentation: http://pandas.pydata.org/pandas-docs/stable/user_guide/indexing.html#returning-a-view-versus-a-copy\n",
      "  from ipykernel import kernelapp as app\n"
     ]
    },
    {
     "data": {
      "text/plain": [
       "0.6235294117647059"
      ]
     },
     "execution_count": 50,
     "metadata": {},
     "output_type": "execute_result"
    }
   ],
   "source": [
    "#pull out just one plate\n",
    "std = mefil[(mefil['extraction_kit_id']=='zymo')&\n",
    "            (mefil['biomass']=='high')]\n",
    "#pull out columns you need\n",
    "std = std[['synth_sum', 'gdna_well_id', 'synth_perc']]\n",
    "# rename index\n",
    "std.set_index('gdna_well_id', inplace=True)\n",
    "std.sort_index(inplace=True)\n",
    "\n",
    "mapit = plate.join(std)\n",
    "mapit.sort_values(by='Map', inplace=True)\n",
    "\n",
    "ecto = mapit[(mapit['Map']!='E01')&(mapit['Map']!='G02')&(mapit['Map']!='A03')&(mapit['Map']!='D04')&(mapit['Map']!='H05')&(mapit['Map']!='B06')&(mapit['Map']!='F07')&(mapit['Map']!='C08')&(mapit['Map']!='H09')&(mapit['Map']!='E10')&(mapit['Map']!='A11')]\n",
    "\n",
    "ecto['preabs'] = np.where(ecto['synth_sum']>0, 1, 0)\n",
    "ecto['preabs'].sum() / 85"
   ]
  },
  {
   "cell_type": "code",
   "execution_count": 51,
   "metadata": {},
   "outputs": [
    {
     "data": {
      "text/plain": [
       "0.006004607923513195"
      ]
     },
     "execution_count": 51,
     "metadata": {},
     "output_type": "execute_result"
    }
   ],
   "source": [
    "ecto[ecto['preabs']==1].synth_perc.mean()"
   ]
  },
  {
   "cell_type": "code",
   "execution_count": 52,
   "metadata": {
    "scrolled": true
   },
   "outputs": [
    {
     "name": "stderr",
     "output_type": "stream",
     "text": [
      "/Users/lisamarotz/miniconda2/envs/qiime2-2020.6/lib/python3.6/site-packages/ipykernel_launcher.py:15: SettingWithCopyWarning: \n",
      "A value is trying to be set on a copy of a slice from a DataFrame.\n",
      "Try using .loc[row_indexer,col_indexer] = value instead\n",
      "\n",
      "See the caveats in the documentation: http://pandas.pydata.org/pandas-docs/stable/user_guide/indexing.html#returning-a-view-versus-a-copy\n",
      "  from ipykernel import kernelapp as app\n"
     ]
    },
    {
     "data": {
      "text/plain": [
       "0.7294117647058823"
      ]
     },
     "execution_count": 52,
     "metadata": {},
     "output_type": "execute_result"
    }
   ],
   "source": [
    "#pull out just one plate\n",
    "std = mefil[(mefil['extraction_kit_id']=='magmax')&\n",
    "            (mefil['biomass']=='high')]\n",
    "#pull out columns you need\n",
    "std = std[['synth_sum', 'gdna_well_id', 'synth_perc']]\n",
    "# rename index\n",
    "std.set_index('gdna_well_id', inplace=True)\n",
    "std.sort_index(inplace=True)\n",
    "\n",
    "mapit = plate.join(std)\n",
    "mapit.sort_values(by='Map', inplace=True)\n",
    "\n",
    "ecto = mapit[(mapit['Map']!='E01')&(mapit['Map']!='G02')&(mapit['Map']!='A03')&(mapit['Map']!='D04')&(mapit['Map']!='H05')&(mapit['Map']!='B06')&(mapit['Map']!='F07')&(mapit['Map']!='C08')&(mapit['Map']!='H09')&(mapit['Map']!='E10')&(mapit['Map']!='A11')]\n",
    "\n",
    "ecto['preabs'] = np.where(ecto['synth_sum']>0, 1, 0)\n",
    "ecto['preabs'].sum() / 85"
   ]
  },
  {
   "cell_type": "code",
   "execution_count": 53,
   "metadata": {},
   "outputs": [
    {
     "data": {
      "text/plain": [
       "0.001451752704454488"
      ]
     },
     "execution_count": 53,
     "metadata": {},
     "output_type": "execute_result"
    }
   ],
   "source": [
    "ecto[ecto['preabs']==1].synth_perc.mean()"
   ]
  },
  {
   "cell_type": "code",
   "execution_count": 54,
   "metadata": {
    "scrolled": false
   },
   "outputs": [
    {
     "name": "stderr",
     "output_type": "stream",
     "text": [
      "/Users/lisamarotz/miniconda2/envs/qiime2-2020.6/lib/python3.6/site-packages/ipykernel_launcher.py:15: SettingWithCopyWarning: \n",
      "A value is trying to be set on a copy of a slice from a DataFrame.\n",
      "Try using .loc[row_indexer,col_indexer] = value instead\n",
      "\n",
      "See the caveats in the documentation: http://pandas.pydata.org/pandas-docs/stable/user_guide/indexing.html#returning-a-view-versus-a-copy\n",
      "  from ipykernel import kernelapp as app\n"
     ]
    },
    {
     "data": {
      "text/plain": [
       "0.4470588235294118"
      ]
     },
     "execution_count": 54,
     "metadata": {},
     "output_type": "execute_result"
    }
   ],
   "source": [
    "#pull out just one plate\n",
    "std = mefil[(mefil['extraction_kit_id']=='homebrew')&\n",
    "            (mefil['biomass']=='high')]\n",
    "#pull out columns you need\n",
    "std = std[['synth_sum', 'gdna_well_id', 'synth_perc']]\n",
    "# rename index\n",
    "std.set_index('gdna_well_id', inplace=True)\n",
    "std.sort_index(inplace=True)\n",
    "\n",
    "mapit = plate.join(std)\n",
    "mapit.sort_values(by='Map', inplace=True)\n",
    "\n",
    "ecto = mapit[(mapit['Map']!='E01')&(mapit['Map']!='G02')&(mapit['Map']!='A03')&(mapit['Map']!='D04')&(mapit['Map']!='H05')&(mapit['Map']!='B06')&(mapit['Map']!='F07')&(mapit['Map']!='C08')&(mapit['Map']!='H09')&(mapit['Map']!='E10')&(mapit['Map']!='A11')]\n",
    "\n",
    "ecto['preabs'] = np.where(ecto['synth_sum']>0, 1, 0)\n",
    "ecto['preabs'].sum() / 85"
   ]
  },
  {
   "cell_type": "code",
   "execution_count": 55,
   "metadata": {},
   "outputs": [
    {
     "data": {
      "text/plain": [
       "0.001238529930245385"
      ]
     },
     "execution_count": 55,
     "metadata": {},
     "output_type": "execute_result"
    }
   ],
   "source": [
    "ecto[ecto['preabs']==1].synth_perc.mean()"
   ]
  },
  {
   "cell_type": "code",
   "execution_count": 56,
   "metadata": {
    "scrolled": true
   },
   "outputs": [
    {
     "name": "stderr",
     "output_type": "stream",
     "text": [
      "/Users/lisamarotz/miniconda2/envs/qiime2-2020.6/lib/python3.6/site-packages/ipykernel_launcher.py:15: SettingWithCopyWarning: \n",
      "A value is trying to be set on a copy of a slice from a DataFrame.\n",
      "Try using .loc[row_indexer,col_indexer] = value instead\n",
      "\n",
      "See the caveats in the documentation: http://pandas.pydata.org/pandas-docs/stable/user_guide/indexing.html#returning-a-view-versus-a-copy\n",
      "  from ipykernel import kernelapp as app\n"
     ]
    },
    {
     "data": {
      "text/plain": [
       "0.5176470588235295"
      ]
     },
     "execution_count": 56,
     "metadata": {},
     "output_type": "execute_result"
    }
   ],
   "source": [
    "#pull out just one plate\n",
    "std = mefil[(mefil['extraction_kit_id']=='pro')&\n",
    "            (mefil['biomass']=='high')]\n",
    "#pull out columns you need\n",
    "std = std[['synth_sum', 'gdna_well_id', 'synth_perc']]\n",
    "# rename index\n",
    "std.set_index('gdna_well_id', inplace=True)\n",
    "std.sort_index(inplace=True)\n",
    "\n",
    "mapit = plate.join(std)\n",
    "mapit.sort_values(by='Map', inplace=True)\n",
    "\n",
    "ecto = mapit[(mapit['Map']!='E01')&(mapit['Map']!='G02')&(mapit['Map']!='A03')&(mapit['Map']!='D04')&(mapit['Map']!='H05')&(mapit['Map']!='B06')&(mapit['Map']!='F07')&(mapit['Map']!='C08')&(mapit['Map']!='H09')&(mapit['Map']!='E10')&(mapit['Map']!='A11')]\n",
    "\n",
    "ecto['preabs'] = np.where(ecto['synth_sum']>0, 1, 0)\n",
    "ecto['preabs'].sum() / 85"
   ]
  },
  {
   "cell_type": "code",
   "execution_count": 57,
   "metadata": {},
   "outputs": [
    {
     "data": {
      "text/plain": [
       "0.0010061119340222617"
      ]
     },
     "execution_count": 57,
     "metadata": {},
     "output_type": "execute_result"
    }
   ],
   "source": [
    "ecto[ecto['preabs']==1].synth_perc.mean()"
   ]
  },
  {
   "cell_type": "code",
   "execution_count": null,
   "metadata": {},
   "outputs": [],
   "source": []
  }
 ],
 "metadata": {
  "kernelspec": {
   "display_name": "Python 3",
   "language": "python",
   "name": "python3"
  },
  "language_info": {
   "codemirror_mode": {
    "name": "ipython",
    "version": 3
   },
   "file_extension": ".py",
   "mimetype": "text/x-python",
   "name": "python",
   "nbconvert_exporter": "python",
   "pygments_lexer": "ipython3",
   "version": "3.6.11"
  }
 },
 "nbformat": 4,
 "nbformat_minor": 2
}
