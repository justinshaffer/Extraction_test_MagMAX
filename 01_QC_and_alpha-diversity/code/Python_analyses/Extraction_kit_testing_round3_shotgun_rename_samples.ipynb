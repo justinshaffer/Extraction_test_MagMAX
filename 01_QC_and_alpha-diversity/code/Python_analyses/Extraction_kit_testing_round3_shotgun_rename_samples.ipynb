{
 "cells": [
  {
   "cell_type": "code",
   "execution_count": 2,
   "metadata": {},
   "outputs": [
    {
     "name": "stdout",
     "output_type": "stream",
     "text": [
      "/Users/Justin/Google-Drive-UCSD/UCSD/00_Knight_Lab/03_Extraction_test_12201/round_03_2vs20min/01_shotgun\n"
     ]
    }
   ],
   "source": [
    "cd UCSD/00_Knight_Lab/03_Extraction_test_12201/round_03_2vs20min/01_shotgun/"
   ]
  },
  {
   "cell_type": "code",
   "execution_count": null,
   "metadata": {},
   "outputs": [],
   "source": [
    "biom convert \\\n",
    "  -i gotu_profile.biom \\\n",
    "  -o gotu_profile.tsv \\\n",
    "  --to-tsv\n"
   ]
  },
  {
   "cell_type": "code",
   "execution_count": null,
   "metadata": {},
   "outputs": [],
   "source": [
    "biom convert -i gotu_profile_updated_sampleIDs.tsv -o gotu_profile_updated_sampleIDs.biom --table-type=\"OTU table\" --to-hdf5\n"
   ]
  },
  {
   "cell_type": "code",
   "execution_count": null,
   "metadata": {},
   "outputs": [],
   "source": [
    "qiime tools import \\\n",
    "  --input-path gotu_profile_updated_sampleIDs.biom \\\n",
    "  --type 'FeatureTable[Frequency]' \\\n",
    "  --output-path gotu_profile_updated_sampleIDs.qza\n",
    "    "
   ]
  },
  {
   "cell_type": "code",
   "execution_count": null,
   "metadata": {},
   "outputs": [],
   "source": [
    "qiime feature-table summarize \\\n",
    "  --i-table gotu_profile_updated_sampleIDs.qza \\\n",
    "  --o-visualization gotu_profile_updated_sampleIDs.qzv\n",
    "    "
   ]
  },
  {
   "cell_type": "code",
   "execution_count": null,
   "metadata": {},
   "outputs": [],
   "source": [
    "qiime feature-table rarefy \\\n",
    "  --i-table gotu_profile_updated_sampleIDs.qza \\\n",
    "  --p-sampling-depth 17000 \\\n",
    "  --o-rarefied-table gotu_profile_updated_sampleIDs_rar17K.qza\n",
    "\n",
    "qiime feature-table summarize \\\n",
    "  --i-table gotu_profile_updated_sampleIDs_rar17K.qza \\\n",
    "  --o-visualization gotu_profile_updated_sampleIDs_rar17K.qzv\n"
   ]
  },
  {
   "cell_type": "code",
   "execution_count": null,
   "metadata": {},
   "outputs": [],
   "source": [
    "qiime feature-table filter-samples \\\n",
    "  --i-table gotu_profile_updated_sampleIDs.qza \\\n",
    "  --p-min-frequency 17000 \\\n",
    "  --o-filtered-table gotu_profile_updated_sampleIDs_min17K.qza\n",
    "\n",
    "qiime feature-table summarize \\\n",
    "  --i-table gotu_profile_updated_sampleIDs_min17K.qza \\\n",
    "  --o-visualization gotu_profile_updated_sampleIDs_min17K.qzv\n"
   ]
  },
  {
   "cell_type": "code",
   "execution_count": null,
   "metadata": {},
   "outputs": [],
   "source": [
    "qiime feature-table filter-samples \\\n",
    "  --i-table gotu_profile_updated_sampleIDs.qza \\\n",
    "  --m-metadata-file metadata_12201_round3_qiitaIDs_2020.08.17_qiime2.txt  \\\n",
    "  --p-where \"biomass_sample = 'low'\" \\\n",
    "  --o-filtered-table gotu_profile_updated_sampleIDs_lowBiomass.qza\n",
    "\n",
    "qiime feature-table summarize \\\n",
    "  --i-table gotu_profile_updated_sampleIDs_lowBiomass.qza \\\n",
    "  --o-visualization gotu_profile_updated_sampleIDs_lowBiomass.qzv\n",
    "\n"
   ]
  },
  {
   "cell_type": "code",
   "execution_count": null,
   "metadata": {},
   "outputs": [],
   "source": [
    "qiime feature-table filter-samples \\\n",
    "  --i-table gotu_profile_updated_sampleIDs.qza \\\n",
    "  --m-metadata-file metadata_12201_round3_qiitaIDs_2020.08.17_qiime2.txt  \\\n",
    "  --p-where \"biomass_sample = 'high'\" \\\n",
    "  --o-filtered-table gotu_profile_updated_sampleIDs_highBiomass.qza\n",
    "\n",
    "qiime feature-table summarize \\\n",
    "  --i-table gotu_profile_updated_sampleIDs_highBiomass.qza \\\n",
    "  --o-visualization gotu_profile_updated_sampleIDs_highBiomass.qzv\n",
    "\n"
   ]
  },
  {
   "cell_type": "code",
   "execution_count": null,
   "metadata": {},
   "outputs": [],
   "source": [
    "qiime feature-table rarefy \\\n",
    "  --i-table gotu_profile_updated_sampleIDs_highBiomass.qza \\\n",
    "  --p-sampling-depth 35000 \\\n",
    "  --o-rarefied-table gotu_profile_updated_sampleIDs_highBiomass_rar35K.qza\n",
    "\n",
    "qiime feature-table summarize \\\n",
    "  --i-table gotu_profile_updated_sampleIDs_highBiomass_rar35K.qza \\\n",
    "  --o-visualization gotu_profile_updated_sampleIDs_highBiomass_rar35K.qzv\n"
   ]
  },
  {
   "cell_type": "code",
   "execution_count": null,
   "metadata": {},
   "outputs": [],
   "source": [
    "qiime feature-table filter-samples \\\n",
    "  --i-table gotu_profile_updated_sampleIDs_highBiomass.qza \\\n",
    "  --p-min-frequency 35000 \\\n",
    "  --o-filtered-table gotu_profile_updated_sampleIDs_highBiomass_min35K.qza\n",
    "\n",
    "qiime feature-table summarize \\\n",
    "  --i-table gotu_profile_updated_sampleIDs_highBiomass_min35K.qza \\\n",
    "  --o-visualization gotu_profile_updated_sampleIDs_highBiomass_min35K.qzv\n"
   ]
  },
  {
   "cell_type": "code",
   "execution_count": null,
   "metadata": {},
   "outputs": [],
   "source": [
    "qiime feature-table rarefy \\\n",
    "  --i-table gotu_profile_updated_sampleIDs_lowBiomass.qza \\\n",
    "  --p-sampling-depth 20000 \\\n",
    "  --o-rarefied-table gotu_profile_updated_sampleIDs_lowBiomass_rar20K.qza\n",
    "\n",
    "qiime feature-table summarize \\\n",
    "  --i-table gotu_profile_updated_sampleIDs_lowBiomass_rar20K.qza \\\n",
    "  --o-visualization gotu_profile_updated_sampleIDs_lowBiomass_rar20K.qzv\n"
   ]
  },
  {
   "cell_type": "code",
   "execution_count": null,
   "metadata": {},
   "outputs": [],
   "source": [
    "qiime feature-table filter-samples \\\n",
    "  --i-table gotu_profile_updated_sampleIDs_lowBiomass.qza \\\n",
    "  --p-min-frequency 20000 \\\n",
    "  --o-filtered-table gotu_profile_updated_sampleIDs_lowBiomass_min20K.qza\n",
    "\n",
    "qiime feature-table summarize \\\n",
    "  --i-table gotu_profile_updated_sampleIDs_lowBiomass_min20K.qza \\\n",
    "  --o-visualization gotu_profile_updated_sampleIDs_lowBiomass_min20K.qzv\n"
   ]
  }
 ],
 "metadata": {
  "kernelspec": {
   "display_name": "Python 3",
   "language": "python",
   "name": "python3"
  },
  "language_info": {
   "codemirror_mode": {
    "name": "ipython",
    "version": 3
   },
   "file_extension": ".py",
   "mimetype": "text/x-python",
   "name": "python",
   "nbconvert_exporter": "python",
   "pygments_lexer": "ipython3",
   "version": "3.7.2"
  }
 },
 "nbformat": 4,
 "nbformat_minor": 2
}
