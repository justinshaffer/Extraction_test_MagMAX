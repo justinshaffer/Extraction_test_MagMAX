{
 "cells": [
  {
   "cell_type": "code",
   "execution_count": 1,
   "metadata": {},
   "outputs": [],
   "source": [
    "# import tools\n",
    "import pandas as pd\n",
    "%matplotlib inline\n",
    "import qiime2\n",
    "from qiime2 import Artifact\n",
    "from tempfile import mkdtemp\n",
    "from qiime2.plugins import demux, deblur, quality_filter, \\\n",
    "                           metadata, feature_table, alignment, \\\n",
    "                           phylogeny, diversity, emperor, feature_classifier, \\\n",
    "                           taxa, composition\n",
    "from qiime2.plugins import fragment_insertion\n",
    "from qiime2.plugins.fragment_insertion.methods import filter_features\n",
    "from qiime2.plugins.feature_table.methods import filter_samples\n",
    "from qiime2.plugins.feature_table.visualizers import summarize\n",
    "import seaborn as sns\n",
    "import matplotlib.pyplot as plt\n",
    "import numpy as np\n",
    "import pylab\n",
    "from scipy.optimize import curve_fit"
   ]
  },
  {
   "cell_type": "markdown",
   "metadata": {},
   "source": [
    "## Set path"
   ]
  },
  {
   "cell_type": "code",
   "execution_count": 2,
   "metadata": {
    "scrolled": true
   },
   "outputs": [
    {
     "name": "stdout",
     "output_type": "stream",
     "text": [
      "/Users/Justin/Google-Drive-UCSD/UCSD/00_Knight_Lab/03_Extraction_test_12201/round_03_2vs20min/01_16S/data\n"
     ]
    }
   ],
   "source": [
    "cd \"UCSD/00_Knight_Lab/03_Extraction_test_12201/round_03_2vs20min/01_16S/data/\""
   ]
  },
  {
   "cell_type": "markdown",
   "metadata": {},
   "source": [
    "## Filter feature-table to generate per-extraction plate tables"
   ]
  },
  {
   "cell_type": "code",
   "execution_count": null,
   "metadata": {},
   "outputs": [],
   "source": [
    "extraction_test_round_3_biom.qza\n",
    "\n",
    "qiime feature-table summarize \\\n",
    "  --i-table extraction_test_round_3_biom.qza \\\n",
    "  --o-visualization extraction_test_round_3_biom.qzv\n",
    "\n"
   ]
  },
  {
   "cell_type": "code",
   "execution_count": null,
   "metadata": {},
   "outputs": [],
   "source": [
    "# 2-min MagMAX - high biomass\n",
    "qiime feature-table filter-samples \\\n",
    "  --i-table extraction_test_round_3_biom.qza \\\n",
    "  --m-metadata-file extraction_test_round_3_metadata.txt  \\\n",
    "  --p-where \"extraction_kit_id = 'microbiome' AND bead_beating = '2 min. at 30 Hz' AND biomass_plate = 'high'\" \\\n",
    "  --o-filtered-table extraction_test_round_3_biom_2min_high.qza\n",
    "\n",
    "qiime feature-table summarize \\\n",
    "  --i-table extraction_test_round_3_biom_2min_high.qza \\\n",
    "  --o-visualization extraction_test_round_3_biom_2min_high.qzv\n",
    "\n",
    "\n",
    "# 2-min MagMAX - low biomass\n",
    "qiime feature-table filter-samples \\\n",
    "  --i-table extraction_test_round_3_biom.qza \\\n",
    "  --m-metadata-file extraction_test_round_3_metadata.txt  \\\n",
    "  --p-where \"extraction_kit_id = 'microbiome' AND bead_beating = '2 min. at 30 Hz' AND biomass_plate = 'low'\" \\\n",
    "  --o-filtered-table extraction_test_round_3_biom_2min_low.qza\n",
    "\n",
    "qiime feature-table summarize \\\n",
    "  --i-table extraction_test_round_3_biom_2min_low.qza \\\n",
    "  --o-visualization extraction_test_round_3_biom_2min_low.qzv\n",
    "\n",
    "\n",
    "# 2-min MagMAX - COVID-19 type\n",
    "qiime feature-table filter-samples \\\n",
    "  --i-table extraction_test_round_3_biom.qza \\\n",
    "  --m-metadata-file extraction_test_round_3_metadata.txt  \\\n",
    "  --p-where \"extraction_kit_id = 'microbiome' AND bead_beating = '2 min. at 30 Hz' AND biomass_plate = 'COVID-19'\" \\\n",
    "  --o-filtered-table extraction_test_round_3_biom_2min_covid.qza\n",
    "\n",
    "qiime feature-table summarize \\\n",
    "  --i-table extraction_test_round_3_biom_2min_covid.qza \\\n",
    "  --o-visualization extraction_test_round_3_biom_2min_covid.qzv\n",
    "\n",
    "\n",
    "\n",
    "# 20-min MagMAX - high biomass\n",
    "qiime feature-table filter-samples \\\n",
    "  --i-table extraction_test_round_3_biom.qza \\\n",
    "  --m-metadata-file extraction_test_round_3_metadata.txt  \\\n",
    "  --p-where \"extraction_kit_id = 'microbiome' AND bead_beating = '20 min. at 30 Hz' AND biomass_plate = 'high'\" \\\n",
    "  --o-filtered-table extraction_test_round_3_biom_20min_high.qza\n",
    "\n",
    "qiime feature-table summarize \\\n",
    "  --i-table extraction_test_round_3_biom_20min_high.qza \\\n",
    "  --o-visualization extraction_test_round_3_biom_20min_high.qzv\n",
    "\n",
    "\n",
    "# 20-min MagMAX - low biomass\n",
    "qiime feature-table filter-samples \\\n",
    "  --i-table extraction_test_round_3_biom.qza \\\n",
    "  --m-metadata-file extraction_test_round_3_metadata.txt  \\\n",
    "  --p-where \"extraction_kit_id = 'microbiome' AND bead_beating = '20 min. at 30 Hz' AND biomass_plate = 'low'\" \\\n",
    "  --o-filtered-table extraction_test_round_3_biom_20min_low.qza\n",
    "\n",
    "qiime feature-table summarize \\\n",
    "  --i-table extraction_test_round_3_biom_20min_low.qza \\\n",
    "  --o-visualization extraction_test_round_3_biom_20min_low.qzv\n",
    "\n",
    "\n",
    "# 20-min MagMAX - COVID-19 type\n",
    "qiime feature-table filter-samples \\\n",
    "  --i-table extraction_test_round_3_biom.qza \\\n",
    "  --m-metadata-file extraction_test_round_3_metadata.txt  \\\n",
    "  --p-where \"extraction_kit_id = 'microbiome' AND bead_beating = '20 min. at 30 Hz' AND biomass_plate = 'COVID-19'\" \\\n",
    "  --o-filtered-table extraction_test_round_3_biom_20min_covid.qza\n",
    "\n",
    "qiime feature-table summarize \\\n",
    "  --i-table extraction_test_round_3_biom_20min_covid.qza \\\n",
    "  --o-visualization extraction_test_round_3_biom_20min_covid.qzv\n",
    "\n",
    "\n",
    "# Qiagen - high biomass\n",
    "qiime feature-table filter-samples \\\n",
    "  --i-table extraction_test_round_3_biom.qza \\\n",
    "  --m-metadata-file extraction_test_round_3_metadata.txt  \\\n",
    "  --p-where \"extraction_kit_id = 'standard' AND biomass_plate = 'high'\" \\\n",
    "  --o-filtered-table extraction_test_round_3_biom_qiagen_high.qza\n",
    "\n",
    "qiime feature-table summarize \\\n",
    "  --i-table extraction_test_round_3_biom_qiagen_high.qza \\\n",
    "  --o-visualization extraction_test_round_3_biom_qiagen_high.qzv\n",
    "\n",
    "\n",
    "# Qiagen - low biomass\n",
    "qiime feature-table filter-samples \\\n",
    "  --i-table extraction_test_round_3_biom.qza \\\n",
    "  --m-metadata-file extraction_test_round_3_metadata.txt  \\\n",
    "  --p-where \"extraction_kit_id = 'standard' AND biomass_plate = 'low'\" \\\n",
    "  --o-filtered-table extraction_test_round_3_biom_qiagen_low.qza\n",
    "\n",
    "qiime feature-table summarize \\\n",
    "  --i-table extraction_test_round_3_biom_qiagen_low.qza \\\n",
    "  --o-visualization extraction_test_round_3_biom_qiagen_low.qzv\n",
    "\n",
    "\n",
    "# Qiagen - high biomass\n",
    "qiime feature-table filter-samples \\\n",
    "  --i-table extraction_test_round_3_biom.qza \\\n",
    "  --m-metadata-file extraction_test_round_3_metadata.txt  \\\n",
    "  --p-where \"extraction_kit_id = 'standard' AND biomass_plate = 'COVID-19'\" \\\n",
    "  --o-filtered-table extraction_test_round_3_biom_qiagen_covid.qza\n",
    "\n",
    "qiime feature-table summarize \\\n",
    "  --i-table extraction_test_round_3_biom_qiagen_covid.qza \\\n",
    "  --o-visualization extraction_test_round_3_biom_qiagen_covid.qzv\n"
   ]
  },
  {
   "cell_type": "markdown",
   "metadata": {},
   "source": [
    "## Import data"
   ]
  },
  {
   "cell_type": "code",
   "execution_count": 3,
   "metadata": {},
   "outputs": [],
   "source": [
    "# import raw feature table and taxonomy\n",
    "table_magmax2_highbiomass = Artifact.load('extraction_test_round_3_biom_2min_high.qza')\n",
    "table_magmax2_lowbiomass = Artifact.load('extraction_test_round_3_biom_2min_low.qza')\n",
    "\n",
    "table_magmax20_highbiomass = Artifact.load('extraction_test_round_3_biom_20min_high.qza')\n",
    "table_magmax20_lowbiomass = Artifact.load('extraction_test_round_3_biom_20min_low.qza')\n",
    "\n",
    "table_qiagen_highbiomass = Artifact.load('extraction_test_round_3_biom_qiagen_high.qza')\n",
    "table_qiagen_lowbiomass = Artifact.load('extraction_test_round_3_biom_qiagen_low.qza')\n",
    "\n",
    "taxonomy = Artifact.load('extraction_test_round_3_taxonomy.qza')"
   ]
  },
  {
   "cell_type": "markdown",
   "metadata": {},
   "source": [
    "## Collapse and subset data\n",
    "### NOTE: Set 'table' to one of the tables above"
   ]
  },
  {
   "cell_type": "code",
   "execution_count": 83,
   "metadata": {},
   "outputs": [],
   "source": [
    "table = table_qiagen_lowbiomass"
   ]
  },
  {
   "cell_type": "code",
   "execution_count": 84,
   "metadata": {},
   "outputs": [],
   "source": [
    "# collapsed table to genus level\n",
    "t6 = taxa.methods.collapse(table = table,\n",
    "                           taxonomy = taxonomy,\n",
    "                           level = 6)\n",
    "# import collapsed table as pandas dataframe\n",
    "df = t6.collapsed_table.view(pd.DataFrame)\n",
    "# subset out Zymo mock community samples\n",
    "zymo = df[df.index.str.contains('bacsu|para')]\n",
    "# ensure table values are numeric\n",
    "zymo = zymo.astype(float)"
   ]
  },
  {
   "cell_type": "code",
   "execution_count": 85,
   "metadata": {},
   "outputs": [
    {
     "data": {
      "text/html": [
       "<div>\n",
       "<style scoped>\n",
       "    .dataframe tbody tr th:only-of-type {\n",
       "        vertical-align: middle;\n",
       "    }\n",
       "\n",
       "    .dataframe tbody tr th {\n",
       "        vertical-align: top;\n",
       "    }\n",
       "\n",
       "    .dataframe thead th {\n",
       "        text-align: right;\n",
       "    }\n",
       "</style>\n",
       "<table border=\"1\" class=\"dataframe\">\n",
       "  <thead>\n",
       "    <tr style=\"text-align: right;\">\n",
       "      <th></th>\n",
       "      <th>91743.12201.para.d1.1.qiagen.L</th>\n",
       "      <th>91743.12201.bacsu.d1.2.qiagen.L</th>\n",
       "      <th>91743.12201.para.d1.2.qiagen.L</th>\n",
       "      <th>91743.12201.bacsu.d1.1.qiagen.L</th>\n",
       "    </tr>\n",
       "  </thead>\n",
       "  <tbody>\n",
       "    <tr>\n",
       "      <th>k__Bacteria;p__Proteobacteria;c__Alphaproteobacteria;o__Rhodobacterales;f__Rhodobacteraceae;g__Paracoccus</th>\n",
       "      <td>16537.0</td>\n",
       "      <td>6.0</td>\n",
       "      <td>17357.0</td>\n",
       "      <td>5.0</td>\n",
       "    </tr>\n",
       "    <tr>\n",
       "      <th>k__Bacteria;p__Firmicutes;c__Bacilli;o__Bacillales;f__Bacillaceae;g__Bacillus</th>\n",
       "      <td>14224.0</td>\n",
       "      <td>30040.0</td>\n",
       "      <td>15525.0</td>\n",
       "      <td>29781.0</td>\n",
       "    </tr>\n",
       "    <tr>\n",
       "      <th>k__Bacteria;p__Firmicutes;c__Bacilli;o__Lactobacillales;f__Lactobacillaceae;g__Lactobacillus</th>\n",
       "      <td>9.0</td>\n",
       "      <td>12.0</td>\n",
       "      <td>7.0</td>\n",
       "      <td>9.0</td>\n",
       "    </tr>\n",
       "    <tr>\n",
       "      <th>k__Bacteria;p__Proteobacteria;c__Alphaproteobacteria;o__Rhodobacterales;f__Rhodobacteraceae;g__Albidovulum</th>\n",
       "      <td>4.0</td>\n",
       "      <td>0.0</td>\n",
       "      <td>0.0</td>\n",
       "      <td>0.0</td>\n",
       "    </tr>\n",
       "    <tr>\n",
       "      <th>k__Bacteria;p__Firmicutes;c__Bacilli;o__Lactobacillales;f__Lactobacillaceae;g__</th>\n",
       "      <td>4.0</td>\n",
       "      <td>10.0</td>\n",
       "      <td>7.0</td>\n",
       "      <td>4.0</td>\n",
       "    </tr>\n",
       "    <tr>\n",
       "      <th>k__Bacteria;p__Actinobacteria;c__Actinobacteria;o__Actinomycetales;f__Corynebacteriaceae;g__Corynebacterium</th>\n",
       "      <td>4.0</td>\n",
       "      <td>0.0</td>\n",
       "      <td>2.0</td>\n",
       "      <td>2.0</td>\n",
       "    </tr>\n",
       "    <tr>\n",
       "      <th>k__Bacteria;p__Proteobacteria;c__Betaproteobacteria;o__Neisseriales;f__Neisseriaceae;g__Neisseria</th>\n",
       "      <td>3.0</td>\n",
       "      <td>3.0</td>\n",
       "      <td>4.0</td>\n",
       "      <td>3.0</td>\n",
       "    </tr>\n",
       "    <tr>\n",
       "      <th>k__Bacteria;p__Firmicutes;c__Bacilli;o__Bacillales;f__Bacillaceae;__</th>\n",
       "      <td>2.0</td>\n",
       "      <td>0.0</td>\n",
       "      <td>5.0</td>\n",
       "      <td>0.0</td>\n",
       "    </tr>\n",
       "    <tr>\n",
       "      <th>k__Bacteria;p__Bacteroidetes;c__Bacteroidia;o__Bacteroidales;f__Prevotellaceae;g__Prevotella</th>\n",
       "      <td>2.0</td>\n",
       "      <td>2.0</td>\n",
       "      <td>3.0</td>\n",
       "      <td>0.0</td>\n",
       "    </tr>\n",
       "    <tr>\n",
       "      <th>k__Bacteria;p__Proteobacteria;c__Alphaproteobacteria;o__Rhodobacterales;f__Rhodobacteraceae;__</th>\n",
       "      <td>2.0</td>\n",
       "      <td>0.0</td>\n",
       "      <td>5.0</td>\n",
       "      <td>0.0</td>\n",
       "    </tr>\n",
       "  </tbody>\n",
       "</table>\n",
       "</div>"
      ],
      "text/plain": [
       "                                                    91743.12201.para.d1.1.qiagen.L  \\\n",
       "k__Bacteria;p__Proteobacteria;c__Alphaproteobac...                         16537.0   \n",
       "k__Bacteria;p__Firmicutes;c__Bacilli;o__Bacilla...                         14224.0   \n",
       "k__Bacteria;p__Firmicutes;c__Bacilli;o__Lactoba...                             9.0   \n",
       "k__Bacteria;p__Proteobacteria;c__Alphaproteobac...                             4.0   \n",
       "k__Bacteria;p__Firmicutes;c__Bacilli;o__Lactoba...                             4.0   \n",
       "k__Bacteria;p__Actinobacteria;c__Actinobacteria...                             4.0   \n",
       "k__Bacteria;p__Proteobacteria;c__Betaproteobact...                             3.0   \n",
       "k__Bacteria;p__Firmicutes;c__Bacilli;o__Bacilla...                             2.0   \n",
       "k__Bacteria;p__Bacteroidetes;c__Bacteroidia;o__...                             2.0   \n",
       "k__Bacteria;p__Proteobacteria;c__Alphaproteobac...                             2.0   \n",
       "\n",
       "                                                    91743.12201.bacsu.d1.2.qiagen.L  \\\n",
       "k__Bacteria;p__Proteobacteria;c__Alphaproteobac...                              6.0   \n",
       "k__Bacteria;p__Firmicutes;c__Bacilli;o__Bacilla...                          30040.0   \n",
       "k__Bacteria;p__Firmicutes;c__Bacilli;o__Lactoba...                             12.0   \n",
       "k__Bacteria;p__Proteobacteria;c__Alphaproteobac...                              0.0   \n",
       "k__Bacteria;p__Firmicutes;c__Bacilli;o__Lactoba...                             10.0   \n",
       "k__Bacteria;p__Actinobacteria;c__Actinobacteria...                              0.0   \n",
       "k__Bacteria;p__Proteobacteria;c__Betaproteobact...                              3.0   \n",
       "k__Bacteria;p__Firmicutes;c__Bacilli;o__Bacilla...                              0.0   \n",
       "k__Bacteria;p__Bacteroidetes;c__Bacteroidia;o__...                              2.0   \n",
       "k__Bacteria;p__Proteobacteria;c__Alphaproteobac...                              0.0   \n",
       "\n",
       "                                                    91743.12201.para.d1.2.qiagen.L  \\\n",
       "k__Bacteria;p__Proteobacteria;c__Alphaproteobac...                         17357.0   \n",
       "k__Bacteria;p__Firmicutes;c__Bacilli;o__Bacilla...                         15525.0   \n",
       "k__Bacteria;p__Firmicutes;c__Bacilli;o__Lactoba...                             7.0   \n",
       "k__Bacteria;p__Proteobacteria;c__Alphaproteobac...                             0.0   \n",
       "k__Bacteria;p__Firmicutes;c__Bacilli;o__Lactoba...                             7.0   \n",
       "k__Bacteria;p__Actinobacteria;c__Actinobacteria...                             2.0   \n",
       "k__Bacteria;p__Proteobacteria;c__Betaproteobact...                             4.0   \n",
       "k__Bacteria;p__Firmicutes;c__Bacilli;o__Bacilla...                             5.0   \n",
       "k__Bacteria;p__Bacteroidetes;c__Bacteroidia;o__...                             3.0   \n",
       "k__Bacteria;p__Proteobacteria;c__Alphaproteobac...                             5.0   \n",
       "\n",
       "                                                    91743.12201.bacsu.d1.1.qiagen.L  \n",
       "k__Bacteria;p__Proteobacteria;c__Alphaproteobac...                              5.0  \n",
       "k__Bacteria;p__Firmicutes;c__Bacilli;o__Bacilla...                          29781.0  \n",
       "k__Bacteria;p__Firmicutes;c__Bacilli;o__Lactoba...                              9.0  \n",
       "k__Bacteria;p__Proteobacteria;c__Alphaproteobac...                              0.0  \n",
       "k__Bacteria;p__Firmicutes;c__Bacilli;o__Lactoba...                              4.0  \n",
       "k__Bacteria;p__Actinobacteria;c__Actinobacteria...                              2.0  \n",
       "k__Bacteria;p__Proteobacteria;c__Betaproteobact...                              3.0  \n",
       "k__Bacteria;p__Firmicutes;c__Bacilli;o__Bacilla...                              0.0  \n",
       "k__Bacteria;p__Bacteroidetes;c__Bacteroidia;o__...                              0.0  \n",
       "k__Bacteria;p__Proteobacteria;c__Alphaproteobac...                              0.0  "
      ]
     },
     "execution_count": 85,
     "metadata": {},
     "output_type": "execute_result"
    }
   ],
   "source": [
    "# quick visual check that top 7 taxa make up most of the reads in highest input sample (\"d1\")\n",
    "max_input = zymo[zymo.index.str.contains(\"d1\")]\n",
    "zymoT = max_input.T\n",
    "zymoT.sort_values(zymoT.columns[0], ascending = False).head(10)"
   ]
  },
  {
   "cell_type": "markdown",
   "metadata": {},
   "source": [
    "## Calculate reads aligning to mock community"
   ]
  },
  {
   "cell_type": "code",
   "execution_count": 86,
   "metadata": {
    "scrolled": true
   },
   "outputs": [],
   "source": [
    "# Calculate the total number of reads per sample\n",
    "zymo['deblur_reads'] = zymo.sum(axis=1)\n",
    "# calculate the number of reads aligning to the mock community input genera\n",
    "zymo['zymo_reads'] = zymo[['k__Bacteria;p__Firmicutes;c__Bacilli;o__Bacillales;f__Bacillaceae;g__Bacillus',\n",
    "       'k__Bacteria;p__Proteobacteria;c__Alphaproteobacteria;o__Rhodobacterales;f__Rhodobacteraceae;g__Paracoccus']].sum(axis=1)\n",
    "# calculate the percent correctly assigned\n",
    "zymo['correct_assign'] = zymo['zymo_reads'] / zymo['deblur_reads']"
   ]
  },
  {
   "cell_type": "code",
   "execution_count": 87,
   "metadata": {},
   "outputs": [
    {
     "name": "stderr",
     "output_type": "stream",
     "text": [
      "/Users/Justin/miniconda3/envs/qiime2-2020.6/lib/python3.6/site-packages/ipykernel_launcher.py:3: SettingWithCopyWarning: \n",
      "A value is trying to be set on a copy of a slice from a DataFrame.\n",
      "Try using .loc[row_indexer,col_indexer] = value instead\n",
      "\n",
      "See the caveats in the documentation: http://pandas.pydata.org/pandas-docs/stable/user_guide/indexing.html#returning-a-view-versus-a-copy\n",
      "  This is separate from the ipykernel package so we can avoid doing imports until\n"
     ]
    }
   ],
   "source": [
    "# subset out KatharoSeq columns and add in logarithim of reads for plotting\n",
    "katharo = zymo[['correct_assign','deblur_reads','zymo_reads']]\n",
    "katharo['log_deblur_reads'] = np.log10(katharo['deblur_reads'])"
   ]
  },
  {
   "cell_type": "markdown",
   "metadata": {},
   "source": [
    "## Fit an allosteric sigmoid curve for extrpolating min read count #"
   ]
  },
  {
   "cell_type": "code",
   "execution_count": 88,
   "metadata": {
    "scrolled": true
   },
   "outputs": [
    {
     "name": "stdout",
     "output_type": "stream",
     "text": [
      "[1.50259829e+01 5.24411270e+07]\n"
     ]
    },
    {
     "data": {
      "image/png": "[encoded data removed]",
      "text/plain": [
       "<Figure size 432x288 with 1 Axes>"
      ]
     },
     "metadata": {
      "needs_background": "light"
     },
     "output_type": "display_data"
    }
   ],
   "source": [
    "# define the allosteric sigmoid equation\n",
    "def allosteric_sigmoid(x, h, k_prime):\n",
    "    y = x ** h / (k_prime + x ** h)\n",
    "    return y\n",
    " \n",
    "# fit the curve to your data\n",
    "popt, pcov = curve_fit(allosteric_sigmoid, katharo['log_deblur_reads'], katharo['correct_assign'], method='dogbox')\n",
    "print(popt)\n",
    "# plot fit curve\n",
    "x = np.linspace(0, 5, 50)\n",
    "y = allosteric_sigmoid(x, *popt)\n",
    "\n",
    "# plot the fit\n",
    "pylab.plot(katharo['log_deblur_reads'], katharo['correct_assign'], 'o', label='data')\n",
    "pylab.plot(x,y, label='fit')\n",
    "pylab.ylim(0, 1.05)\n",
    "pylab.legend(loc='best')\n",
    "pylab.show()"
   ]
  },
  {
   "cell_type": "code",
   "execution_count": 89,
   "metadata": {},
   "outputs": [
    {
     "data": {
      "text/plain": [
       "1836"
      ]
     },
     "execution_count": 89,
     "metadata": {},
     "output_type": "execute_result"
    }
   ],
   "source": [
    "# assign variables and solve for X (number of reads to pass filter)\n",
    "h = popt[0]  # first value printed above graph\n",
    "k = popt[1]   # second value printed above graph\n",
    "y = 0.5 ## what you want to solve for\n",
    "\n",
    "min_log_reads = np.power((k/(1/y-1)),(1/h))\n",
    "min_freq_50 = np.power(10, min_log_reads).astype(int)\n",
    "min_freq_50"
   ]
  },
  {
   "cell_type": "code",
   "execution_count": 90,
   "metadata": {},
   "outputs": [
    {
     "data": {
      "text/plain": [
       "3797"
      ]
     },
     "execution_count": 90,
     "metadata": {},
     "output_type": "execute_result"
    }
   ],
   "source": [
    "# assign variables and solve for X (number of reads to pass filter)\n",
    "h = popt[0]  # first value printed above graph\n",
    "k = popt[1]   # second value printed above graph\n",
    "y = 0.8 ## what you want to solve for\n",
    "\n",
    "min_log_reads = np.power((k/(1/y-1)),(1/h))\n",
    "min_freq_80 = np.power(10, min_log_reads).astype(int)\n",
    "min_freq_80"
   ]
  },
  {
   "cell_type": "code",
   "execution_count": 91,
   "metadata": {},
   "outputs": [
    {
     "data": {
      "text/plain": [
       "5997"
      ]
     },
     "execution_count": 91,
     "metadata": {},
     "output_type": "execute_result"
    }
   ],
   "source": [
    "# assign variables and solve for X (number of reads to pass filter)\n",
    "h = popt[0]  # first value printed above graph\n",
    "k = popt[1]   # second value printed above graph\n",
    "y = 0.9 ## what you want to solve for\n",
    "\n",
    "min_log_reads = np.power((k/(1/y-1)),(1/h))\n",
    "min_freq_90 = np.power(10, min_log_reads).astype(int)\n",
    "min_freq_90"
   ]
  },
  {
   "cell_type": "code",
   "execution_count": 92,
   "metadata": {},
   "outputs": [
    {
     "data": {
      "text/plain": [
       "9345"
      ]
     },
     "execution_count": 92,
     "metadata": {},
     "output_type": "execute_result"
    }
   ],
   "source": [
    "# assign variables and solve for X (number of reads to pass filter)\n",
    "h = popt[0]  # first value printed above graph\n",
    "k = popt[1]   # second value printed above graph\n",
    "y = 0.95 ## what you want to solve for\n",
    "\n",
    "min_log_reads = np.power((k/(1/y-1)),(1/h))\n",
    "min_freq_95 = np.power(10, min_log_reads).astype(int)\n",
    "min_freq_95"
   ]
  },
  {
   "cell_type": "markdown",
   "metadata": {},
   "source": [
    "## Remove samples with less than Katharoseq read limit"
   ]
  },
  {
   "cell_type": "code",
   "execution_count": 93,
   "metadata": {},
   "outputs": [],
   "source": [
    "KS_table_50 = feature_table.methods.filter_samples(table = table,\n",
    "                             min_frequency = min_freq_50)\n",
    "df_50 = KS_table_50.filtered_table.view(pd.DataFrame)"
   ]
  },
  {
   "cell_type": "code",
   "execution_count": 94,
   "metadata": {},
   "outputs": [],
   "source": [
    "KS_table_80 = feature_table.methods.filter_samples(table = table,\n",
    "                             min_frequency = min_freq_80)\n",
    "df_80 = KS_table_80.filtered_table.view(pd.DataFrame)"
   ]
  },
  {
   "cell_type": "code",
   "execution_count": 95,
   "metadata": {},
   "outputs": [],
   "source": [
    "KS_table_90 = feature_table.methods.filter_samples(table = table,\n",
    "                             min_frequency = min_freq_90)\n",
    "df_90 = KS_table_90.filtered_table.view(pd.DataFrame)"
   ]
  },
  {
   "cell_type": "code",
   "execution_count": 96,
   "metadata": {},
   "outputs": [],
   "source": [
    "KS_table_95 = feature_table.methods.filter_samples(table = table,\n",
    "                             min_frequency = min_freq_95)\n",
    "df_95 = KS_table_95.filtered_table.view(pd.DataFrame)"
   ]
  },
  {
   "cell_type": "code",
   "execution_count": 97,
   "metadata": {},
   "outputs": [
    {
     "name": "stdout",
     "output_type": "stream",
     "text": [
      "full dataset 96 \n",
      " 50% 69 0.71875 % \n",
      " 80% 62 0.6458333333333334 % \n",
      " 90% 57 0.59375 % \n",
      " 95% 40 0.4166666666666667 %\n"
     ]
    }
   ],
   "source": [
    "# import collapsed table as pandas dataframe\n",
    "print(\"full dataset\", len(df), \"\\n\",\n",
    "      \"50%\", len(df_50), len(df_50)/len(df),\"%\", \"\\n\",\n",
    "      \"80%\", len(df_80), len(df_80)/len(df),\"%\", \"\\n\",\n",
    "      \"90%\", len(df_90), len(df_90)/len(df),\"%\", \"\\n\",\n",
    "      \"95%\", len(df_95), len(df_95)/len(df),\"%\")"
   ]
  },
  {
   "cell_type": "markdown",
   "metadata": {},
   "source": [
    "### Filter datasets based on 50% threshold read counts"
   ]
  },
  {
   "cell_type": "code",
   "execution_count": null,
   "metadata": {},
   "outputs": [],
   "source": [
    "# MagMAX 2-min. (low = 637, high = 362)\n",
    "qiime feature-table filter-samples \\\n",
    "  --i-table extraction_test_round_3_biom_2min_covid.qza \\\n",
    "  --p-min-frequency 637 \\\n",
    "  --o-filtered-table extraction_test_round_3_biom_2min_covid_lod.qza\n",
    "\n",
    "qiime feature-table summarize \\\n",
    "  --i-table extraction_test_round_3_biom_2min_covid_lod.qza \\\n",
    "  --o-visualization extraction_test_round_3_biom_2min_covid_lod.qzv\n",
    "\n",
    "\n",
    "qiime feature-table filter-samples \\\n",
    "  --i-table extraction_test_round_3_biom_2min_low.qza \\\n",
    "  --p-min-frequency 637 \\\n",
    "  --o-filtered-table extraction_test_round_3_biom_2min_low_lod.qza\n",
    "\n",
    "qiime feature-table summarize \\\n",
    "  --i-table extraction_test_round_3_biom_2min_low_lod.qza \\\n",
    "  --o-visualization extraction_test_round_3_biom_2min_low_lod.qzv\n",
    "\n",
    "\n",
    "qiime feature-table filter-samples \\\n",
    "  --i-table extraction_test_round_3_biom_2min_high.qza \\\n",
    "  --p-min-frequency 362 \\\n",
    "  --o-filtered-table extraction_test_round_3_biom_2min_high_lod.qza\n",
    "\n",
    "qiime feature-table summarize \\\n",
    "  --i-table extraction_test_round_3_biom_2min_high_lod.qza \\\n",
    "  --o-visualization extraction_test_round_3_biom_2min_high_lod.qzv\n",
    "\n",
    "\n",
    "# MagMAX 20-min. (low = 491, high = 8499)\n",
    "qiime feature-table filter-samples \\\n",
    "  --i-table extraction_test_round_3_biom_20min_covid.qza \\\n",
    "  --p-min-frequency 491 \\\n",
    "  --o-filtered-table extraction_test_round_3_biom_20min_covid_lod.qza\n",
    "\n",
    "qiime feature-table summarize \\\n",
    "  --i-table extraction_test_round_3_biom_20min_covid_lod.qza \\\n",
    "  --o-visualization extraction_test_round_3_biom_20min_covid_lod.qzv\n",
    "\n",
    "\n",
    "qiime feature-table filter-samples \\\n",
    "  --i-table extraction_test_round_3_biom_20min_low.qza \\\n",
    "  --p-min-frequency 491 \\\n",
    "  --o-filtered-table extraction_test_round_3_biom_20min_low_lod.qza\n",
    "\n",
    "qiime feature-table summarize \\\n",
    "  --i-table extraction_test_round_3_biom_20min_low_lod.qza \\\n",
    "  --o-visualization extraction_test_round_3_biom_20min_low_lod.qzv\n",
    "\n",
    "\n",
    "qiime feature-table filter-samples \\\n",
    "  --i-table extraction_test_round_3_biom_20min_high.qza \\\n",
    "  --p-min-frequency 8499 \\\n",
    "  --o-filtered-table extraction_test_round_3_biom_20min_high_lod.qza\n",
    "\n",
    "qiime feature-table summarize \\\n",
    "  --i-table extraction_test_round_3_biom_20min_high_lod.qza \\\n",
    "  --o-visualization extraction_test_round_3_biom_20min_high_lod.qzv\n",
    "\n",
    "\n",
    "# PowerSoil (low = 1836, high = 1050)\n",
    "qiime feature-table filter-samples \\\n",
    "  --i-table extraction_test_round_3_biom_qiagen_covid.qza \\\n",
    "  --p-min-frequency 1836 \\\n",
    "  --o-filtered-table extraction_test_round_3_biom_qiagen_covid_lod.qza\n",
    "\n",
    "qiime feature-table summarize \\\n",
    "  --i-table extraction_test_round_3_biom_qiagen_covid_lod.qza \\\n",
    "  --o-visualization extraction_test_round_3_biom_qiagen_covid_lod.qzv\n",
    "\n",
    "\n",
    "qiime feature-table filter-samples \\\n",
    "  --i-table extraction_test_round_3_biom_qiagen_low.qza \\\n",
    "  --p-min-frequency 1836 \\\n",
    "  --o-filtered-table extraction_test_round_3_biom_qiagen_low_lod.qza\n",
    "\n",
    "qiime feature-table summarize \\\n",
    "  --i-table extraction_test_round_3_biom_qiagen_low_lod.qza \\\n",
    "  --o-visualization extraction_test_round_3_biom_qiagen_low_lod.qzv\n",
    "\n",
    "\n",
    "qiime feature-table filter-samples \\\n",
    "  --i-table extraction_test_round_3_biom_qiagen_high.qza \\\n",
    "  --p-min-frequency 1050 \\\n",
    "  --o-filtered-table extraction_test_round_3_biom_qiagen_high_lod.qza\n",
    "\n",
    "qiime feature-table summarize \\\n",
    "  --i-table extraction_test_round_3_biom_qiagen_high_lod.qza \\\n",
    "  --o-visualization extraction_test_round_3_biom_qiagen_high_lod.qzv\n",
    "\n"
   ]
  },
  {
   "cell_type": "markdown",
   "metadata": {},
   "source": [
    "## Merge LOD tables"
   ]
  },
  {
   "cell_type": "code",
   "execution_count": null,
   "metadata": {},
   "outputs": [],
   "source": [
    "qiime feature-table merge \\\n",
    "  --i-tables extraction_test_round_3_biom_2min_covid_lod.qza \\\n",
    "  --i-tables extraction_test_round_3_biom_2min_low_lod.qza \\\n",
    "  --i-tables extraction_test_round_3_biom_2min_high_lod.qza \\\n",
    "  --i-tables extraction_test_round_3_biom_20min_covid_lod.qza \\\n",
    "  --i-tables extraction_test_round_3_biom_20min_low_lod.qza \\\n",
    "  --i-tables extraction_test_round_3_biom_20min_high_lod.qza \\\n",
    "  --i-tables extraction_test_round_3_biom_qiagen_covid_lod.qza \\\n",
    "  --i-tables extraction_test_round_3_biom_qiagen_low_lod.qza \\\n",
    "  --i-tables extraction_test_round_3_biom_qiagen_high_lod.qza \\\n",
    "  --o-merged-table extraction_test_round_3_biom_lod.qza\n",
    "\n",
    "qiime feature-table summarize \\\n",
    "  --i-table extraction_test_round_3_biom_lod.qza \\\n",
    "  --o-visualization extraction_test_round_3_biom_lod.qzv\n"
   ]
  },
  {
   "cell_type": "markdown",
   "metadata": {},
   "source": [
    "## Filter to include only low biomass samples"
   ]
  },
  {
   "cell_type": "code",
   "execution_count": null,
   "metadata": {},
   "outputs": [],
   "source": [
    "qiime feature-table filter-samples \\\n",
    "  --i-table extraction_test_round_3_biom_lod.qza \\\n",
    "  --m-metadata-file ../metadata/metadata_12201_round3_qiitaIDs_2020.08.12_qiime2.txt \\\n",
    "  --p-where \"biomass_plate = 'low'\" \\\n",
    "  --o-filtered-table extraction_test_round_3_biom_lod_low.qza\n",
    "\n",
    "qiime feature-table summarize \\\n",
    "  --i-table extraction_test_round_3_biom_lod_low.qza \\\n",
    "  --o-visualization extraction_test_round_3_biom_lod_low.qzv\n"
   ]
  },
  {
   "cell_type": "code",
   "execution_count": null,
   "metadata": {},
   "outputs": [],
   "source": []
  }
 ],
 "metadata": {
  "kernelspec": {
   "display_name": "Python 3",
   "language": "python",
   "name": "python3"
  },
  "language_info": {
   "codemirror_mode": {
    "name": "ipython",
    "version": 3
   },
   "file_extension": ".py",
   "mimetype": "text/x-python",
   "name": "python",
   "nbconvert_exporter": "python",
   "pygments_lexer": "ipython3",
   "version": "3.6.11"
  }
 },
 "nbformat": 4,
 "nbformat_minor": 4
}
