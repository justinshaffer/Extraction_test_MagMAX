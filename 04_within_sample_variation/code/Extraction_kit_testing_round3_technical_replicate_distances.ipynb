{
 "cells": [
  {
   "cell_type": "markdown",
   "metadata": {},
   "source": [
    "# Set up notebook environment"
   ]
  },
  {
   "cell_type": "code",
   "execution_count": 12,
   "metadata": {},
   "outputs": [],
   "source": [
    "import pandas as pd\n",
    "import qiime2 as q2\n",
    "import numpy as np\n",
    "import plotnine as pn\n",
    "from biom import Table, load_table\n",
    "from qiime2.plugins.deicode.actions import rpca\n",
    "from qiime2.plugins.diversity.actions import beta_phylogenetic\n",
    "from qiime2.plugins.diversity.actions import beta\n",
    "from qiime2.plugins.diversity.actions import alpha\n",
    "from qiime2.plugins.feature_table.actions import rarefy\n",
    "from skbio import DistanceMatrix\n",
    "\n",
    "s=\"sample\"\n",
    "o=\"observation\"\n",
    "\n",
    "%matplotlib inline\n"
   ]
  },
  {
   "cell_type": "code",
   "execution_count": 2,
   "metadata": {},
   "outputs": [
    {
     "name": "stdout",
     "output_type": "stream",
     "text": [
      "/Users/Justin/Google-Drive-UCSD/UCSD/00_Knight_Lab/03_Extraction_test_12201/round_03_2vs20min\n"
     ]
    }
   ],
   "source": [
    "cd /Users/Justin/Google-Drive-UCSD/UCSD/00_Knight_Lab/03_Extraction_test_12201/round_03_2vs20min/\n"
   ]
  },
  {
   "cell_type": "markdown",
   "metadata": {},
   "source": [
    "# 16S processing"
   ]
  },
  {
   "cell_type": "code",
   "execution_count": 3,
   "metadata": {},
   "outputs": [],
   "source": [
    "def add_taxsplit(taxdf):\n",
    "    # split taxonomy \n",
    "    def tax_split(tax_id, tax_level): return tax_id.split(\n",
    "        tax_level)[1].split(';')[0]\n",
    "    for level, lname in zip(['k__', 'p__', 'c__', 'o__',\n",
    "                             'f__', 'g__', 's__'],\n",
    "                            ['kingdom', 'phylum', 'class',\n",
    "                             'order', 'family', 'genus',\n",
    "                             'species']):\n",
    "        if lname not in taxdf.columns:\n",
    "            taxonomy_tmp = []\n",
    "            for tax in taxdf.Taxon:\n",
    "                if tax is not np.nan and\\\n",
    "                   level in tax and\\\n",
    "                   len(tax_split(tax, level)) > 0:\n",
    "                    taxonomy_tmp.append(tax_split(tax,\n",
    "                                                  level))\n",
    "                else:\n",
    "                    taxonomy_tmp.append(np.nan)\n",
    "            taxdf[lname] = taxonomy_tmp\n",
    "    return taxdf\n"
   ]
  },
  {
   "cell_type": "markdown",
   "metadata": {},
   "source": [
    "## Import data"
   ]
  },
  {
   "cell_type": "code",
   "execution_count": 42,
   "metadata": {},
   "outputs": [],
   "source": [
    "# Data\n",
    "qza = q2.Artifact.load(\"01_16S/data/extraction_test_round_3_biom_lod.qza\")\n",
    "bt = qza.view(Table)\n",
    "\n",
    "# Metadata\n",
    "md = pd.read_csv(\"01_16S/metadata/metadata_12201_round3_read_counts_alpha_diversity_2020.09.23.txt\",sep='\\t', index_col=0)\n",
    "md.index.name=\"sample_name\"\n",
    "md_q2 = q2.Metadata(md)\n",
    "\n",
    "# Filter samples\n",
    "md = md.loc[ md.sample_type.notna(), ]\n",
    "bt_samples = set(bt.ids(s))\n",
    "md_samples = set(md.index)\n",
    "all_samples_keep = bt_samples & md_samples\n",
    "bt.filter(all_samples_keep)\n",
    "md = md.query('index in @all_samples_keep')\n",
    "\n",
    "# Remove blank samples\n",
    "blank_samples = set( md.query('sample_type==\"control blank\"').index )\n",
    "bt_no_blank = bt.filter(blank_samples, invert=True, inplace=False)\n",
    "md_noblank = md.query('sample_type!=\"control blank\"').copy()\n",
    "\n",
    "# Convert back to qza\n",
    "qza = q2.Artifact.import_data('FeatureTable[Frequency]', bt)\n",
    "qza_no_blank = q2.Artifact.import_data('FeatureTable[Frequency]', bt_no_blank)\n",
    "\n",
    "# Taxonomy\n",
    "tax_q2 = q2.Artifact.load(\"01_16S/data/extraction_test_round_3_taxonomy.qza\")\n",
    "tax_df = pd.DataFrame(tax_q2.view(pd.Series))\n",
    "tax_df = add_taxsplit(tax_df)\n",
    "\n",
    "# Tree\n",
    "tree_q2 = q2.Artifact.import_data('Phylogeny[Rooted]', \"01_16S/data/extraction_test_round_3_tree.tre\")\n"
   ]
  },
  {
   "cell_type": "markdown",
   "metadata": {},
   "source": [
    "## Calculate distances"
   ]
  },
  {
   "cell_type": "code",
   "execution_count": 7,
   "metadata": {},
   "outputs": [
    {
     "name": "stderr",
     "output_type": "stream",
     "text": [
      "/Users/Justin/miniconda3/envs/qiime2-2020.8/lib/python3.6/site-packages/sklearn/metrics/pairwise.py:1761: DataConversionWarning: Data was converted to boolean for metric jaccard\n",
      "  warnings.warn(msg, DataConversionWarning)\n",
      "/Users/Justin/miniconda3/envs/qiime2-2020.8/lib/python3.6/site-packages/biom/table.py:4068: FutureWarning: SparseDataFrame is deprecated and will be removed in a future version.\n",
      "Use a regular DataFrame whose columns are SparseArrays instead.\n",
      "\n",
      "See http://pandas.pydata.org/pandas-docs/stable/user_guide/sparse.html#migrating for more.\n",
      "\n",
      "  return constructor(mat, index=index, columns=columns)\n",
      "/Users/Justin/miniconda3/envs/qiime2-2020.8/lib/python3.6/site-packages/pandas/core/sparse/frame.py:257: FutureWarning: SparseSeries is deprecated and will be removed in a future version.\n",
      "Use a Series with sparse values instead.\n",
      "\n",
      "    >>> series = pd.Series(pd.SparseArray(...))\n",
      "\n",
      "See http://pandas.pydata.org/pandas-docs/stable/user_guide/sparse.html#migrating for more.\n",
      "\n",
      "  sparse_index=BlockIndex(N, blocs, blens),\n",
      "/Users/Justin/miniconda3/envs/qiime2-2020.8/lib/python3.6/site-packages/pandas/core/generic.py:4583: FutureWarning: SparseSeries is deprecated and will be removed in a future version.\n",
      "Use a Series with sparse values instead.\n",
      "\n",
      "    >>> series = pd.Series(pd.SparseArray(...))\n",
      "\n",
      "See http://pandas.pydata.org/pandas-docs/stable/user_guide/sparse.html#migrating for more.\n",
      "\n",
      "  return self._constructor(new_data).__finalize__(self)\n",
      "/Users/Justin/miniconda3/envs/qiime2-2020.8/lib/python3.6/site-packages/pandas/core/sparse/frame.py:854: FutureWarning: SparseDataFrame is deprecated and will be removed in a future version.\n",
      "Use a regular DataFrame whose columns are SparseArrays instead.\n",
      "\n",
      "See http://pandas.pydata.org/pandas-docs/stable/user_guide/sparse.html#migrating for more.\n",
      "\n",
      "  default_kind=self._default_kind,\n"
     ]
    }
   ],
   "source": [
    "# Rarefy\n",
    "qza_rare = rarefy(qza, 5000).rarefied_table\n",
    "bt_rare = qza_rare.view(Table)\n",
    "\n",
    "dms = {}\n",
    "\n",
    "# Jaccard\n",
    "dms[\"jaccard\"] = beta(table=qza_rare, metric=\"jaccard\").distance_matrix.view(DistanceMatrix)\n",
    "\n",
    "# weighted unifrac\n",
    "dms[\"weighted_unifrac\"] = beta_phylogenetic(table=qza_rare, phylogeny=tree_q2, metric=\"weighted_unifrac\").distance_matrix.view(DistanceMatrix)\n",
    "\n",
    "# unweighted unifrac\n",
    "dms[\"unweighted_unifrac\"] = beta_phylogenetic(table=qza_rare, phylogeny=tree_q2, metric=\"unweighted_unifrac\").distance_matrix.view(DistanceMatrix)\n",
    "\n",
    "# Deicode\n",
    "bplt, dm= rpca(table=qza,n_components=3, min_sample_count=5000, min_feature_count=10)\n",
    "dms[\"deicode\"] = dm.view(DistanceMatrix)\n"
   ]
  },
  {
   "cell_type": "code",
   "execution_count": 43,
   "metadata": {},
   "outputs": [],
   "source": [
    "md_sample_type3 = md.loc[:,[\"sample_type_3\",\"extraction_protocol_short\"]]\n",
    "out_dfs = {}\n",
    "for metric,dm in dms.items():\n",
    "    df = dm.to_data_frame()\n",
    "    df=df.reset_index().melt(id_vars=\"index\")\n",
    "    df.columns=[\"sample1\",\"sample2\",\"value\"]\n",
    "    df = df.merge(md_sample_type3, right_index=True, left_on=\"sample1\")\n",
    "    df = df.rename(columns={\"sample_type_3\":\"sample1_type\",\"extraction_protocol_short\":\"sample1_extraction_protocol_short\"})\n",
    "    df = df.merge(md_sample_type3, right_index=True, left_on=\"sample2\")\n",
    "    df = df.rename(columns={\"sample_type_3\":\"sample2_type\",\"extraction_protocol_short\":\"sample2_extraction_protocol_short\"})\n",
    "    df = df.merge(md.loc[:,[\"sample_type\",\"sample_type_2\",\"biomass_sample\",\"biomass_sample_long\"]], right_index=True, left_on=\"sample1\")\n",
    "    df = df.query('sample1_type==sample2_type & sample1_extraction_protocol_short==sample2_extraction_protocol_short & sample1!=sample2')\n",
    "    out_dfs[metric] = df\n",
    "    #.groupby([\"sample1_bead_beating\",\"sample1_type\"]).agg({\"value\":[\"mean\",scipy.stats.sem]})\n",
    "    "
   ]
  },
  {
   "cell_type": "markdown",
   "metadata": {},
   "source": [
    "## Export data frames"
   ]
  },
  {
   "cell_type": "code",
   "execution_count": 44,
   "metadata": {},
   "outputs": [],
   "source": [
    "metric=\"jaccard\"\n",
    "df = out_dfs[metric]\n",
    "df = df.query('sample_type_2 not in [\"doorknob\",\"mouse feces\",\"mouse jejunum tissue\", \"PCR extraction control\", \"two strains\"]')\n",
    "df = df.drop_duplicates(\"value\")\n",
    "df.to_csv(\"01_16S/metadata/technical_replicate_distances_jaccard.tsv\", sep = '\\t', index = False)\n"
   ]
  },
  {
   "cell_type": "code",
   "execution_count": 48,
   "metadata": {},
   "outputs": [],
   "source": [
    "metric=\"deicode\"\n",
    "df = out_dfs[metric]\n",
    "df = df.query('sample_type_2 not in [\"doorknob\",\"mouse feces\",\"mouse jejunum tissue\", \"PCR extraction control\"]')\n",
    "df = df.drop_duplicates(\"value\")\n",
    "df.to_csv(\"01_16S/metadata/technical_replicate_distances_rpca.tsv\", sep = '\\t', index = False)\n"
   ]
  },
  {
   "cell_type": "code",
   "execution_count": 49,
   "metadata": {},
   "outputs": [],
   "source": [
    "metric=\"unweighted_unifrac\"\n",
    "df = out_dfs[metric]\n",
    "df = df.query('sample_type_2 not in [\"doorknob\",\"mouse feces\",\"mouse jejunum tissue\", \"PCR extraction control\"]')\n",
    "df = df.drop_duplicates(\"value\")\n",
    "df.to_csv(\"01_16S/metadata/technical_replicate_distances_unweighted_unifrac.tsv\", sep = '\\t', index = False)\n"
   ]
  },
  {
   "cell_type": "code",
   "execution_count": 50,
   "metadata": {},
   "outputs": [],
   "source": [
    "metric=\"weighted_unifrac\"\n",
    "df = out_dfs[metric]\n",
    "df = df.query('sample_type_2 not in [\"doorknob\",\"mouse feces\",\"mouse jejunum tissue\", \"PCR extraction control\"]')\n",
    "df = df.drop_duplicates(\"value\")\n",
    "df.to_csv(\"01_16S/metadata/technical_replicate_distances_weighted_unifrac.tsv\", sep = '\\t', index = False)\n"
   ]
  },
  {
   "cell_type": "markdown",
   "metadata": {},
   "source": [
    "# Metagenomics processing"
   ]
  },
  {
   "cell_type": "code",
   "execution_count": 3,
   "metadata": {},
   "outputs": [],
   "source": [
    "def add_taxsplit(taxdf):\n",
    "    # split taxonomy \n",
    "    def tax_split(tax_id, tax_level): return tax_id.split(\n",
    "        tax_level)[1].split(';')[0]\n",
    "    for level, lname in zip(['k__', 'p__', 'c__', 'o__',\n",
    "                             'f__', 'g__', 's__'],\n",
    "                            ['kingdom', 'phylum', 'class',\n",
    "                             'order', 'family', 'genus',\n",
    "                             'species']):\n",
    "        if lname not in taxdf.columns:\n",
    "            taxonomy_tmp = []\n",
    "            for tax in taxdf.Taxon:\n",
    "                if tax is not np.nan and\\\n",
    "                   level in tax and\\\n",
    "                   len(tax_split(tax, level)) > 0:\n",
    "                    taxonomy_tmp.append(tax_split(tax,\n",
    "                                                  level))\n",
    "                else:\n",
    "                    taxonomy_tmp.append(np.nan)\n",
    "            taxdf[lname] = taxonomy_tmp\n",
    "    return taxdf\n"
   ]
  },
  {
   "cell_type": "markdown",
   "metadata": {},
   "source": [
    "## Import data - high biomass"
   ]
  },
  {
   "cell_type": "code",
   "execution_count": 54,
   "metadata": {},
   "outputs": [],
   "source": [
    "# Data\n",
    "qza = q2.Artifact.load(\"01_shotgun/gotu_profile_updated_sampleIDs_highBiomass.qza\")\n",
    "bt = qza.view(Table)\n",
    "\n",
    "# Metadata\n",
    "md = pd.read_csv(\"01_shotgun/metadata_12201_round3_read_counts_alpha_diversity_2020.09.24.txt\",sep='\\t', index_col=0)\n",
    "md.index.name=\"sample_name\"\n",
    "md_q2 = q2.Metadata(md)\n",
    "\n",
    "# Filter samples\n",
    "md = md.loc[ md.sample_type.notna(), ]\n",
    "bt_samples = set(bt.ids(s))\n",
    "md_samples = set(md.index)\n",
    "all_samples_keep = bt_samples & md_samples\n",
    "bt.filter(all_samples_keep)\n",
    "md = md.query('index in @all_samples_keep')\n",
    "\n",
    "# Remove blank samples\n",
    "blank_samples = set( md.query('sample_type==\"control blank\"').index )\n",
    "bt_no_blank = bt.filter(blank_samples, invert=True, inplace=False)\n",
    "md_noblank = md.query('sample_type!=\"control blank\"').copy()\n",
    "\n",
    "# Convert back to qza\n",
    "qza = q2.Artifact.import_data('FeatureTable[Frequency]', bt)\n",
    "qza_no_blank = q2.Artifact.import_data('FeatureTable[Frequency]', bt_no_blank)\n",
    "\n",
    "# Taxonomy\n",
    "tax_q2 = q2.Artifact.load(\"../../03_Web_of_life/wol_taxonomy.qza\")\n",
    "tax_df = pd.DataFrame(tax_q2.view(pd.Series))\n",
    "tax_df = add_taxsplit(tax_df)\n",
    "\n",
    "# Tree\n",
    "tree_q2 = q2.Artifact.import_data('Phylogeny[Rooted]', \"../../03_Web_of_life/wol_tree.nwk\")\n"
   ]
  },
  {
   "cell_type": "markdown",
   "metadata": {},
   "source": [
    "## Calculate distances - high biomass"
   ]
  },
  {
   "cell_type": "code",
   "execution_count": 56,
   "metadata": {},
   "outputs": [
    {
     "name": "stderr",
     "output_type": "stream",
     "text": [
      "/Users/Justin/miniconda3/envs/qiime2-2020.8/lib/python3.6/site-packages/sklearn/metrics/pairwise.py:1761: DataConversionWarning: Data was converted to boolean for metric jaccard\n",
      "/Users/Justin/miniconda3/envs/qiime2-2020.8/lib/python3.6/site-packages/biom/table.py:4068: FutureWarning: SparseDataFrame is deprecated and will be removed in a future version.\n",
      "Use a regular DataFrame whose columns are SparseArrays instead.\n",
      "\n",
      "See http://pandas.pydata.org/pandas-docs/stable/user_guide/sparse.html#migrating for more.\n",
      "\n"
     ]
    }
   ],
   "source": [
    "# Rarefy\n",
    "qza_rare = rarefy(qza, 35000).rarefied_table\n",
    "bt_rare = qza_rare.view(Table)\n",
    "\n",
    "dms = {}\n",
    "\n",
    "# Jaccard\n",
    "dms[\"jaccard\"] = beta(table=qza_rare, metric=\"jaccard\").distance_matrix.view(DistanceMatrix)\n",
    "\n",
    "# weighted unifrac\n",
    "dms[\"weighted_unifrac\"] = beta_phylogenetic(table=qza_rare, phylogeny=tree_q2, metric=\"weighted_unifrac\").distance_matrix.view(DistanceMatrix)\n",
    "\n",
    "# unweighted unifrac\n",
    "dms[\"unweighted_unifrac\"] = beta_phylogenetic(table=qza_rare, phylogeny=tree_q2, metric=\"unweighted_unifrac\").distance_matrix.view(DistanceMatrix)\n",
    "\n",
    "# Deicode\n",
    "bplt, dm= rpca(table=qza,n_components=3, min_sample_count=35000, min_feature_count=10)\n",
    "dms[\"deicode\"] = dm.view(DistanceMatrix)\n"
   ]
  },
  {
   "cell_type": "code",
   "execution_count": 57,
   "metadata": {},
   "outputs": [],
   "source": [
    "md_sample_type3 = md.loc[:,[\"sample_type_3\",\"extraction_protocol_short\"]]\n",
    "out_dfs = {}\n",
    "for metric,dm in dms.items():\n",
    "    df = dm.to_data_frame()\n",
    "    df=df.reset_index().melt(id_vars=\"index\")\n",
    "    df.columns=[\"sample1\",\"sample2\",\"value\"]\n",
    "    df = df.merge(md_sample_type3, right_index=True, left_on=\"sample1\")\n",
    "    df = df.rename(columns={\"sample_type_3\":\"sample1_type\",\"extraction_protocol_short\":\"sample1_extraction_protocol_short\"})\n",
    "    df = df.merge(md_sample_type3, right_index=True, left_on=\"sample2\")\n",
    "    df = df.rename(columns={\"sample_type_3\":\"sample2_type\",\"extraction_protocol_short\":\"sample2_extraction_protocol_short\"})\n",
    "    df = df.merge(md.loc[:,[\"sample_type\",\"sample_type_2\",\"biomass_sample\",\"biomass_sample_long\"]], right_index=True, left_on=\"sample1\")\n",
    "    df = df.query('sample1_type==sample2_type & sample1_extraction_protocol_short==sample2_extraction_protocol_short & sample1!=sample2')\n",
    "    out_dfs[metric] = df\n",
    "    #.groupby([\"sample1_bead_beating\",\"sample1_type\"]).agg({\"value\":[\"mean\",scipy.stats.sem]})\n",
    "    "
   ]
  },
  {
   "cell_type": "markdown",
   "metadata": {},
   "source": [
    "## Export data frames - high biomass"
   ]
  },
  {
   "cell_type": "code",
   "execution_count": 62,
   "metadata": {},
   "outputs": [],
   "source": [
    "metric=\"jaccard\"\n",
    "df = out_dfs[metric]\n",
    "df = df.query('sample_type_2 not in [\"bare soil\"]')\n",
    "df = df.drop_duplicates(\"value\")\n",
    "df.to_csv(\"01_shotgun/technical_replicate_distances_shotgun_high_biomass_jaccard.tsv\", sep = '\\t', index = False)\n"
   ]
  },
  {
   "cell_type": "code",
   "execution_count": 63,
   "metadata": {},
   "outputs": [],
   "source": [
    "metric=\"deicode\"\n",
    "df = out_dfs[metric]\n",
    "df = df.query('sample_type_2 not in [\"bare soil\"]')\n",
    "df = df.drop_duplicates(\"value\")\n",
    "df.to_csv(\"01_shotgun/technical_replicate_distances_shotgun_high_biomass_rpca.tsv\", sep = '\\t', index = False)\n"
   ]
  },
  {
   "cell_type": "code",
   "execution_count": 64,
   "metadata": {},
   "outputs": [],
   "source": [
    "metric=\"unweighted_unifrac\"\n",
    "df = out_dfs[metric]\n",
    "df = df.query('sample_type_2 not in [\"bare soil\"]')\n",
    "df = df.drop_duplicates(\"value\")\n",
    "df.to_csv(\"01_shotgun/technical_replicate_distances_shotgun_high_biomass_unweighted_unifrac.tsv\", sep = '\\t', index = False)\n"
   ]
  },
  {
   "cell_type": "code",
   "execution_count": 65,
   "metadata": {},
   "outputs": [],
   "source": [
    "metric=\"weighted_unifrac\"\n",
    "df = out_dfs[metric]\n",
    "df = df.query('sample_type_2 not in [\"bare soil\"]')\n",
    "df = df.drop_duplicates(\"value\")\n",
    "df.to_csv(\"01_shotgun/technical_replicate_distances_shotgun_high_biomass_weighted_unifrac.tsv\", sep = '\\t', index = False)\n"
   ]
  },
  {
   "cell_type": "markdown",
   "metadata": {},
   "source": [
    "## Import data - low biomass"
   ]
  },
  {
   "cell_type": "code",
   "execution_count": 66,
   "metadata": {},
   "outputs": [],
   "source": [
    "# Data\n",
    "qza = q2.Artifact.load(\"01_shotgun/gotu_profile_updated_sampleIDs_lowBiomass.qza\")\n",
    "bt = qza.view(Table)\n",
    "\n",
    "# Metadata\n",
    "md = pd.read_csv(\"01_shotgun/metadata_12201_round3_read_counts_alpha_diversity_2020.09.24.txt\",sep='\\t', index_col=0)\n",
    "md.index.name=\"sample_name\"\n",
    "md_q2 = q2.Metadata(md)\n",
    "\n",
    "# Filter samples\n",
    "md = md.loc[ md.sample_type.notna(), ]\n",
    "bt_samples = set(bt.ids(s))\n",
    "md_samples = set(md.index)\n",
    "all_samples_keep = bt_samples & md_samples\n",
    "bt.filter(all_samples_keep)\n",
    "md = md.query('index in @all_samples_keep')\n",
    "\n",
    "# Remove blank samples\n",
    "blank_samples = set( md.query('sample_type==\"control blank\"').index )\n",
    "bt_no_blank = bt.filter(blank_samples, invert=True, inplace=False)\n",
    "md_noblank = md.query('sample_type!=\"control blank\"').copy()\n",
    "\n",
    "# Convert back to qza\n",
    "qza = q2.Artifact.import_data('FeatureTable[Frequency]', bt)\n",
    "qza_no_blank = q2.Artifact.import_data('FeatureTable[Frequency]', bt_no_blank)\n",
    "\n",
    "# Taxonomy\n",
    "tax_q2 = q2.Artifact.load(\"../../03_Web_of_life/wol_taxonomy.qza\")\n",
    "tax_df = pd.DataFrame(tax_q2.view(pd.Series))\n",
    "tax_df = add_taxsplit(tax_df)\n",
    "\n",
    "# Tree\n",
    "tree_q2 = q2.Artifact.import_data('Phylogeny[Rooted]', \"../../03_Web_of_life/wol_tree.nwk\")\n"
   ]
  },
  {
   "cell_type": "markdown",
   "metadata": {},
   "source": [
    "## Calculate distances - low biomass"
   ]
  },
  {
   "cell_type": "code",
   "execution_count": 67,
   "metadata": {},
   "outputs": [
    {
     "name": "stderr",
     "output_type": "stream",
     "text": [
      "/Users/Justin/miniconda3/envs/qiime2-2020.8/lib/python3.6/site-packages/sklearn/metrics/pairwise.py:1761: DataConversionWarning: Data was converted to boolean for metric jaccard\n",
      "/Users/Justin/miniconda3/envs/qiime2-2020.8/lib/python3.6/site-packages/biom/table.py:4068: FutureWarning: SparseDataFrame is deprecated and will be removed in a future version.\n",
      "Use a regular DataFrame whose columns are SparseArrays instead.\n",
      "\n",
      "See http://pandas.pydata.org/pandas-docs/stable/user_guide/sparse.html#migrating for more.\n",
      "\n"
     ]
    }
   ],
   "source": [
    "# Rarefy\n",
    "qza_rare = rarefy(qza, 20000).rarefied_table\n",
    "bt_rare = qza_rare.view(Table)\n",
    "\n",
    "dms = {}\n",
    "\n",
    "# Jaccard\n",
    "dms[\"jaccard\"] = beta(table=qza_rare, metric=\"jaccard\").distance_matrix.view(DistanceMatrix)\n",
    "\n",
    "# weighted unifrac\n",
    "dms[\"weighted_unifrac\"] = beta_phylogenetic(table=qza_rare, phylogeny=tree_q2, metric=\"weighted_unifrac\").distance_matrix.view(DistanceMatrix)\n",
    "\n",
    "# unweighted unifrac\n",
    "dms[\"unweighted_unifrac\"] = beta_phylogenetic(table=qza_rare, phylogeny=tree_q2, metric=\"unweighted_unifrac\").distance_matrix.view(DistanceMatrix)\n",
    "\n",
    "# Deicode\n",
    "bplt, dm= rpca(table=qza,n_components=3, min_sample_count=20000, min_feature_count=10)\n",
    "dms[\"deicode\"] = dm.view(DistanceMatrix)\n"
   ]
  },
  {
   "cell_type": "code",
   "execution_count": 68,
   "metadata": {},
   "outputs": [],
   "source": [
    "md_sample_type3 = md.loc[:,[\"sample_type_3\",\"extraction_protocol_short\"]]\n",
    "out_dfs = {}\n",
    "for metric,dm in dms.items():\n",
    "    df = dm.to_data_frame()\n",
    "    df=df.reset_index().melt(id_vars=\"index\")\n",
    "    df.columns=[\"sample1\",\"sample2\",\"value\"]\n",
    "    df = df.merge(md_sample_type3, right_index=True, left_on=\"sample1\")\n",
    "    df = df.rename(columns={\"sample_type_3\":\"sample1_type\",\"extraction_protocol_short\":\"sample1_extraction_protocol_short\"})\n",
    "    df = df.merge(md_sample_type3, right_index=True, left_on=\"sample2\")\n",
    "    df = df.rename(columns={\"sample_type_3\":\"sample2_type\",\"extraction_protocol_short\":\"sample2_extraction_protocol_short\"})\n",
    "    df = df.merge(md.loc[:,[\"sample_type\",\"sample_type_2\",\"biomass_sample\",\"biomass_sample_long\"]], right_index=True, left_on=\"sample1\")\n",
    "    df = df.query('sample1_type==sample2_type & sample1_extraction_protocol_short==sample2_extraction_protocol_short & sample1!=sample2')\n",
    "    out_dfs[metric] = df\n",
    "    #.groupby([\"sample1_bead_beating\",\"sample1_type\"]).agg({\"value\":[\"mean\",scipy.stats.sem]})\n",
    "    "
   ]
  },
  {
   "cell_type": "markdown",
   "metadata": {},
   "source": [
    "## Export data frames - high biomass"
   ]
  },
  {
   "cell_type": "code",
   "execution_count": 69,
   "metadata": {},
   "outputs": [],
   "source": [
    "metric=\"jaccard\"\n",
    "df = out_dfs[metric]\n",
    "#df = df.query('sample_type_2 not in [\"bare soil\"]')\n",
    "df = df.drop_duplicates(\"value\")\n",
    "df.to_csv(\"01_shotgun/technical_replicate_distances_shotgun_low_biomass_jaccard.tsv\", sep = '\\t', index = False)\n"
   ]
  },
  {
   "cell_type": "code",
   "execution_count": 70,
   "metadata": {},
   "outputs": [],
   "source": [
    "metric=\"deicode\"\n",
    "df = out_dfs[metric]\n",
    "#df = df.query('sample_type_2 not in [\"bare soil\"]')\n",
    "df = df.drop_duplicates(\"value\")\n",
    "df.to_csv(\"01_shotgun/technical_replicate_distances_shotgun_low_biomass_rpca.tsv\", sep = '\\t', index = False)\n"
   ]
  },
  {
   "cell_type": "code",
   "execution_count": 71,
   "metadata": {},
   "outputs": [],
   "source": [
    "metric=\"unweighted_unifrac\"\n",
    "df = out_dfs[metric]\n",
    "#df = df.query('sample_type_2 not in [\"bare soil\"]')\n",
    "df = df.drop_duplicates(\"value\")\n",
    "df.to_csv(\"01_shotgun/technical_replicate_distances_shotgun_low_biomass_unweighted_unifrac.tsv\", sep = '\\t', index = False)\n"
   ]
  },
  {
   "cell_type": "code",
   "execution_count": 72,
   "metadata": {},
   "outputs": [],
   "source": [
    "metric=\"weighted_unifrac\"\n",
    "df = out_dfs[metric]\n",
    "#df = df.query('sample_type_2 not in [\"bare soil\"]')\n",
    "df = df.drop_duplicates(\"value\")\n",
    "df.to_csv(\"01_shotgun/technical_replicate_distances_shotgun_low_biomass_weighted_unifrac.tsv\", sep = '\\t', index = False)\n"
   ]
  },
  {
   "cell_type": "code",
   "execution_count": null,
   "metadata": {},
   "outputs": [],
   "source": []
  },
  {
   "cell_type": "code",
   "execution_count": null,
   "metadata": {},
   "outputs": [],
   "source": []
  }
 ],
 "metadata": {
  "kernelspec": {
   "display_name": "Python 3",
   "language": "python",
   "name": "python3"
  },
  "language_info": {
   "codemirror_mode": {
    "name": "ipython",
    "version": 3
   },
   "file_extension": ".py",
   "mimetype": "text/x-python",
   "name": "python",
   "nbconvert_exporter": "python",
   "pygments_lexer": "ipython3",
   "version": "3.6.11"
  }
 },
 "nbformat": 4,
 "nbformat_minor": 4
}
