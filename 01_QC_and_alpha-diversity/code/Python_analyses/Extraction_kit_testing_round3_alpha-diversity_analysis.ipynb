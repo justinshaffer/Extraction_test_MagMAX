{
 "cells": [
  {
   "cell_type": "code",
   "execution_count": 1,
   "metadata": {},
   "outputs": [
    {
     "name": "stdout",
     "output_type": "stream",
     "text": [
      "/Users/Justin/Google-Drive-UCSD/UCSD/00_Knight_Lab/03_Extraction_test_12201/round_03_2vs20min/01_16S/data\n"
     ]
    }
   ],
   "source": [
    "cd /Users/Justin/Google-Drive-UCSD/UCSD/00_Knight_Lab/03_Extraction_test_12201/round_03_2vs20min/01_16S/data/\n"
   ]
  },
  {
   "cell_type": "code",
   "execution_count": null,
   "metadata": {},
   "outputs": [],
   "source": [
    "qiime tools import \\\n",
    "  --input-path extraction_test_round_3_tree.tre \\\n",
    "  --output-path extraction_test_round_3_tree.qza \\\n",
    "  --type 'Phylogeny[Rooted]'\n"
   ]
  },
  {
   "cell_type": "code",
   "execution_count": null,
   "metadata": {},
   "outputs": [],
   "source": [
    "qiime feature-table rarefy \\\n",
    "  --i-table extraction_test_round_3_biom_lod.qza \\\n",
    "  --p-sampling-depth 5000 \\\n",
    "  --o-rarefied-table extraction_test_round_3_biom_lod_rar5k.qza\n",
    "\n",
    "qiime feature-table summarize \\\n",
    "  --i-table extraction_test_round_3_biom_lod_rar5k.qza \\\n",
    "  --o-visualization extraction_test_round_3_biom_lod_rar5k.qzv\n",
    "  "
   ]
  },
  {
   "cell_type": "code",
   "execution_count": null,
   "metadata": {},
   "outputs": [],
   "source": [
    "qiime diversity alpha-phylogenetic \\\n",
    "  --i-table extraction_test_round_3_biom_lod_rar5k.qza \\\n",
    "  --i-phylogeny extraction_test_round_3_tree.qza \\\n",
    "  --p-metric faith_pd \\\n",
    "  --o-alpha-diversity extraction_test_round_3_biom_lod_rar5k_alpha_faithspd.qza\n",
    "\n",
    "qiime diversity alpha \\\n",
    "  --i-table extraction_test_round_3_biom_lod_rar5k.qza \\\n",
    "  --p-metric shannon \\\n",
    "  --o-alpha-diversity extraction_test_round_3_biom_lod_rar5k_alpha_shannon.qza\n",
    "  \n",
    "qiime diversity alpha \\\n",
    "  --i-table extraction_test_round_3_biom_lod_rar5k.qza \\\n",
    "  --p-metric observed_features \\\n",
    "  --o-alpha-diversity extraction_test_round_3_biom_lod_rar5k_alpha_richness.qza\n",
    "  "
   ]
  },
  {
   "cell_type": "code",
   "execution_count": 2,
   "metadata": {},
   "outputs": [
    {
     "name": "stdout",
     "output_type": "stream",
     "text": [
      "/Users/Justin/Google-Drive-UCSD/UCSD/00_Knight_Lab/03_Extraction_test_12201/round_03_2vs20min/01_shotgun\n"
     ]
    }
   ],
   "source": [
    "cd /Users/Justin/Google-Drive-UCSD/UCSD/00_Knight_Lab/03_Extraction_test_12201/round_03_2vs20min/01_shotgun/\n"
   ]
  },
  {
   "cell_type": "code",
   "execution_count": null,
   "metadata": {},
   "outputs": [],
   "source": [
    "qiime diversity alpha-phylogenetic \\\n",
    "  --i-table gotu_profile_updated_sampleIDs_highBiomass_rar35K.qza \\\n",
    "  --i-phylogeny ../../../03_Web_of_life/wol_tree.qza \\\n",
    "  --p-metric faith_pd \\\n",
    "  --o-alpha-diversity gotu_profile_updated_sampleIDs_highBiomass_rar35K_alpha_faithspd.qza\n",
    "\n",
    "qiime diversity alpha \\\n",
    "  --i-table gotu_profile_updated_sampleIDs_highBiomass_rar35K.qza \\\n",
    "  --p-metric shannon \\\n",
    "  --o-alpha-diversity gotu_profile_updated_sampleIDs_highBiomass_rar35K_alpha_shannon.qza\n",
    "  \n",
    "qiime diversity alpha \\\n",
    "  --i-table gotu_profile_updated_sampleIDs_highBiomass_rar35K.qza \\\n",
    "  --p-metric observed_features \\\n",
    "  --o-alpha-diversity gotu_profile_updated_sampleIDs_highBiomass_rar35K_alpha_richness.qza\n",
    "  "
   ]
  },
  {
   "cell_type": "code",
   "execution_count": null,
   "metadata": {},
   "outputs": [],
   "source": [
    "qiime diversity alpha-phylogenetic \\\n",
    "  --i-table gotu_profile_updated_sampleIDs_lowBiomass_rar20K.qza \\\n",
    "  --i-phylogeny ../../../03_Web_of_life/wol_tree.qza \\\n",
    "  --p-metric faith_pd \\\n",
    "  --o-alpha-diversity gotu_profile_updated_sampleIDs_lowBiomass_rar20K_alpha_faithspd.qza\n",
    "\n",
    "qiime diversity alpha \\\n",
    "  --i-table gotu_profile_updated_sampleIDs_lowBiomass_rar20K.qza \\\n",
    "  --p-metric shannon \\\n",
    "  --o-alpha-diversity gotu_profile_updated_sampleIDs_lowBiomass_rar20K_alpha_shannon.qza\n",
    "  \n",
    "qiime diversity alpha \\\n",
    "  --i-table gotu_profile_updated_sampleIDs_lowBiomass_rar20K.qza \\\n",
    "  --p-metric observed_features \\\n",
    "  --o-alpha-diversity gotu_profile_updated_sampleIDs_lowBiomass_rar20K_alpha_richness.qza\n"
   ]
  }
 ],
 "metadata": {
  "kernelspec": {
   "display_name": "Python 3",
   "language": "python",
   "name": "python3"
  },
  "language_info": {
   "codemirror_mode": {
    "name": "ipython",
    "version": 3
   },
   "file_extension": ".py",
   "mimetype": "text/x-python",
   "name": "python",
   "nbconvert_exporter": "python",
   "pygments_lexer": "ipython3",
   "version": "3.6.11"
  }
 },
 "nbformat": 4,
 "nbformat_minor": 4
}
