{
 "cells": [
  {
   "cell_type": "code",
   "execution_count": 1,
   "metadata": {},
   "outputs": [
    {
     "name": "stderr",
     "output_type": "stream",
     "text": [
      "/Users/cmartino/miniconda3/envs/qiime2-2019.10-tut/lib/python3.6/site-packages/skbio/util/_testing.py:15: FutureWarning: pandas.util.testing is deprecated. Use the functions in the public API at pandas.testing instead.\n",
      "  import pandas.util.testing as pdt\n"
     ]
    }
   ],
   "source": [
    "import qiime2 as q2\n",
    "import biom as biom\n",
    "import pandas as pd\n",
    "from skbio import (DistanceMatrix, OrdinationResults)\n",
    "from qiime2.plugins.feature_table.methods import rarefy\n",
    "from qiime2.plugins.diversity.actions import (beta_phylogenetic, beta, pcoa)\n",
    "from qiime2.plugins.deicode.actions import rpca\n",
    "from assets.step_wise_anova import run_stepwise_anova\n"
   ]
  },
  {
   "cell_type": "code",
   "execution_count": 2,
   "metadata": {
    "scrolled": false
   },
   "outputs": [
    {
     "name": "stderr",
     "output_type": "stream",
     "text": [
      "/Users/cmartino/miniconda3/envs/qiime2-2019.10-tut/lib/python3.6/site-packages/sklearn/metrics/pairwise.py:1575: DataConversionWarning: Data was converted to boolean for metric jaccard\n",
      "  warnings.warn(msg, DataConversionWarning)\n",
      "/Users/cmartino/miniconda3/envs/qiime2-2019.10-tut/lib/python3.6/site-packages/skbio/stats/ordination/_principal_coordinate_analysis.py:152: RuntimeWarning: The result contains negative eigenvalues. Please compare their magnitude with the magnitude of some of the largest positive eigenvalues. If the negative ones are smaller, it's probably safe to ignore them, but if they are large in magnitude, the results won't be useful. See the Notes section for more details. The smallest eigenvalue is -1.3495110633640899 and the largest is 56.776462396506666.\n",
      "  RuntimeWarning\n",
      "/Users/cmartino/miniconda3/envs/qiime2-2019.10-tut/lib/python3.6/site-packages/skbio/stats/ordination/_principal_coordinate_analysis.py:152: RuntimeWarning: The result contains negative eigenvalues. Please compare their magnitude with the magnitude of some of the largest positive eigenvalues. If the negative ones are smaller, it's probably safe to ignore them, but if they are large in magnitude, the results won't be useful. See the Notes section for more details. The smallest eigenvalue is -0.1124154371378007 and the largest is 38.27598236299044.\n",
      "  RuntimeWarning\n",
      "/Users/cmartino/miniconda3/envs/qiime2-2019.10-tut/lib/python3.6/site-packages/skbio/stats/ordination/_principal_coordinate_analysis.py:152: RuntimeWarning: The result contains negative eigenvalues. Please compare their magnitude with the magnitude of some of the largest positive eigenvalues. If the negative ones are smaller, it's probably safe to ignore them, but if they are large in magnitude, the results won't be useful. See the Notes section for more details. The smallest eigenvalue is -0.07003004580705269 and the largest is 39.72438193550055.\n",
      "  RuntimeWarning\n"
     ]
    },
    {
     "name": "stdout",
     "output_type": "stream",
     "text": [
      "Running external command line application(s). This may print messages to stdout and/or stderr.\n",
      "The command(s) being run are below. These commands cannot be manually re-run as they will depend on temporary files that no longer exist.\n",
      "\n",
      "Command: /Users/cmartino/Dropbox/bin/kit-compare-updated/code/assets/stepwise-rda.R /var/folders/tt/zz8n1d_55_n6r7czk3k1qwcw0000gp/T/tmp01hio3y6/ord_.tsv /var/folders/tt/zz8n1d_55_n6r7czk3k1qwcw0000gp/T/tmp01hio3y6/mf_.txt /var/folders/tt/zz8n1d_55_n6r7czk3k1qwcw0000gp/T/tmp01hio3y6/output.effect.size.tsv\n",
      "\n",
      "Running external command line application(s). This may print messages to stdout and/or stderr.\n",
      "The command(s) being run are below. These commands cannot be manually re-run as they will depend on temporary files that no longer exist.\n",
      "\n",
      "Command: /Users/cmartino/Dropbox/bin/kit-compare-updated/code/assets/stepwise-rda.R /var/folders/tt/zz8n1d_55_n6r7czk3k1qwcw0000gp/T/tmppfk6wlzs/ord_.tsv /var/folders/tt/zz8n1d_55_n6r7czk3k1qwcw0000gp/T/tmppfk6wlzs/mf_.txt /var/folders/tt/zz8n1d_55_n6r7czk3k1qwcw0000gp/T/tmppfk6wlzs/output.effect.size.tsv\n",
      "\n",
      "Running external command line application(s). This may print messages to stdout and/or stderr.\n",
      "The command(s) being run are below. These commands cannot be manually re-run as they will depend on temporary files that no longer exist.\n",
      "\n",
      "Command: /Users/cmartino/Dropbox/bin/kit-compare-updated/code/assets/stepwise-rda.R /var/folders/tt/zz8n1d_55_n6r7czk3k1qwcw0000gp/T/tmp_y5hdva2/ord_.tsv /var/folders/tt/zz8n1d_55_n6r7czk3k1qwcw0000gp/T/tmp_y5hdva2/mf_.txt /var/folders/tt/zz8n1d_55_n6r7czk3k1qwcw0000gp/T/tmp_y5hdva2/output.effect.size.tsv\n",
      "\n",
      "Running external command line application(s). This may print messages to stdout and/or stderr.\n",
      "The command(s) being run are below. These commands cannot be manually re-run as they will depend on temporary files that no longer exist.\n",
      "\n",
      "Command: /Users/cmartino/Dropbox/bin/kit-compare-updated/code/assets/stepwise-rda.R /var/folders/tt/zz8n1d_55_n6r7czk3k1qwcw0000gp/T/tmpvnwsv9dv/ord_.tsv /var/folders/tt/zz8n1d_55_n6r7czk3k1qwcw0000gp/T/tmpvnwsv9dv/mf_.txt /var/folders/tt/zz8n1d_55_n6r7czk3k1qwcw0000gp/T/tmpvnwsv9dv/output.effect.size.tsv\n",
      "\n"
     ]
    },
    {
     "name": "stderr",
     "output_type": "stream",
     "text": [
      "/Users/cmartino/miniconda3/envs/qiime2-2019.10-tut/lib/python3.6/site-packages/sklearn/metrics/pairwise.py:1575: DataConversionWarning: Data was converted to boolean for metric jaccard\n",
      "  warnings.warn(msg, DataConversionWarning)\n",
      "/Users/cmartino/miniconda3/envs/qiime2-2019.10-tut/lib/python3.6/site-packages/skbio/stats/ordination/_principal_coordinate_analysis.py:152: RuntimeWarning: The result contains negative eigenvalues. Please compare their magnitude with the magnitude of some of the largest positive eigenvalues. If the negative ones are smaller, it's probably safe to ignore them, but if they are large in magnitude, the results won't be useful. See the Notes section for more details. The smallest eigenvalue is -2.6535726705770593 and the largest is 265.8818116421414.\n",
      "  RuntimeWarning\n",
      "/Users/cmartino/miniconda3/envs/qiime2-2019.10-tut/lib/python3.6/site-packages/skbio/stats/ordination/_principal_coordinate_analysis.py:152: RuntimeWarning: The result contains negative eigenvalues. Please compare their magnitude with the magnitude of some of the largest positive eigenvalues. If the negative ones are smaller, it's probably safe to ignore them, but if they are large in magnitude, the results won't be useful. See the Notes section for more details. The smallest eigenvalue is -0.04243150423973881 and the largest is 40.30919493914609.\n",
      "  RuntimeWarning\n",
      "/Users/cmartino/miniconda3/envs/qiime2-2019.10-tut/lib/python3.6/site-packages/skbio/stats/ordination/_principal_coordinate_analysis.py:152: RuntimeWarning: The result contains negative eigenvalues. Please compare their magnitude with the magnitude of some of the largest positive eigenvalues. If the negative ones are smaller, it's probably safe to ignore them, but if they are large in magnitude, the results won't be useful. See the Notes section for more details. The smallest eigenvalue is -0.018533509092568345 and the largest is 46.82726508341914.\n",
      "  RuntimeWarning\n"
     ]
    },
    {
     "name": "stdout",
     "output_type": "stream",
     "text": [
      "Running external command line application(s). This may print messages to stdout and/or stderr.\n",
      "The command(s) being run are below. These commands cannot be manually re-run as they will depend on temporary files that no longer exist.\n",
      "\n",
      "Command: /Users/cmartino/Dropbox/bin/kit-compare-updated/code/assets/stepwise-rda.R /var/folders/tt/zz8n1d_55_n6r7czk3k1qwcw0000gp/T/tmpkwu7soi8/ord_.tsv /var/folders/tt/zz8n1d_55_n6r7czk3k1qwcw0000gp/T/tmpkwu7soi8/mf_.txt /var/folders/tt/zz8n1d_55_n6r7czk3k1qwcw0000gp/T/tmpkwu7soi8/output.effect.size.tsv\n",
      "\n",
      "Running external command line application(s). This may print messages to stdout and/or stderr.\n",
      "The command(s) being run are below. These commands cannot be manually re-run as they will depend on temporary files that no longer exist.\n",
      "\n",
      "Command: /Users/cmartino/Dropbox/bin/kit-compare-updated/code/assets/stepwise-rda.R /var/folders/tt/zz8n1d_55_n6r7czk3k1qwcw0000gp/T/tmpq4e0x4to/ord_.tsv /var/folders/tt/zz8n1d_55_n6r7czk3k1qwcw0000gp/T/tmpq4e0x4to/mf_.txt /var/folders/tt/zz8n1d_55_n6r7czk3k1qwcw0000gp/T/tmpq4e0x4to/output.effect.size.tsv\n",
      "\n",
      "Running external command line application(s). This may print messages to stdout and/or stderr.\n",
      "The command(s) being run are below. These commands cannot be manually re-run as they will depend on temporary files that no longer exist.\n",
      "\n",
      "Command: /Users/cmartino/Dropbox/bin/kit-compare-updated/code/assets/stepwise-rda.R /var/folders/tt/zz8n1d_55_n6r7czk3k1qwcw0000gp/T/tmpq76zvx48/ord_.tsv /var/folders/tt/zz8n1d_55_n6r7czk3k1qwcw0000gp/T/tmpq76zvx48/mf_.txt /var/folders/tt/zz8n1d_55_n6r7czk3k1qwcw0000gp/T/tmpq76zvx48/output.effect.size.tsv\n",
      "\n",
      "Running external command line application(s). This may print messages to stdout and/or stderr.\n",
      "The command(s) being run are below. These commands cannot be manually re-run as they will depend on temporary files that no longer exist.\n",
      "\n",
      "Command: /Users/cmartino/Dropbox/bin/kit-compare-updated/code/assets/stepwise-rda.R /var/folders/tt/zz8n1d_55_n6r7czk3k1qwcw0000gp/T/tmpq____tjl/ord_.tsv /var/folders/tt/zz8n1d_55_n6r7czk3k1qwcw0000gp/T/tmpq____tjl/mf_.txt /var/folders/tt/zz8n1d_55_n6r7czk3k1qwcw0000gp/T/tmpq____tjl/output.effect.size.tsv\n",
      "\n"
     ]
    }
   ],
   "source": [
    "# init\n",
    "rare = 5000 # rare depth\n",
    "minfeat = 2 # remove doubletons\n",
    "# encode different protocols\n",
    "protocols = {}\n",
    "protocols['16S'] = [5000,\n",
    "                    '../data/%s/extraction_test_round_3_biom_lod.qza' % ('16S'),\n",
    "                    '../data/%s/metadata_12201_round3_qiitaIDs_2020.08.12_qiime2.txt' % ('16S'),\n",
    "                    '../data/%s/extraction_test_round3_16S_150bp_deblur_insertion_tree.tre' % ('16S')]\n",
    "protocols['metagenomic'] = [17000,\n",
    "                             '../data/%s/gotu_profile_updated_sampleIDs_min17K.qza' % ('Metagenomic'),\n",
    "                            '../data/%s/metadata_12201_round3_qiitaIDs_2020.08.17_qiime2.txt' % ('Metagenomic'),\n",
    "                            '../data/%s/phylogeny.qza' % ('Metagenomic')]\n",
    "# repeat both protocols\n",
    "for protocol, (rare, table, metadata, tree) in protocols.items():\n",
    "    # import data\n",
    "    table = q2.Artifact.load(table)\n",
    "    if 'qza' not in tree:\n",
    "        tree = q2.Artifact.import_data('Phylogeny[Rooted]', tree)\n",
    "    else:\n",
    "        tree = q2.Artifact.load(tree)\n",
    "    metadata = q2.Metadata.load(metadata)\n",
    "    # filter and rare\n",
    "    bt = table.view(biom.Table)\n",
    "    bt = bt.filter(bt.ids('sample')[bt.sum('sample') >= rare])\n",
    "    bt = bt.filter(bt.ids('observation')[bt.sum('observation') > minfeat], 'observation')\n",
    "    table = q2.Artifact.import_data('FeatureTable[Frequency]', bt)\n",
    "    # rarefy \n",
    "    rarTable = rarefy(table, rare).rarefied_table\n",
    "    # unifrac/jaccard\n",
    "    weighted_unifrac_dist = beta_phylogenetic(rarTable, tree, 'weighted_unifrac').distance_matrix\n",
    "    unweighted_unifrac_dist = beta_phylogenetic(rarTable, tree, 'unweighted_unifrac').distance_matrix\n",
    "    jaccard_dist = beta(rarTable, 'jaccard').distance_matrix\n",
    "    weighted_unifrac_pcoa = pcoa(weighted_unifrac_dist).pcoa\n",
    "    unweighted_unifrac_pcoa = pcoa(unweighted_unifrac_dist).pcoa\n",
    "    jaccard_pcoa = pcoa(jaccard_dist).pcoa\n",
    "    # RPCA\n",
    "    (rpca_biplot, rpca_dist) = rpca(table)\n",
    "    # encode all results\n",
    "    ordinations = {'weighted_unifrac':weighted_unifrac_pcoa.view(OrdinationResults).samples,\n",
    "                    'unweighted_unifrac':unweighted_unifrac_pcoa.view(OrdinationResults).samples,\n",
    "                    'jaccard':jaccard_pcoa.view(OrdinationResults).samples,\n",
    "                    'RPCA':rpca_biplot.view(OrdinationResults).samples}\n",
    "    effect_size = {}\n",
    "    # run stepwise RDA on all ordinations\n",
    "    for ord_type, orddf in ordinations.items():\n",
    "        orddf, mf = (orddf[[0,1,2]], metadata.to_dataframe().copy().reindex(orddf.index))\n",
    "        effect_size_df_tmp = run_stepwise_anova(orddf, mf,\n",
    "                                                ['bead_beating', 'biomass_sample',\n",
    "                                                 'extraction_protocol', \n",
    "                                                 'host_subject_id','sample_type_2'])\n",
    "        effect_size_df_tmp.index = [i.replace('+ ', '') for i in effect_size_df_tmp.index]\n",
    "        effect_size[ord_type] = effect_size_df_tmp\n",
    "    # merge and save\n",
    "    effect_size = pd.concat(effect_size)\n",
    "    effect_size.to_csv('../results/%s-Stepwise-ANOVA.csv' % (protocol))\n"
   ]
  },
  {
   "cell_type": "code",
   "execution_count": null,
   "metadata": {},
   "outputs": [],
   "source": []
  },
  {
   "cell_type": "code",
   "execution_count": null,
   "metadata": {},
   "outputs": [],
   "source": []
  },
  {
   "cell_type": "code",
   "execution_count": null,
   "metadata": {},
   "outputs": [],
   "source": []
  }
 ],
 "metadata": {
  "kernelspec": {
   "display_name": "Python 3",
   "language": "python",
   "name": "python3"
  },
  "language_info": {
   "codemirror_mode": {
    "name": "ipython",
    "version": 3
   },
   "file_extension": ".py",
   "mimetype": "text/x-python",
   "name": "python",
   "nbconvert_exporter": "python",
   "pygments_lexer": "ipython3",
   "version": "3.6.7"
  }
 },
 "nbformat": 4,
 "nbformat_minor": 2
}
