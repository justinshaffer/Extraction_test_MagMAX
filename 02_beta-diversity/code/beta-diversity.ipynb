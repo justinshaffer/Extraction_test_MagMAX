{
 "cells": [
  {
   "cell_type": "markdown",
   "metadata": {},
   "source": [
    "# Before you start\n",
    "This notebook starts after performing the previous `Q2import_demux_deblur_treebuilding_taxonomy`, which means you should have the following files available:  \n",
    "\n",
    "`merged_gg-taxonomy.qza` #Greengenes naive-based classifier traind on the V4 region  \n",
    "`merged_rep-seqs.qza` #rep-seqs following Deblur  \n",
    "`merged_table.qza` #feature-table from run1 + run 2 merged  \n",
    "`merged_tree.qza` # sepp insertion tree made with greengenes backbone using the above rep-seqs  \n",
    "`metadata1.tsv`  # qiita sample metadata,for q2 I changed column `sample.name` to `sample_name` in R first"
   ]
  },
  {
   "cell_type": "code",
   "execution_count": 1,
   "metadata": {},
   "outputs": [
    {
     "name": "stdout",
     "output_type": "stream",
     "text": [
      "\u001b[32mUUID\u001b[0m:        70a2b5e6-d5f4-4fcd-a41d-46532fcb7a08\r\n",
      "\u001b[32mType\u001b[0m:        FeatureTable[Frequency]\r\n",
      "\u001b[32mData format\u001b[0m: BIOMV210DirFmt\r\n"
     ]
    }
   ],
   "source": [
    "!qiime tools peek merged_table.qza"
   ]
  },
  {
   "cell_type": "code",
   "execution_count": 2,
   "metadata": {},
   "outputs": [],
   "source": [
    "import os\n",
    "import biom\n",
    "import warnings\n",
    "import pickle\n",
    "import numpy as np\n",
    "import pandas as pd\n",
    "import qiime2 as q2\n",
    "from biom import Table\n",
    "from skbio import OrdinationResults\n",
    "from skbio.stats import subsample_counts\n",
    "from skbio.stats.distance import permanova, anosim, mantel\n",
    "from skbio.stats.distance import DistanceMatrix\n",
    "from qiime2.plugins.deicode.actions import rpca\n",
    "from qiime2.plugins.feature_table.actions import rarefy\n",
    "from qiime2.plugins.diversity.actions import beta_group_significance\n",
    "from qiime2.plugins.emperor.actions import biplot, plot\n",
    "from qiime2.plugins.diversity.actions import (beta,\n",
    "                                              beta_phylogenetic,\n",
    "                                              pcoa)\n",
    "from qiime2.plugins import demux, deblur, quality_filter, \\\n",
    "                           metadata, feature_table, alignment, \\\n",
    "                           phylogeny, diversity, emperor, feature_classifier, \\\n",
    "                           taxa, composition\n",
    "\n",
    "from assets.step_wise_anova import run_stepwise_anova\n",
    "from qiime2.plugins.fragment_insertion.actions import filter_features\n",
    "warnings.filterwarnings(\"ignore\", category=DeprecationWarning)\n",
    "\n",
    "# helper functions\n",
    "from utils.util import (mantel_matched, simulate_depth,\n",
    "                        all_dists, nested_permanova)\n",
    "\n",
    "# plotting\n",
    "import matplotlib\n",
    "import seaborn as sns\n",
    "import matplotlib.pyplot as plt\n",
    "warnings.filterwarnings('ignore')\n",
    "\n",
    "plt.style.use('ggplot')\n",
    "%matplotlib inline"
   ]
  },
  {
   "cell_type": "code",
   "execution_count": 3,
   "metadata": {},
   "outputs": [],
   "source": [
    "# import data\n",
    "table = q2.Artifact.load('merged_table.qza')\n",
    "mf = q2.Metadata.load('metadata1.tsv')\n",
    "tree = q2.Artifact.load('merged_tree.qza')"
   ]
  },
  {
   "cell_type": "code",
   "execution_count": 26,
   "metadata": {},
   "outputs": [],
   "source": [
    "#Running core-metrics\n",
    "core_metrics_1k = diversity.pipelines.core_metrics_phylogenetic(table = table,\n",
    "                                                             phylogeny = tree,\n",
    "                                                             sampling_depth = 1000,\n",
    "                                                             metadata = mf)"
   ]
  },
  {
   "cell_type": "code",
   "execution_count": 30,
   "metadata": {
    "collapsed": true
   },
   "outputs": [
    {
     "data": {
      "text/html": [
       "<div><img onload=\"(function(div, url){\n",
       "if (typeof require !== 'undefined') {\n",
       "    var baseURL = require.toUrl('').split('/').slice(0, -2).join('/');\n",
       "} else {\n",
       "    var baseURL = JSON.parse(\n",
       "        document.getElementById('jupyter-config-data').innerHTML\n",
       "    ).baseUrl.slice(0, -1);\n",
       "}\n",
       "url = baseURL + url;\n",
       "fetch(url).then(function(res) {\n",
       "    if (res.status === 404) {\n",
       "        div.innerHTML = 'Install QIIME 2 Jupyter extension with:<br />' +\n",
       "                        '<code>jupyter serverextension enable --py qiime2' +\n",
       "                        ' --sys-prefix</code><br />then restart your server.' +\n",
       "                        '<br /><br />(Interactive output not available on ' +\n",
       "                        'static notebook viewer services like nbviewer.)';\n",
       "    } else if (res.status === 409) {\n",
       "        div.innerHTML = 'Visualization no longer in scope. Re-run this cell' +\n",
       "                        ' to see the visualization.';\n",
       "    } else if (res.ok) {\n",
       "        url = res.url;\n",
       "        div.innerHTML = '<iframe src=\\'' + url + '\\' style=\\'' +\n",
       "                        'width: 100%; height: 700px; border: 0;\\'>' +\n",
       "                        '</iframe><hr />Open in a: <a href=\\'' + url + '\\'' +\n",
       "                        ' target=\\'_blank\\'>new window</a>'\n",
       "    } else {\n",
       "        div.innerHTML = 'Something has gone wrong. Check notebook server for' +\n",
       "                        ' errors.';\n",
       "    }\n",
       "});\n",
       "})(this.parentElement, '/qiime2/redirect?location=/tmp/qiime2-archive-vh3xnob5')\" src=\"data:image/gif;base64,R0lGODlhAQABAIAAAP///wAAACH5BAEAAAAALAAAAAABAAEAAAICRAEAOw==\" /></div>"
      ],
      "text/plain": [
       "<visualization: Visualization uuid: e6967038-b56b-4298-bba4-2aa256f762a2>"
      ]
     },
     "execution_count": 30,
     "metadata": {},
     "output_type": "execute_result"
    }
   ],
   "source": [
    "#visualize unweighted UniFrac\n",
    "emp_plot1k_uUnifrac = emperor.visualizers.plot(core_metrics_1k.unweighted_unifrac_pcoa_results,\n",
    "                                        mf)\n",
    "emp_plot1k_uUnifrac.visualization"
   ]
  },
  {
   "cell_type": "code",
   "execution_count": 37,
   "metadata": {
    "collapsed": true
   },
   "outputs": [
    {
     "data": {
      "text/html": [
       "<div><img onload=\"(function(div, url){\n",
       "if (typeof require !== 'undefined') {\n",
       "    var baseURL = require.toUrl('').split('/').slice(0, -2).join('/');\n",
       "} else {\n",
       "    var baseURL = JSON.parse(\n",
       "        document.getElementById('jupyter-config-data').innerHTML\n",
       "    ).baseUrl.slice(0, -1);\n",
       "}\n",
       "url = baseURL + url;\n",
       "fetch(url).then(function(res) {\n",
       "    if (res.status === 404) {\n",
       "        div.innerHTML = 'Install QIIME 2 Jupyter extension with:<br />' +\n",
       "                        '<code>jupyter serverextension enable --py qiime2' +\n",
       "                        ' --sys-prefix</code><br />then restart your server.' +\n",
       "                        '<br /><br />(Interactive output not available on ' +\n",
       "                        'static notebook viewer services like nbviewer.)';\n",
       "    } else if (res.status === 409) {\n",
       "        div.innerHTML = 'Visualization no longer in scope. Re-run this cell' +\n",
       "                        ' to see the visualization.';\n",
       "    } else if (res.ok) {\n",
       "        url = res.url;\n",
       "        div.innerHTML = '<iframe src=\\'' + url + '\\' style=\\'' +\n",
       "                        'width: 100%; height: 700px; border: 0;\\'>' +\n",
       "                        '</iframe><hr />Open in a: <a href=\\'' + url + '\\'' +\n",
       "                        ' target=\\'_blank\\'>new window</a>'\n",
       "    } else {\n",
       "        div.innerHTML = 'Something has gone wrong. Check notebook server for' +\n",
       "                        ' errors.';\n",
       "    }\n",
       "});\n",
       "})(this.parentElement, '/qiime2/redirect?location=/tmp/qiime2-archive-jqd8_5fc')\" src=\"data:image/gif;base64,R0lGODlhAQABAIAAAP///wAAACH5BAEAAAAALAAAAAABAAEAAAICRAEAOw==\" /></div>"
      ],
      "text/plain": [
       "<visualization: Visualization uuid: 077f1c89-24b0-4127-8801-549532d59ba4>"
      ]
     },
     "execution_count": 37,
     "metadata": {},
     "output_type": "execute_result"
    }
   ],
   "source": [
    "#visualize weighted UniFrac\n",
    "emp_plot1k_wUnifrac = emperor.visualizers.plot(core_metrics_1k.weighted_unifrac_pcoa_results,\n",
    "                                        mf)\n",
    "emp_plot1k_wUnifrac.visualization"
   ]
  },
  {
   "cell_type": "code",
   "execution_count": 34,
   "metadata": {
    "collapsed": true
   },
   "outputs": [
    {
     "data": {
      "text/html": [
       "<div><img onload=\"(function(div, url){\n",
       "if (typeof require !== 'undefined') {\n",
       "    var baseURL = require.toUrl('').split('/').slice(0, -2).join('/');\n",
       "} else {\n",
       "    var baseURL = JSON.parse(\n",
       "        document.getElementById('jupyter-config-data').innerHTML\n",
       "    ).baseUrl.slice(0, -1);\n",
       "}\n",
       "url = baseURL + url;\n",
       "fetch(url).then(function(res) {\n",
       "    if (res.status === 404) {\n",
       "        div.innerHTML = 'Install QIIME 2 Jupyter extension with:<br />' +\n",
       "                        '<code>jupyter serverextension enable --py qiime2' +\n",
       "                        ' --sys-prefix</code><br />then restart your server.' +\n",
       "                        '<br /><br />(Interactive output not available on ' +\n",
       "                        'static notebook viewer services like nbviewer.)';\n",
       "    } else if (res.status === 409) {\n",
       "        div.innerHTML = 'Visualization no longer in scope. Re-run this cell' +\n",
       "                        ' to see the visualization.';\n",
       "    } else if (res.ok) {\n",
       "        url = res.url;\n",
       "        div.innerHTML = '<iframe src=\\'' + url + '\\' style=\\'' +\n",
       "                        'width: 100%; height: 700px; border: 0;\\'>' +\n",
       "                        '</iframe><hr />Open in a: <a href=\\'' + url + '\\'' +\n",
       "                        ' target=\\'_blank\\'>new window</a>'\n",
       "    } else {\n",
       "        div.innerHTML = 'Something has gone wrong. Check notebook server for' +\n",
       "                        ' errors.';\n",
       "    }\n",
       "});\n",
       "})(this.parentElement, '/qiime2/redirect?location=/tmp/qiime2-archive-k51y8ik2')\" src=\"data:image/gif;base64,R0lGODlhAQABAIAAAP///wAAACH5BAEAAAAALAAAAAABAAEAAAICRAEAOw==\" /></div>"
      ],
      "text/plain": [
       "<visualization: Visualization uuid: c60e4e3b-d01b-4343-9655-e148e5a2ee3f>"
      ]
     },
     "execution_count": 34,
     "metadata": {},
     "output_type": "execute_result"
    }
   ],
   "source": [
    "#visualize Bray-Curtis\n",
    "emp_plot1k_bray = emperor.visualizers.plot(core_metrics_1k.bray_curtis_pcoa_results,\n",
    "                                        mf)\n",
    "emp_plot1k_bray.visualization"
   ]
  },
  {
   "cell_type": "markdown",
   "metadata": {},
   "source": [
    "Now looking at 3k rarefy."
   ]
  },
  {
   "cell_type": "code",
   "execution_count": 35,
   "metadata": {},
   "outputs": [],
   "source": [
    "#Running core-metrics\n",
    "core_metrics_3k = diversity.pipelines.core_metrics_phylogenetic(table = table,\n",
    "                                                             phylogeny = tree,\n",
    "                                                             sampling_depth = 3000,\n",
    "                                                             metadata = mf)"
   ]
  },
  {
   "cell_type": "code",
   "execution_count": 36,
   "metadata": {
    "collapsed": true
   },
   "outputs": [
    {
     "data": {
      "text/html": [
       "<div><img onload=\"(function(div, url){\n",
       "if (typeof require !== 'undefined') {\n",
       "    var baseURL = require.toUrl('').split('/').slice(0, -2).join('/');\n",
       "} else {\n",
       "    var baseURL = JSON.parse(\n",
       "        document.getElementById('jupyter-config-data').innerHTML\n",
       "    ).baseUrl.slice(0, -1);\n",
       "}\n",
       "url = baseURL + url;\n",
       "fetch(url).then(function(res) {\n",
       "    if (res.status === 404) {\n",
       "        div.innerHTML = 'Install QIIME 2 Jupyter extension with:<br />' +\n",
       "                        '<code>jupyter serverextension enable --py qiime2' +\n",
       "                        ' --sys-prefix</code><br />then restart your server.' +\n",
       "                        '<br /><br />(Interactive output not available on ' +\n",
       "                        'static notebook viewer services like nbviewer.)';\n",
       "    } else if (res.status === 409) {\n",
       "        div.innerHTML = 'Visualization no longer in scope. Re-run this cell' +\n",
       "                        ' to see the visualization.';\n",
       "    } else if (res.ok) {\n",
       "        url = res.url;\n",
       "        div.innerHTML = '<iframe src=\\'' + url + '\\' style=\\'' +\n",
       "                        'width: 100%; height: 700px; border: 0;\\'>' +\n",
       "                        '</iframe><hr />Open in a: <a href=\\'' + url + '\\'' +\n",
       "                        ' target=\\'_blank\\'>new window</a>'\n",
       "    } else {\n",
       "        div.innerHTML = 'Something has gone wrong. Check notebook server for' +\n",
       "                        ' errors.';\n",
       "    }\n",
       "});\n",
       "})(this.parentElement, '/qiime2/redirect?location=/tmp/qiime2-archive-_4zqqsa_')\" src=\"data:image/gif;base64,R0lGODlhAQABAIAAAP///wAAACH5BAEAAAAALAAAAAABAAEAAAICRAEAOw==\" /></div>"
      ],
      "text/plain": [
       "<visualization: Visualization uuid: e3106d1f-a0dd-4398-aef5-06fc678e930a>"
      ]
     },
     "execution_count": 36,
     "metadata": {},
     "output_type": "execute_result"
    }
   ],
   "source": [
    "#visualize unweighted UniFrac\n",
    "emp_plot3k_uUnifrac = emperor.visualizers.plot(core_metrics_3k.unweighted_unifrac_pcoa_results,\n",
    "                                        mf)\n",
    "emp_plot3k_uUnifrac.visualization"
   ]
  },
  {
   "cell_type": "code",
   "execution_count": 38,
   "metadata": {
    "collapsed": true
   },
   "outputs": [
    {
     "data": {
      "text/html": [
       "<div><img onload=\"(function(div, url){\n",
       "if (typeof require !== 'undefined') {\n",
       "    var baseURL = require.toUrl('').split('/').slice(0, -2).join('/');\n",
       "} else {\n",
       "    var baseURL = JSON.parse(\n",
       "        document.getElementById('jupyter-config-data').innerHTML\n",
       "    ).baseUrl.slice(0, -1);\n",
       "}\n",
       "url = baseURL + url;\n",
       "fetch(url).then(function(res) {\n",
       "    if (res.status === 404) {\n",
       "        div.innerHTML = 'Install QIIME 2 Jupyter extension with:<br />' +\n",
       "                        '<code>jupyter serverextension enable --py qiime2' +\n",
       "                        ' --sys-prefix</code><br />then restart your server.' +\n",
       "                        '<br /><br />(Interactive output not available on ' +\n",
       "                        'static notebook viewer services like nbviewer.)';\n",
       "    } else if (res.status === 409) {\n",
       "        div.innerHTML = 'Visualization no longer in scope. Re-run this cell' +\n",
       "                        ' to see the visualization.';\n",
       "    } else if (res.ok) {\n",
       "        url = res.url;\n",
       "        div.innerHTML = '<iframe src=\\'' + url + '\\' style=\\'' +\n",
       "                        'width: 100%; height: 700px; border: 0;\\'>' +\n",
       "                        '</iframe><hr />Open in a: <a href=\\'' + url + '\\'' +\n",
       "                        ' target=\\'_blank\\'>new window</a>'\n",
       "    } else {\n",
       "        div.innerHTML = 'Something has gone wrong. Check notebook server for' +\n",
       "                        ' errors.';\n",
       "    }\n",
       "});\n",
       "})(this.parentElement, '/qiime2/redirect?location=/tmp/qiime2-archive-engxozp2')\" src=\"data:image/gif;base64,R0lGODlhAQABAIAAAP///wAAACH5BAEAAAAALAAAAAABAAEAAAICRAEAOw==\" /></div>"
      ],
      "text/plain": [
       "<visualization: Visualization uuid: 8dcc822c-cc2d-4e5f-9986-3bc41fbbe896>"
      ]
     },
     "execution_count": 38,
     "metadata": {},
     "output_type": "execute_result"
    }
   ],
   "source": [
    "#visualize weighted UniFrac\n",
    "emp_plot3k_wUnifrac = emperor.visualizers.plot(core_metrics_3k.weighted_unifrac_pcoa_results,\n",
    "                                        mf)\n",
    "emp_plot3k_wUnifrac.visualization"
   ]
  },
  {
   "cell_type": "code",
   "execution_count": 39,
   "metadata": {
    "collapsed": true
   },
   "outputs": [
    {
     "data": {
      "text/html": [
       "<div><img onload=\"(function(div, url){\n",
       "if (typeof require !== 'undefined') {\n",
       "    var baseURL = require.toUrl('').split('/').slice(0, -2).join('/');\n",
       "} else {\n",
       "    var baseURL = JSON.parse(\n",
       "        document.getElementById('jupyter-config-data').innerHTML\n",
       "    ).baseUrl.slice(0, -1);\n",
       "}\n",
       "url = baseURL + url;\n",
       "fetch(url).then(function(res) {\n",
       "    if (res.status === 404) {\n",
       "        div.innerHTML = 'Install QIIME 2 Jupyter extension with:<br />' +\n",
       "                        '<code>jupyter serverextension enable --py qiime2' +\n",
       "                        ' --sys-prefix</code><br />then restart your server.' +\n",
       "                        '<br /><br />(Interactive output not available on ' +\n",
       "                        'static notebook viewer services like nbviewer.)';\n",
       "    } else if (res.status === 409) {\n",
       "        div.innerHTML = 'Visualization no longer in scope. Re-run this cell' +\n",
       "                        ' to see the visualization.';\n",
       "    } else if (res.ok) {\n",
       "        url = res.url;\n",
       "        div.innerHTML = '<iframe src=\\'' + url + '\\' style=\\'' +\n",
       "                        'width: 100%; height: 700px; border: 0;\\'>' +\n",
       "                        '</iframe><hr />Open in a: <a href=\\'' + url + '\\'' +\n",
       "                        ' target=\\'_blank\\'>new window</a>'\n",
       "    } else {\n",
       "        div.innerHTML = 'Something has gone wrong. Check notebook server for' +\n",
       "                        ' errors.';\n",
       "    }\n",
       "});\n",
       "})(this.parentElement, '/qiime2/redirect?location=/tmp/qiime2-archive-dns4nid1')\" src=\"data:image/gif;base64,R0lGODlhAQABAIAAAP///wAAACH5BAEAAAAALAAAAAABAAEAAAICRAEAOw==\" /></div>"
      ],
      "text/plain": [
       "<visualization: Visualization uuid: 7e233263-2f5c-4207-a5ff-2cd6ac43065e>"
      ]
     },
     "execution_count": 39,
     "metadata": {},
     "output_type": "execute_result"
    }
   ],
   "source": [
    "#visualize Bray-Curtis\n",
    "emp_plot3k_bray = emperor.visualizers.plot(core_metrics_3k.bray_curtis_pcoa_results,\n",
    "                                        mf)\n",
    "emp_plot3k_bray.visualization"
   ]
  },
  {
   "cell_type": "markdown",
   "metadata": {},
   "source": [
    "Now looking at 5k rarefy."
   ]
  },
  {
   "cell_type": "code",
   "execution_count": 40,
   "metadata": {},
   "outputs": [],
   "source": [
    "#Running core-metrics\n",
    "core_metrics_5k = diversity.pipelines.core_metrics_phylogenetic(table = table,\n",
    "                                                             phylogeny = tree,\n",
    "                                                             sampling_depth = 5000,\n",
    "                                                             metadata = mf)"
   ]
  },
  {
   "cell_type": "code",
   "execution_count": 41,
   "metadata": {},
   "outputs": [
    {
     "data": {
      "text/html": [
       "<div><img onload=\"(function(div, url){\n",
       "if (typeof require !== 'undefined') {\n",
       "    var baseURL = require.toUrl('').split('/').slice(0, -2).join('/');\n",
       "} else {\n",
       "    var baseURL = JSON.parse(\n",
       "        document.getElementById('jupyter-config-data').innerHTML\n",
       "    ).baseUrl.slice(0, -1);\n",
       "}\n",
       "url = baseURL + url;\n",
       "fetch(url).then(function(res) {\n",
       "    if (res.status === 404) {\n",
       "        div.innerHTML = 'Install QIIME 2 Jupyter extension with:<br />' +\n",
       "                        '<code>jupyter serverextension enable --py qiime2' +\n",
       "                        ' --sys-prefix</code><br />then restart your server.' +\n",
       "                        '<br /><br />(Interactive output not available on ' +\n",
       "                        'static notebook viewer services like nbviewer.)';\n",
       "    } else if (res.status === 409) {\n",
       "        div.innerHTML = 'Visualization no longer in scope. Re-run this cell' +\n",
       "                        ' to see the visualization.';\n",
       "    } else if (res.ok) {\n",
       "        url = res.url;\n",
       "        div.innerHTML = '<iframe src=\\'' + url + '\\' style=\\'' +\n",
       "                        'width: 100%; height: 700px; border: 0;\\'>' +\n",
       "                        '</iframe><hr />Open in a: <a href=\\'' + url + '\\'' +\n",
       "                        ' target=\\'_blank\\'>new window</a>'\n",
       "    } else {\n",
       "        div.innerHTML = 'Something has gone wrong. Check notebook server for' +\n",
       "                        ' errors.';\n",
       "    }\n",
       "});\n",
       "})(this.parentElement, '/qiime2/redirect?location=/tmp/qiime2-archive-oqto2_j5')\" src=\"data:image/gif;base64,R0lGODlhAQABAIAAAP///wAAACH5BAEAAAAALAAAAAABAAEAAAICRAEAOw==\" /></div>"
      ],
      "text/plain": [
       "<visualization: Visualization uuid: b5d15cc1-82fa-4b8e-82de-2f52b3295149>"
      ]
     },
     "execution_count": 41,
     "metadata": {},
     "output_type": "execute_result"
    }
   ],
   "source": [
    "#visualize unweighted UniFrac\n",
    "emp_plot5k_uUnifrac = emperor.visualizers.plot(core_metrics_5k.unweighted_unifrac_pcoa_results,\n",
    "                                        mf)\n",
    "emp_plot5k_uUnifrac.visualization"
   ]
  },
  {
   "cell_type": "code",
   "execution_count": 43,
   "metadata": {
    "collapsed": true
   },
   "outputs": [
    {
     "data": {
      "text/html": [
       "<div><img onload=\"(function(div, url){\n",
       "if (typeof require !== 'undefined') {\n",
       "    var baseURL = require.toUrl('').split('/').slice(0, -2).join('/');\n",
       "} else {\n",
       "    var baseURL = JSON.parse(\n",
       "        document.getElementById('jupyter-config-data').innerHTML\n",
       "    ).baseUrl.slice(0, -1);\n",
       "}\n",
       "url = baseURL + url;\n",
       "fetch(url).then(function(res) {\n",
       "    if (res.status === 404) {\n",
       "        div.innerHTML = 'Install QIIME 2 Jupyter extension with:<br />' +\n",
       "                        '<code>jupyter serverextension enable --py qiime2' +\n",
       "                        ' --sys-prefix</code><br />then restart your server.' +\n",
       "                        '<br /><br />(Interactive output not available on ' +\n",
       "                        'static notebook viewer services like nbviewer.)';\n",
       "    } else if (res.status === 409) {\n",
       "        div.innerHTML = 'Visualization no longer in scope. Re-run this cell' +\n",
       "                        ' to see the visualization.';\n",
       "    } else if (res.ok) {\n",
       "        url = res.url;\n",
       "        div.innerHTML = '<iframe src=\\'' + url + '\\' style=\\'' +\n",
       "                        'width: 100%; height: 700px; border: 0;\\'>' +\n",
       "                        '</iframe><hr />Open in a: <a href=\\'' + url + '\\'' +\n",
       "                        ' target=\\'_blank\\'>new window</a>'\n",
       "    } else {\n",
       "        div.innerHTML = 'Something has gone wrong. Check notebook server for' +\n",
       "                        ' errors.';\n",
       "    }\n",
       "});\n",
       "})(this.parentElement, '/qiime2/redirect?location=/tmp/qiime2-archive-ulhfb02f')\" src=\"data:image/gif;base64,R0lGODlhAQABAIAAAP///wAAACH5BAEAAAAALAAAAAABAAEAAAICRAEAOw==\" /></div>"
      ],
      "text/plain": [
       "<visualization: Visualization uuid: 2aeac4ae-f3a1-4f79-a720-8408a2d8f443>"
      ]
     },
     "execution_count": 43,
     "metadata": {},
     "output_type": "execute_result"
    }
   ],
   "source": [
    "#visualize weighted UniFrac\n",
    "emp_plot5k_wUnifrac = emperor.visualizers.plot(core_metrics_5k.weighted_unifrac_pcoa_results,\n",
    "                                        mf)\n",
    "emp_plot5k_wUnifrac.visualization"
   ]
  },
  {
   "cell_type": "code",
   "execution_count": 44,
   "metadata": {},
   "outputs": [
    {
     "data": {
      "text/html": [
       "<div><img onload=\"(function(div, url){\n",
       "if (typeof require !== 'undefined') {\n",
       "    var baseURL = require.toUrl('').split('/').slice(0, -2).join('/');\n",
       "} else {\n",
       "    var baseURL = JSON.parse(\n",
       "        document.getElementById('jupyter-config-data').innerHTML\n",
       "    ).baseUrl.slice(0, -1);\n",
       "}\n",
       "url = baseURL + url;\n",
       "fetch(url).then(function(res) {\n",
       "    if (res.status === 404) {\n",
       "        div.innerHTML = 'Install QIIME 2 Jupyter extension with:<br />' +\n",
       "                        '<code>jupyter serverextension enable --py qiime2' +\n",
       "                        ' --sys-prefix</code><br />then restart your server.' +\n",
       "                        '<br /><br />(Interactive output not available on ' +\n",
       "                        'static notebook viewer services like nbviewer.)';\n",
       "    } else if (res.status === 409) {\n",
       "        div.innerHTML = 'Visualization no longer in scope. Re-run this cell' +\n",
       "                        ' to see the visualization.';\n",
       "    } else if (res.ok) {\n",
       "        url = res.url;\n",
       "        div.innerHTML = '<iframe src=\\'' + url + '\\' style=\\'' +\n",
       "                        'width: 100%; height: 700px; border: 0;\\'>' +\n",
       "                        '</iframe><hr />Open in a: <a href=\\'' + url + '\\'' +\n",
       "                        ' target=\\'_blank\\'>new window</a>'\n",
       "    } else {\n",
       "        div.innerHTML = 'Something has gone wrong. Check notebook server for' +\n",
       "                        ' errors.';\n",
       "    }\n",
       "});\n",
       "})(this.parentElement, '/qiime2/redirect?location=/tmp/qiime2-archive-_hz6ftee')\" src=\"data:image/gif;base64,R0lGODlhAQABAIAAAP///wAAACH5BAEAAAAALAAAAAABAAEAAAICRAEAOw==\" /></div>"
      ],
      "text/plain": [
       "<visualization: Visualization uuid: 53227ff5-085c-46ed-812f-6b7b1dbdc247>"
      ]
     },
     "execution_count": 44,
     "metadata": {},
     "output_type": "execute_result"
    }
   ],
   "source": [
    "#visualize Bray-Curtis\n",
    "emp_plot5k_bray = emperor.visualizers.plot(core_metrics_5k.bray_curtis_pcoa_results,\n",
    "                                        mf)\n",
    "emp_plot5k_bray.visualization"
   ]
  },
  {
   "cell_type": "markdown",
   "metadata": {},
   "source": [
    "## Mantel tests between 2 mix vs 20 min MagMax \n",
    "Borrowing from Cam's code here."
   ]
  },
  {
   "cell_type": "code",
   "execution_count": 4,
   "metadata": {},
   "outputs": [],
   "source": [
    "# filter only two kits\n",
    "bt = table.view(Table)\n",
    "mfdf = mf.to_dataframe()\n",
    "mfdf = mfdf[mfdf.extraction_kit.isin(['MagMAX Microbiome'])]\n",
    "shared_ = list(set(bt.ids()) & set(mfdf.index))\n",
    "mfdf = mfdf.reindex(shared_)\n",
    "# filter table\n",
    "bt = bt.filter(shared_)\n",
    "keep_ = bt.ids('observation')[bt.sum('observation') > 0]\n",
    "bt.filter(keep_, axis='observation')\n",
    "# reimport\n",
    "table = q2.Artifact.import_data('FeatureTable[Frequency]', bt)\n",
    "mf = q2.Metadata(mfdf)"
   ]
  },
  {
   "cell_type": "markdown",
   "metadata": {},
   "source": [
    "### Comparing the 2 min protocl to 20 min protocol of MagMax kits only for now."
   ]
  },
  {
   "cell_type": "code",
   "execution_count": 5,
   "metadata": {},
   "outputs": [],
   "source": [
    "# generate dists using all_dissts utils\n",
    "rare_depth = 5000\n",
    "dists_res = all_dists(table,\n",
    "                      rare_depth, tree)"
   ]
  },
  {
   "cell_type": "code",
   "execution_count": 6,
   "metadata": {},
   "outputs": [],
   "source": [
    "# make a unique ID\n",
    "mf_dist = mf.to_dataframe().copy()\n",
    "mf_dist['unique_sample_id'] = ['.'.join(rn_.split('.')[:-2])\n",
    "                               for rn_ in mf_dist.index]\n",
    "grouping = 'bead_beating'\n",
    "ids = 'unique_sample_id'"
   ]
  },
  {
   "cell_type": "code",
   "execution_count": 7,
   "metadata": {},
   "outputs": [],
   "source": [
    "# run mantel for each distance\n",
    "mantel_res = {}\n",
    "for metric_, dist_mantel in dists_res.items():\n",
    "    # subset mf for dist (rare)\n",
    "    dist_mantel = dist_mantel.distance_matrix.view(DistanceMatrix)\n",
    "    mf_dist_sub = mf_dist.reindex(dist_mantel.ids)\n",
    "    # corr, p, n\n",
    "    mantel_res[metric_] = mantel_matched(dist_mantel,\n",
    "                                         mf_dist_sub,\n",
    "                                         grouping,\n",
    "                                         ids)"
   ]
  },
  {
   "cell_type": "code",
   "execution_count": 330,
   "metadata": {},
   "outputs": [],
   "source": [
    "#!mkdir results/\n",
    "#!mkdir results/tables/"
   ]
  },
  {
   "cell_type": "code",
   "execution_count": 8,
   "metadata": {},
   "outputs": [
    {
     "data": {
      "text/html": [
       "<div>\n",
       "<style scoped>\n",
       "    .dataframe tbody tr th:only-of-type {\n",
       "        vertical-align: middle;\n",
       "    }\n",
       "\n",
       "    .dataframe tbody tr th {\n",
       "        vertical-align: top;\n",
       "    }\n",
       "\n",
       "    .dataframe thead th {\n",
       "        text-align: right;\n",
       "    }\n",
       "</style>\n",
       "<table border=\"1\" class=\"dataframe\">\n",
       "  <thead>\n",
       "    <tr style=\"text-align: right;\">\n",
       "      <th></th>\n",
       "      <th>Jaccard</th>\n",
       "      <th>Unweighted UniFrac</th>\n",
       "      <th>Weighted UniFrac</th>\n",
       "      <th>RPCA</th>\n",
       "    </tr>\n",
       "  </thead>\n",
       "  <tbody>\n",
       "    <tr>\n",
       "      <th>corr</th>\n",
       "      <td>0.953669</td>\n",
       "      <td>0.928896</td>\n",
       "      <td>0.966179</td>\n",
       "      <td>0.913411</td>\n",
       "    </tr>\n",
       "    <tr>\n",
       "      <th>p</th>\n",
       "      <td>0.000200</td>\n",
       "      <td>0.000200</td>\n",
       "      <td>0.000200</td>\n",
       "      <td>0.000200</td>\n",
       "    </tr>\n",
       "    <tr>\n",
       "      <th>n</th>\n",
       "      <td>137.000000</td>\n",
       "      <td>137.000000</td>\n",
       "      <td>137.000000</td>\n",
       "      <td>137.000000</td>\n",
       "    </tr>\n",
       "  </tbody>\n",
       "</table>\n",
       "</div>"
      ],
      "text/plain": [
       "         Jaccard  Unweighted UniFrac  Weighted UniFrac        RPCA\n",
       "corr    0.953669            0.928896          0.966179    0.913411\n",
       "p       0.000200            0.000200          0.000200    0.000200\n",
       "n     137.000000          137.000000        137.000000  137.000000"
      ]
     },
     "execution_count": 8,
     "metadata": {},
     "output_type": "execute_result"
    }
   ],
   "source": [
    "# compile \n",
    "mantel_res = pd.DataFrame(mantel_res,\n",
    "                          ['corr', 'p', 'n'])\n",
    "mantel_res.to_csv('results/tables/mantel-kits_2min_20min.tsv', sep='\\t')\n",
    "mantel_res"
   ]
  },
  {
   "cell_type": "markdown",
   "metadata": {},
   "source": [
    "So we have very high correlation between the two tests which is good."
   ]
  },
  {
   "cell_type": "code",
   "execution_count": 9,
   "metadata": {},
   "outputs": [
    {
     "data": {
      "text/plain": [
       "sample_name\n",
       "skin.nares.A.2.1.microbiome2.C                    skin.nares.A.2.1\n",
       "built.doorknob.D.2.microbiome20.C               built.doorknob.D.2\n",
       "skin.forehead.eluent.P.1.microbiome2.C    skin.forehead.eluent.P.1\n",
       "uriM.O.2.microbiome20.L                                   uriM.O.2\n",
       "oral.throat.eluent.U.microbiome20.C           oral.throat.eluent.U\n",
       "                                                    ...           \n",
       "wat.S.A.1.microbiome20.L                                 wat.S.A.1\n",
       "skin.nares.B.1.1.microbiome2.C                    skin.nares.B.1.1\n",
       "oral.saline.vtm.A.3.microbiome20.C             oral.saline.vtm.A.3\n",
       "skin.forehead.B.3.2.microbiome20.C             skin.forehead.B.3.2\n",
       "skin.nares.D.1.1.microbiome2.C                    skin.nares.D.1.1\n",
       "Name: unique_sample_id, Length: 576, dtype: object"
      ]
     },
     "execution_count": 9,
     "metadata": {},
     "output_type": "execute_result"
    }
   ],
   "source": [
    "mf_dist[ids]"
   ]
  },
  {
   "cell_type": "code",
   "execution_count": 10,
   "metadata": {},
   "outputs": [],
   "source": [
    "# get ordinations (row=samples, cols=axes)\n",
    "pcoa_res = {}\n",
    "pcoa_res['Jaccard'] = pcoa(dists_res['Jaccard'].distance_matrix).pcoa.view(OrdinationResults).samples\n",
    "pcoa_res['Unweighted UniFrac'] = pcoa(dists_res['Unweighted UniFrac'].distance_matrix).pcoa.view(OrdinationResults).samples\n",
    "pcoa_res['Weighted UniFrac'] = pcoa(dists_res['Weighted UniFrac'].distance_matrix).pcoa.view(OrdinationResults).samples\n",
    "pcoa_res['RPCA'] = dists_res['RPCA'].biplot.view(OrdinationResults).samples\n"
   ]
  },
  {
   "cell_type": "code",
   "execution_count": 11,
   "metadata": {
    "scrolled": false
   },
   "outputs": [
    {
     "name": "stdout",
     "output_type": "stream",
     "text": [
      "Running external command line application(s). This may print messages to stdout and/or stderr.\n",
      "The command(s) being run are below. These commands cannot be manually re-run as they will depend on temporary files that no longer exist.\n",
      "\n",
      "Command: /home/mestaki/Desktop/post-doc/magmax_comparison/assets/stepwise-rda.R /tmp/tmp1sqqp8k4/ord_.tsv /tmp/tmp1sqqp8k4/mf_.txt /tmp/tmp1sqqp8k4/output.effect.size.tsv\n",
      "\n",
      "Running external command line application(s). This may print messages to stdout and/or stderr.\n",
      "The command(s) being run are below. These commands cannot be manually re-run as they will depend on temporary files that no longer exist.\n",
      "\n",
      "Command: /home/mestaki/Desktop/post-doc/magmax_comparison/assets/stepwise-rda.R /tmp/tmpg10q06hu/ord_.tsv /tmp/tmpg10q06hu/mf_.txt /tmp/tmpg10q06hu/output.effect.size.tsv\n",
      "\n",
      "Running external command line application(s). This may print messages to stdout and/or stderr.\n",
      "The command(s) being run are below. These commands cannot be manually re-run as they will depend on temporary files that no longer exist.\n",
      "\n",
      "Command: /home/mestaki/Desktop/post-doc/magmax_comparison/assets/stepwise-rda.R /tmp/tmpoguo7bmz/ord_.tsv /tmp/tmpoguo7bmz/mf_.txt /tmp/tmpoguo7bmz/output.effect.size.tsv\n",
      "\n",
      "Running external command line application(s). This may print messages to stdout and/or stderr.\n",
      "The command(s) being run are below. These commands cannot be manually re-run as they will depend on temporary files that no longer exist.\n",
      "\n",
      "Command: /home/mestaki/Desktop/post-doc/magmax_comparison/assets/stepwise-rda.R /tmp/tmps89o6dpj/ord_.tsv /tmp/tmps89o6dpj/mf_.txt /tmp/tmps89o6dpj/output.effect.size.tsv\n",
      "\n"
     ]
    },
    {
     "data": {
      "text/html": [
       "<div>\n",
       "<style scoped>\n",
       "    .dataframe tbody tr th:only-of-type {\n",
       "        vertical-align: middle;\n",
       "    }\n",
       "\n",
       "    .dataframe tbody tr th {\n",
       "        vertical-align: top;\n",
       "    }\n",
       "\n",
       "    .dataframe thead th {\n",
       "        text-align: right;\n",
       "    }\n",
       "</style>\n",
       "<table border=\"1\" class=\"dataframe\">\n",
       "  <thead>\n",
       "    <tr style=\"text-align: right;\">\n",
       "      <th></th>\n",
       "      <th></th>\n",
       "      <th>R2.adj</th>\n",
       "      <th>Df</th>\n",
       "      <th>AIC</th>\n",
       "      <th>F</th>\n",
       "      <th>Pr(&gt;F)</th>\n",
       "    </tr>\n",
       "  </thead>\n",
       "  <tbody>\n",
       "    <tr>\n",
       "      <th rowspan=\"2\" valign=\"top\">Jaccard</th>\n",
       "      <th>+ sample_type_3</th>\n",
       "      <td>0.907956</td>\n",
       "      <td>85</td>\n",
       "      <td>-444.599389</td>\n",
       "      <td>47.768527</td>\n",
       "      <td>0.000200</td>\n",
       "    </tr>\n",
       "    <tr>\n",
       "      <th>+ incubation</th>\n",
       "      <td>0.006910</td>\n",
       "      <td>1</td>\n",
       "      <td>-475.401064</td>\n",
       "      <td>26.811670</td>\n",
       "      <td>0.000200</td>\n",
       "    </tr>\n",
       "    <tr>\n",
       "      <th rowspan=\"2\" valign=\"top\">Unweighted UniFrac</th>\n",
       "      <th>+ sample_type_3</th>\n",
       "      <td>0.928937</td>\n",
       "      <td>85</td>\n",
       "      <td>-549.116900</td>\n",
       "      <td>62.976966</td>\n",
       "      <td>0.000200</td>\n",
       "    </tr>\n",
       "    <tr>\n",
       "      <th>+ incubation</th>\n",
       "      <td>0.002175</td>\n",
       "      <td>1</td>\n",
       "      <td>-560.948711</td>\n",
       "      <td>11.041108</td>\n",
       "      <td>0.000200</td>\n",
       "    </tr>\n",
       "    <tr>\n",
       "      <th rowspan=\"3\" valign=\"top\">Weighted UniFrac</th>\n",
       "      <th>+ sample_type_3</th>\n",
       "      <td>0.915989</td>\n",
       "      <td>85</td>\n",
       "      <td>-481.495494</td>\n",
       "      <td>52.694256</td>\n",
       "      <td>0.000200</td>\n",
       "    </tr>\n",
       "    <tr>\n",
       "      <th>+ biomass_sample</th>\n",
       "      <td>0.003247</td>\n",
       "      <td>1</td>\n",
       "      <td>-496.691615</td>\n",
       "      <td>13.784276</td>\n",
       "      <td>0.004399</td>\n",
       "    </tr>\n",
       "    <tr>\n",
       "      <th>+ bead_beating</th>\n",
       "      <td>0.001834</td>\n",
       "      <td>1</td>\n",
       "      <td>-505.247732</td>\n",
       "      <td>8.365581</td>\n",
       "      <td>0.000400</td>\n",
       "    </tr>\n",
       "    <tr>\n",
       "      <th rowspan=\"2\" valign=\"top\">RPCA</th>\n",
       "      <th>+ sample_type_3</th>\n",
       "      <td>0.918215</td>\n",
       "      <td>85</td>\n",
       "      <td>-492.341302</td>\n",
       "      <td>54.229845</td>\n",
       "      <td>0.000200</td>\n",
       "    </tr>\n",
       "    <tr>\n",
       "      <th>+ bead_beating</th>\n",
       "      <td>0.002746</td>\n",
       "      <td>1</td>\n",
       "      <td>-505.409262</td>\n",
       "      <td>12.046378</td>\n",
       "      <td>0.000200</td>\n",
       "    </tr>\n",
       "  </tbody>\n",
       "</table>\n",
       "</div>"
      ],
      "text/plain": [
       "                                       R2.adj  Df         AIC          F  \\\n",
       "Jaccard            + sample_type_3   0.907956  85 -444.599389  47.768527   \n",
       "                   + incubation      0.006910   1 -475.401064  26.811670   \n",
       "Unweighted UniFrac + sample_type_3   0.928937  85 -549.116900  62.976966   \n",
       "                   + incubation      0.002175   1 -560.948711  11.041108   \n",
       "Weighted UniFrac   + sample_type_3   0.915989  85 -481.495494  52.694256   \n",
       "                   + biomass_sample  0.003247   1 -496.691615  13.784276   \n",
       "                   + bead_beating    0.001834   1 -505.247732   8.365581   \n",
       "RPCA               + sample_type_3   0.918215  85 -492.341302  54.229845   \n",
       "                   + bead_beating    0.002746   1 -505.409262  12.046378   \n",
       "\n",
       "                                       Pr(>F)  \n",
       "Jaccard            + sample_type_3   0.000200  \n",
       "                   + incubation      0.000200  \n",
       "Unweighted UniFrac + sample_type_3   0.000200  \n",
       "                   + incubation      0.000200  \n",
       "Weighted UniFrac   + sample_type_3   0.000200  \n",
       "                   + biomass_sample  0.004399  \n",
       "                   + bead_beating    0.000400  \n",
       "RPCA               + sample_type_3   0.000200  \n",
       "                   + bead_beating    0.000200  "
      ]
     },
     "execution_count": 11,
     "metadata": {},
     "output_type": "execute_result"
    }
   ],
   "source": [
    "es_all = {}\n",
    "use_ = ['sample_type', 'sample_type_2','sample_type_3','biomass_sample', 'incubation','sample_technical_replicate', 'bead_beating']\n",
    "# clean up meta (only stuff to run)\n",
    "mf_ord = mf.to_dataframe().copy()\n",
    "# shit filter but works for now\n",
    "keep_ = [v_ for v_ in mf_ord.columns\n",
    "         if len(set(mf_ord[v_])) > 1 and\n",
    "         len(set(mf_ord[v_])) < mf_ord.shape[0]//2]\n",
    "mf_ord = mf_ord[keep_]\n",
    "# run stp-wise ANOVA for all ords\n",
    "for metric_, ord_ in  pcoa_res.items():\n",
    "    # get first three axes\n",
    "    ord_ = ord_[[0,1,2]]\n",
    "    ord_.columns = ['PC1','PC2','PC3']\n",
    "    # subset/match\n",
    "    mf_ord_ = mf_ord.copy()\n",
    "    shared_ids = list(set(ord_.index)\\\n",
    "                      & set(mf_ord_.index))\n",
    "    mf_ord_ = mf_ord_.loc[shared_ids,:]\n",
    "    ord_ = ord_.loc[shared_ids,:]\n",
    "    es_all[metric_] = run_stepwise_anova(ord_, mf_ord_, use_) #mf_ord_.columns)\n",
    "# concat all runs\n",
    "es_alldf = pd.concat(es_all).rename({'+ sample_type_2':'Sample Type'}, axis=0)\n",
    "es_alldf.to_csv('results/tables/effect-size_2min_20min.tsv', sep='\\t')\n",
    "es_alldf\n"
   ]
  },
  {
   "cell_type": "markdown",
   "metadata": {},
   "source": [
    "There appears to be differences between bead_beating, biomass, and incubation with various metrics."
   ]
  },
  {
   "cell_type": "markdown",
   "metadata": {},
   "source": [
    "## Comparison of the 2min vs 20 min in resolving differences at different seq. depths"
   ]
  },
  {
   "cell_type": "code",
   "execution_count": 338,
   "metadata": {},
   "outputs": [
    {
     "data": {
      "text/plain": [
       "(6689, 396)"
      ]
     },
     "execution_count": 338,
     "metadata": {},
     "output_type": "execute_result"
    }
   ],
   "source": [
    "# get table read to start sub-sampling\n",
    "fold_test = 10\n",
    "start_depth = 5500\n",
    "minimum_depth = 500\n",
    "delta = 250\n",
    "deviation_depth = 500\n",
    "bt = table.view(Table)\n",
    "btdf = pd.DataFrame(bt.matrix_data.toarray(),\n",
    "                    bt.ids('observation'), bt.ids())\n",
    "btdf = btdf.T[btdf.sum() > start_depth].T\n",
    "btdf = btdf[btdf.sum(axis=1) > 0]\n",
    "btdf.shape"
   ]
  },
  {
   "cell_type": "code",
   "execution_count": 339,
   "metadata": {},
   "outputs": [
    {
     "data": {
      "text/plain": [
       "200"
      ]
     },
     "execution_count": 339,
     "metadata": {},
     "output_type": "execute_result"
    }
   ],
   "source": [
    "# generate tables\n",
    "depths = np.arange(minimum_depth,\n",
    "                   start_depth,\n",
    "                   delta)[::-1] # use depths\n",
    "depths = {(depth_, fold_):simulate_depth(btdf,\n",
    "                                depth_,\n",
    "                                deviation_depth)\n",
    "          for depth_ in depths\n",
    "          for fold_ in range(fold_test)} # make table (dict)\n",
    "len(depths)"
   ]
  },
  {
   "cell_type": "code",
   "execution_count": 340,
   "metadata": {},
   "outputs": [],
   "source": [
    "# first make import tables\n",
    "btdepths = {depth_:Table(btdf_.values,\n",
    "                         btdf_.index,\n",
    "                         btdf_.columns)\n",
    "            for depth_, btdf_ in depths.items()}\n",
    "# generate Distances at depth\n",
    "dists_res = {k_:all_dists(q2.Artifact.import_data('FeatureTable[Frequency]', bt_), k_[0],\n",
    "                          tree, rpca_depth=0, minf=0)\n",
    "             for k_, bt_ in btdepths.items()}\n"
   ]
  },
  {
   "cell_type": "code",
   "execution_count": 342,
   "metadata": {},
   "outputs": [],
   "source": [
    "# save simulated data as a pickle\n",
    "!mkdir results/intermediates\n",
    "with open('results/intermediates/simulations.pickle', 'wb') as handle:\n",
    "    pickle.dump(btdepths, handle, protocol=pickle.HIGHEST_PROTOCOL)\n",
    "with open('results/intermediates/distances.pickle', 'wb') as handle:\n",
    "    pickle.dump(dists_res, handle, protocol=pickle.HIGHEST_PROTOCOL)\n"
   ]
  },
  {
   "cell_type": "code",
   "execution_count": null,
   "metadata": {},
   "outputs": [],
   "source": [
    "#with open(r\"results/intermediates/simulations.pickle\", \"rb\") as input_file:\n",
    "#    btdepths = pickle.load(input_file)\n",
    "#with open(r\"results/intermediates/simulations.pickle\", \"rb\") as input_file:\n",
    "#    dists_res = pickle.load(input_file)\n"
   ]
  },
  {
   "cell_type": "code",
   "execution_count": 344,
   "metadata": {},
   "outputs": [
    {
     "name": "stdout",
     "output_type": "stream",
     "text": [
      "sample_type\n",
      "sample_type_2\n",
      "sample_type_3\n"
     ]
    },
    {
     "data": {
      "text/html": [
       "<div>\n",
       "<style scoped>\n",
       "    .dataframe tbody tr th:only-of-type {\n",
       "        vertical-align: middle;\n",
       "    }\n",
       "\n",
       "    .dataframe tbody tr th {\n",
       "        vertical-align: top;\n",
       "    }\n",
       "\n",
       "    .dataframe thead th {\n",
       "        text-align: right;\n",
       "    }\n",
       "</style>\n",
       "<table border=\"1\" class=\"dataframe\">\n",
       "  <thead>\n",
       "    <tr style=\"text-align: right;\">\n",
       "      <th></th>\n",
       "      <th>eval_col</th>\n",
       "      <th>depth</th>\n",
       "      <th>fold</th>\n",
       "      <th>metric</th>\n",
       "      <th>perm_val_type</th>\n",
       "      <th>2 min. at 30 Hz</th>\n",
       "      <th>20 min. at 30 Hz</th>\n",
       "    </tr>\n",
       "  </thead>\n",
       "  <tbody>\n",
       "    <tr>\n",
       "      <th>0</th>\n",
       "      <td>sample_type</td>\n",
       "      <td>5250</td>\n",
       "      <td>0</td>\n",
       "      <td>Jaccard</td>\n",
       "      <td>method name</td>\n",
       "      <td>PERMANOVA</td>\n",
       "      <td>PERMANOVA</td>\n",
       "    </tr>\n",
       "    <tr>\n",
       "      <th>1</th>\n",
       "      <td>sample_type</td>\n",
       "      <td>5250</td>\n",
       "      <td>0</td>\n",
       "      <td>Jaccard</td>\n",
       "      <td>test statistic name</td>\n",
       "      <td>pseudo-F</td>\n",
       "      <td>pseudo-F</td>\n",
       "    </tr>\n",
       "    <tr>\n",
       "      <th>2</th>\n",
       "      <td>sample_type</td>\n",
       "      <td>5250</td>\n",
       "      <td>0</td>\n",
       "      <td>Jaccard</td>\n",
       "      <td>sample size</td>\n",
       "      <td>84</td>\n",
       "      <td>113</td>\n",
       "    </tr>\n",
       "  </tbody>\n",
       "</table>\n",
       "</div>"
      ],
      "text/plain": [
       "      eval_col  depth  fold   metric        perm_val_type 2 min. at 30 Hz  \\\n",
       "0  sample_type   5250     0  Jaccard          method name       PERMANOVA   \n",
       "1  sample_type   5250     0  Jaccard  test statistic name        pseudo-F   \n",
       "2  sample_type   5250     0  Jaccard          sample size              84   \n",
       "\n",
       "  20 min. at 30 Hz  \n",
       "0        PERMANOVA  \n",
       "1         pseudo-F  \n",
       "2              113  "
      ]
     },
     "execution_count": 344,
     "metadata": {},
     "output_type": "execute_result"
    }
   ],
   "source": [
    "# generate PERMANOVA score by detph & kit type\n",
    "mfdpth = mf.to_dataframe().copy() # (static input)\n",
    "mfdpth['unique_sample_id'] = ['.'.join(rn_.split('.')[:-2])\n",
    "                               for rn_ in mfdpth.index]\n",
    "grouping = 'bead_beating' # (static input)\n",
    "evaluations = ['sample_type',\n",
    "               'sample_type_2',\n",
    "               'sample_type_3',] # (static input)\n",
    "evals_depths_perm_nest_res = {}\n",
    "# run everything for each evaluation\n",
    "for evaluation in evaluations:\n",
    "    print(evaluation)\n",
    "    # run for each seq. depth model\n",
    "    depths_perm_nest_res = {}\n",
    "    for depth_, dists_res_depth_ in dists_res.items():\n",
    "        perm_nest_res = {}\n",
    "        # run kit-nested-PERMANOVA for each distance\n",
    "        for metric_, distdpth in dists_res_depth_.items():\n",
    "            distdpth = distdpth.distance_matrix.view(DistanceMatrix).copy()\n",
    "            perm_nest_res[metric_] = nested_permanova(distdpth, mfdpth,\n",
    "                                                      grouping, evaluation,\n",
    "                                                      permutations=2000)\n",
    "        # save all metrics for depth\n",
    "        depths_perm_nest_res[depth_] = pd.concat(perm_nest_res)\n",
    "    # merge to final df\n",
    "    depths_perm_nest_resdf = pd.concat(depths_perm_nest_res).reset_index()\n",
    "    depths_perm_nest_resdf = depths_perm_nest_resdf.rename({'level_0':'depth',\n",
    "                                                            'level_1':'fold',\n",
    "                                                            'level_2':'metric',\n",
    "                                                            'level_3':'perm_val_type'},\n",
    "                                                           axis=1)\n",
    "    evals_depths_perm_nest_res[evaluation] = depths_perm_nest_resdf\n",
    "# merge all of evaluation columns\n",
    "evals_depths_perm_nest_resdf = pd.concat(evals_depths_perm_nest_res).reset_index().drop(['level_1'], axis=1)\n",
    "evals_depths_perm_nest_resdf = evals_depths_perm_nest_resdf.rename({'level_0':'eval_col'}, axis=1)\n",
    "evals_depths_perm_nest_resdf.to_csv('results/tables/permanova-depth-evals.tsv', sep='\\t')\n",
    "evals_depths_perm_nest_resdf.head(3)"
   ]
  },
  {
   "cell_type": "code",
   "execution_count": 345,
   "metadata": {},
   "outputs": [
    {
     "data": {
      "text/plain": [
       "True"
      ]
     },
     "execution_count": 345,
     "metadata": {},
     "output_type": "execute_result"
    }
   ],
   "source": [
    "sorted(mfdpth.index) != sorted(distdpth.ids)"
   ]
  },
  {
   "cell_type": "code",
   "execution_count": 360,
   "metadata": {},
   "outputs": [],
   "source": [
    "table_rare=core_metrics_5k.rarefied_table"
   ]
  },
  {
   "cell_type": "code",
   "execution_count": 362,
   "metadata": {},
   "outputs": [],
   "source": [
    "jacrd = beta(table_rare, 'jaccard')\n",
    "jacrd_ord = pcoa(jacrd.distance_matrix)\n",
    "uwuni = beta_phylogenetic(table_rare, tree,\n",
    "                          'unweighted_unifrac')\n",
    "uwuni_ord = pcoa(uwuni.distance_matrix)\n",
    "uni = beta_phylogenetic(table_rare, tree,\n",
    "                        'weighted_unifrac')\n",
    "uni_ord = pcoa(uni.distance_matrix)\n",
    "rpca_ord = rpca(table, n_components=8,\n",
    "                min_feature_count=10,\n",
    "                min_sample_count=1000)"
   ]
  },
  {
   "cell_type": "code",
   "execution_count": 363,
   "metadata": {},
   "outputs": [
    {
     "ename": "TypeError",
     "evalue": "You have to supply one of 'by' and 'level'",
     "output_type": "error",
     "traceback": [
      "\u001b[0;31m---------------------------------------------------------------------------\u001b[0m",
      "\u001b[0;31mTypeError\u001b[0m                                 Traceback (most recent call last)",
      "\u001b[0;32m<ipython-input-363-b4059b89ad55>\u001b[0m in \u001b[0;36m<module>\u001b[0;34m\u001b[0m\n\u001b[0;32m----> 1\u001b[0;31m \u001b[0mmfdf\u001b[0m\u001b[0;34m.\u001b[0m\u001b[0mgroupby\u001b[0m\u001b[0;34m(\u001b[0m\u001b[0;34m)\u001b[0m\u001b[0;34m\u001b[0m\u001b[0;34m\u001b[0m\u001b[0m\n\u001b[0m",
      "\u001b[0;32m~/miniconda3/envs/qiime2-2020.2/lib/python3.6/site-packages/pandas/core/generic.py\u001b[0m in \u001b[0;36mgroupby\u001b[0;34m(self, by, axis, level, as_index, sort, group_keys, squeeze, observed, **kwargs)\u001b[0m\n\u001b[1;32m   7880\u001b[0m \u001b[0;34m\u001b[0m\u001b[0m\n\u001b[1;32m   7881\u001b[0m         \u001b[0;32mif\u001b[0m \u001b[0mlevel\u001b[0m \u001b[0;32mis\u001b[0m \u001b[0;32mNone\u001b[0m \u001b[0;32mand\u001b[0m \u001b[0mby\u001b[0m \u001b[0;32mis\u001b[0m \u001b[0;32mNone\u001b[0m\u001b[0;34m:\u001b[0m\u001b[0;34m\u001b[0m\u001b[0;34m\u001b[0m\u001b[0m\n\u001b[0;32m-> 7882\u001b[0;31m             \u001b[0;32mraise\u001b[0m \u001b[0mTypeError\u001b[0m\u001b[0;34m(\u001b[0m\u001b[0;34m\"You have to supply one of 'by' and 'level'\"\u001b[0m\u001b[0;34m)\u001b[0m\u001b[0;34m\u001b[0m\u001b[0;34m\u001b[0m\u001b[0m\n\u001b[0m\u001b[1;32m   7883\u001b[0m         \u001b[0maxis\u001b[0m \u001b[0;34m=\u001b[0m \u001b[0mself\u001b[0m\u001b[0;34m.\u001b[0m\u001b[0m_get_axis_number\u001b[0m\u001b[0;34m(\u001b[0m\u001b[0maxis\u001b[0m\u001b[0;34m)\u001b[0m\u001b[0;34m\u001b[0m\u001b[0;34m\u001b[0m\u001b[0m\n\u001b[1;32m   7884\u001b[0m         return groupby(\n",
      "\u001b[0;31mTypeError\u001b[0m: You have to supply one of 'by' and 'level'"
     ]
    }
   ],
   "source": [
    "mfdf.groupby()\n"
   ]
  },
  {
   "cell_type": "code",
   "execution_count": 364,
   "metadata": {},
   "outputs": [
    {
     "data": {
      "text/plain": [
       "(7278, 448)"
      ]
     },
     "execution_count": 364,
     "metadata": {},
     "output_type": "execute_result"
    }
   ],
   "source": [
    "bttmp = table.view(Table)\n",
    "bttmp = pd.DataFrame(bttmp.matrix_data.toarray(),\n",
    "                     bttmp.ids('observation'), bttmp.ids())\n",
    "bttmp = bttmp.T[bttmp.sum() > 2000].T\n",
    "bttmp = bttmp[bttmp.sum(axis=1) > 0]\n",
    "bttmp.shape"
   ]
  },
  {
   "cell_type": "code",
   "execution_count": 365,
   "metadata": {},
   "outputs": [],
   "source": [
    "tst = simulate_depth(bttmp, 2000, 500)"
   ]
  },
  {
   "cell_type": "code",
   "execution_count": 366,
   "metadata": {},
   "outputs": [
    {
     "data": {
      "text/plain": [
       "Index(['skin.forehead.Q.2.1.microbiome2.C',\n",
       "       'oral.saline.vtm.A.3.microbiome20.C', 'oral.human.R.2.microbiome20.H',\n",
       "       'built.floor.C.2.microbiome2.C', 'food.sourkraut.2.2.microbiome20.H',\n",
       "       'oral.throat.B.1.1.microbiome2.C', 'stool.mouse.S.2.microbiome20.H',\n",
       "       'oral.throat.B.2.1.microbiome2.C', 'skin.forehead.B.3.1.microbiome20.C',\n",
       "       'bacsu.para.d5.microbiome20.H',\n",
       "       ...\n",
       "       'bacsu.para.d2.microbiome2.H', 'oral.human.O.2.microbiome2.H',\n",
       "       'stool.cat.O.1.microbiome2.H', 'para.d4.1.microbiome2.L',\n",
       "       'wat.F.B.2.microbiome2.L', 'para.d5.1.microbiome2.L',\n",
       "       'soil.rhizosphere.K.2.microbiome2.H', 'food.yogurt.4.3.microbiome2.H',\n",
       "       'wat.F.B.2.microbiome20.L', 'wat.S.A.1.microbiome2.L'],\n",
       "      dtype='object', length=448)"
      ]
     },
     "execution_count": 366,
     "metadata": {},
     "output_type": "execute_result"
    }
   ],
   "source": [
    "bttmp.columns"
   ]
  },
  {
   "cell_type": "code",
   "execution_count": 367,
   "metadata": {},
   "outputs": [
    {
     "ename": "ValueError",
     "evalue": "Grouping vector size must match the number of IDs in the distance matrix.",
     "output_type": "error",
     "traceback": [
      "\u001b[0;31m---------------------------------------------------------------------------\u001b[0m",
      "\u001b[0;31mValueError\u001b[0m                                Traceback (most recent call last)",
      "\u001b[0;32m<ipython-input-367-7e54b18c8bd9>\u001b[0m in \u001b[0;36m<module>\u001b[0;34m\u001b[0m\n\u001b[1;32m      1\u001b[0m permanova(jacrd.distance_matrix.view(DistanceMatrix),\n\u001b[0;32m----> 2\u001b[0;31m           mfdf['bead_beating'], permutations=5000)\n\u001b[0m",
      "\u001b[0;32m~/miniconda3/envs/qiime2-2020.2/lib/python3.6/site-packages/skbio/stats/distance/_permanova.py\u001b[0m in \u001b[0;36mpermanova\u001b[0;34m(distance_matrix, grouping, column, permutations)\u001b[0m\n\u001b[1;32m     91\u001b[0m     \"\"\"\n\u001b[1;32m     92\u001b[0m     sample_size, num_groups, grouping, tri_idxs, distances = _preprocess_input(\n\u001b[0;32m---> 93\u001b[0;31m         distance_matrix, grouping, column)\n\u001b[0m\u001b[1;32m     94\u001b[0m \u001b[0;34m\u001b[0m\u001b[0m\n\u001b[1;32m     95\u001b[0m     \u001b[0;31m# Calculate number of objects in each group.\u001b[0m\u001b[0;34m\u001b[0m\u001b[0;34m\u001b[0m\u001b[0;34m\u001b[0m\u001b[0m\n",
      "\u001b[0;32m~/miniconda3/envs/qiime2-2020.2/lib/python3.6/site-packages/skbio/stats/distance/_base.py\u001b[0m in \u001b[0;36m_preprocess_input\u001b[0;34m(distance_matrix, grouping, column)\u001b[0m\n\u001b[1;32m   1013\u001b[0m     \u001b[0;32mif\u001b[0m \u001b[0mlen\u001b[0m\u001b[0;34m(\u001b[0m\u001b[0mgrouping\u001b[0m\u001b[0;34m)\u001b[0m \u001b[0;34m!=\u001b[0m \u001b[0msample_size\u001b[0m\u001b[0;34m:\u001b[0m\u001b[0;34m\u001b[0m\u001b[0;34m\u001b[0m\u001b[0m\n\u001b[1;32m   1014\u001b[0m         raise ValueError(\n\u001b[0;32m-> 1015\u001b[0;31m             \u001b[0;34m\"Grouping vector size must match the number of IDs in the \"\u001b[0m\u001b[0;34m\u001b[0m\u001b[0;34m\u001b[0m\u001b[0m\n\u001b[0m\u001b[1;32m   1016\u001b[0m             \"distance matrix.\")\n\u001b[1;32m   1017\u001b[0m \u001b[0;34m\u001b[0m\u001b[0m\n",
      "\u001b[0;31mValueError\u001b[0m: Grouping vector size must match the number of IDs in the distance matrix."
     ]
    }
   ],
   "source": [
    "permanova(jacrd.distance_matrix.view(DistanceMatrix),\n",
    "          mfdf['bead_beating'], permutations=5000)"
   ]
  },
  {
   "cell_type": "code",
   "execution_count": 357,
   "metadata": {},
   "outputs": [
    {
     "ename": "NameError",
     "evalue": "name 'uni' is not defined",
     "output_type": "error",
     "traceback": [
      "\u001b[0;31m---------------------------------------------------------------------------\u001b[0m",
      "\u001b[0;31mNameError\u001b[0m                                 Traceback (most recent call last)",
      "\u001b[0;32m<ipython-input-357-5bb03d6effb9>\u001b[0m in \u001b[0;36m<module>\u001b[0;34m\u001b[0m\n\u001b[0;32m----> 1\u001b[0;31m permanova(uni.distance_matrix.view(DistanceMatrix),\n\u001b[0m\u001b[1;32m      2\u001b[0m           mfdf['extraction_kit'], permutations=5000)\n",
      "\u001b[0;31mNameError\u001b[0m: name 'uni' is not defined"
     ]
    }
   ],
   "source": [
    "permanova(uni.distance_matrix.view(DistanceMatrix),\n",
    "          mfdf['extraction_kit'], permutations=5000)"
   ]
  },
  {
   "cell_type": "code",
   "execution_count": 359,
   "metadata": {},
   "outputs": [
    {
     "data": {
      "text/plain": [
       "<artifact: FeatureTable[Frequency] uuid: df95f332-2c58-4f42-a40b-97941eb3e0c0>"
      ]
     },
     "execution_count": 359,
     "metadata": {},
     "output_type": "execute_result"
    }
   ],
   "source": []
  },
  {
   "cell_type": "markdown",
   "metadata": {},
   "source": [
    "# Visualization"
   ]
  },
  {
   "cell_type": "code",
   "execution_count": 368,
   "metadata": {},
   "outputs": [],
   "source": [
    "import os\n",
    "import biom\n",
    "import warnings\n",
    "import numpy as np\n",
    "import pandas as pd\n",
    "import qiime2 as q2\n",
    "\n",
    "# plotting\n",
    "import matplotlib\n",
    "import seaborn as sns\n",
    "import matplotlib.pyplot as plt\n",
    "warnings.filterwarnings('ignore')\n",
    "\n",
    "plt.style.use('ggplot')\n",
    "%matplotlib inline"
   ]
  },
  {
   "cell_type": "code",
   "execution_count": 369,
   "metadata": {},
   "outputs": [
    {
     "data": {
      "text/html": [
       "<div>\n",
       "<style scoped>\n",
       "    .dataframe tbody tr th:only-of-type {\n",
       "        vertical-align: middle;\n",
       "    }\n",
       "\n",
       "    .dataframe tbody tr th {\n",
       "        vertical-align: top;\n",
       "    }\n",
       "\n",
       "    .dataframe thead th {\n",
       "        text-align: right;\n",
       "    }\n",
       "</style>\n",
       "<table border=\"1\" class=\"dataframe\">\n",
       "  <thead>\n",
       "    <tr style=\"text-align: right;\">\n",
       "      <th></th>\n",
       "      <th>eval_col</th>\n",
       "      <th>depth</th>\n",
       "      <th>fold</th>\n",
       "      <th>metric</th>\n",
       "      <th>perm_val_type</th>\n",
       "      <th>2 min. at 30 Hz</th>\n",
       "      <th>20 min. at 30 Hz</th>\n",
       "    </tr>\n",
       "  </thead>\n",
       "  <tbody>\n",
       "    <tr>\n",
       "      <th>5600</th>\n",
       "      <td>sample_type_2</td>\n",
       "      <td>5250</td>\n",
       "      <td>0</td>\n",
       "      <td>Jaccard</td>\n",
       "      <td>method name</td>\n",
       "      <td>PERMANOVA</td>\n",
       "      <td>PERMANOVA</td>\n",
       "    </tr>\n",
       "    <tr>\n",
       "      <th>5601</th>\n",
       "      <td>sample_type_2</td>\n",
       "      <td>5250</td>\n",
       "      <td>0</td>\n",
       "      <td>Jaccard</td>\n",
       "      <td>test statistic name</td>\n",
       "      <td>pseudo-F</td>\n",
       "      <td>pseudo-F</td>\n",
       "    </tr>\n",
       "    <tr>\n",
       "      <th>5602</th>\n",
       "      <td>sample_type_2</td>\n",
       "      <td>5250</td>\n",
       "      <td>0</td>\n",
       "      <td>Jaccard</td>\n",
       "      <td>sample size</td>\n",
       "      <td>84</td>\n",
       "      <td>113</td>\n",
       "    </tr>\n",
       "  </tbody>\n",
       "</table>\n",
       "</div>"
      ],
      "text/plain": [
       "           eval_col  depth  fold   metric        perm_val_type  \\\n",
       "5600  sample_type_2   5250     0  Jaccard          method name   \n",
       "5601  sample_type_2   5250     0  Jaccard  test statistic name   \n",
       "5602  sample_type_2   5250     0  Jaccard          sample size   \n",
       "\n",
       "     2 min. at 30 Hz 20 min. at 30 Hz  \n",
       "5600       PERMANOVA        PERMANOVA  \n",
       "5601        pseudo-F         pseudo-F  \n",
       "5602              84              113  "
      ]
     },
     "execution_count": 369,
     "metadata": {},
     "output_type": "execute_result"
    }
   ],
   "source": [
    "# import PERM res\n",
    "permdf = pd.read_csv('results/tables/permanova-depth-evals.tsv',\n",
    "                     sep='\\t', index_col=0)\n",
    "permdf = permdf[permdf.eval_col.isin(['sample_type_2','sample_type_3'])]\n",
    "permdfF = permdf[permdf.perm_val_type == 'test statistic']\n",
    "permdfP = permdf[permdf.perm_val_type == 'p-value']\n",
    "permdfF[['2 min. at 30 Hz','20 min. at 30 Hz']] = permdfF[['2 min. at 30 Hz','20 min. at 30 Hz']].astype(float)\n",
    "permdfF['depth'] = permdfF['depth'].astype(int).values\n",
    "permdfP[['2 min. at 30 Hz','20 min. at 30 Hz']] = permdfP[['2 min. at 30 Hz','20 min. at 30 Hz']].astype(float)\n",
    "permdfP['depth'] = permdfP['depth'].astype(int).values\n",
    "permdfP_groups = {eval_:pltdf_ for eval_, pltdf_ in permdfP.groupby(['metric','eval_col'])}\n",
    "permdf.head(3)"
   ]
  },
  {
   "cell_type": "code",
   "execution_count": 370,
   "metadata": {},
   "outputs": [
    {
     "data": {
      "text/plain": [
       "['Weighted UniFrac', 'Unweighted UniFrac', 'Jaccard', 'RPCA']"
      ]
     },
     "execution_count": 370,
     "metadata": {},
     "output_type": "execute_result"
    }
   ],
   "source": [
    "list(set(permdf.metric))"
   ]
  },
  {
   "cell_type": "code",
   "execution_count": 372,
   "metadata": {
    "scrolled": false
   },
   "outputs": [
    {
     "name": "stdout",
     "output_type": "stream",
     "text": [
      "Weighted UniFrac\n",
      "2 min. at 30 Hz 500\n",
      "20 min. at 30 Hz 500\n",
      "2 min. at 30 Hz 500\n",
      "20 min. at 30 Hz 500\n"
     ]
    },
    {
     "data": {
      "image/png": "[encoded data removed]",
      "text/plain": [
       "<Figure size 1080x216 with 2 Axes>"
      ]
     },
     "metadata": {
      "needs_background": "light"
     },
     "output_type": "display_data"
    },
    {
     "name": "stdout",
     "output_type": "stream",
     "text": [
      "Unweighted UniFrac\n",
      "2 min. at 30 Hz 500\n",
      "20 min. at 30 Hz 500\n",
      "2 min. at 30 Hz 500\n",
      "20 min. at 30 Hz 500\n"
     ]
    },
    {
     "data": {
      "image/png": "[encoded data removed]",
      "text/plain": [
       "<Figure size 1080x216 with 2 Axes>"
      ]
     },
     "metadata": {
      "needs_background": "light"
     },
     "output_type": "display_data"
    },
    {
     "name": "stdout",
     "output_type": "stream",
     "text": [
      "Jaccard\n",
      "2 min. at 30 Hz 500\n",
      "20 min. at 30 Hz 500\n",
      "2 min. at 30 Hz 500\n",
      "20 min. at 30 Hz 500\n"
     ]
    },
    {
     "data": {
      "image/png": "[encoded data removed]",
      "text/plain": [
       "<Figure size 1080x216 with 2 Axes>"
      ]
     },
     "metadata": {
      "needs_background": "light"
     },
     "output_type": "display_data"
    },
    {
     "name": "stdout",
     "output_type": "stream",
     "text": [
      "RPCA\n",
      "2 min. at 30 Hz 500\n",
      "20 min. at 30 Hz 500\n",
      "2 min. at 30 Hz 500\n",
      "20 min. at 30 Hz 500\n"
     ]
    },
    {
     "data": {
      "image/png": "[encoded data removed]",
      "text/plain": [
       "<Figure size 1080x216 with 2 Axes>"
      ]
     },
     "metadata": {
      "needs_background": "light"
     },
     "output_type": "display_data"
    }
   ],
   "source": [
    "!mkdir results/figures\n",
    "plt.style.use('ggplot')\n",
    "#paper_rc = {'lines.linewidth': 2, \n",
    "#            'lines.markersize': 5}                  \n",
    "#sns.set_context(\"paper\", rc = paper_rc)   \n",
    "plt.rcParams['xtick.labelsize'] = 14\n",
    "plt.rcParams['ytick.labelsize'] = 14\n",
    "rename_title = {'sample_type_2':'Sample Type',\n",
    "                'sample_type_3':'Subject ID'}\n",
    "pall_ = {'2 min. at 30 Hz':'#377eb8',\n",
    "         '20 min. at 30 Hz':'#4daf4a'}\n",
    "\n",
    "#['Weighted UniFrac', 'Unweighted UniFrac']\n",
    "title_fontsize=22\n",
    "for metric_ in list(set(permdf.metric)) :\n",
    "    print(metric_)\n",
    "    fig, axn = plt.subplots(1,2, figsize=(15, 3))\n",
    "\n",
    "    # subset col\n",
    "    for (eval_, pltdf_), ax in zip(permdfF.groupby('eval_col'), axn):\n",
    "\n",
    "        # subset datasets\n",
    "        others_ = ['eval_col','depth','metric','perm_val_type']\n",
    "        stack_ = ['2 min. at 30 Hz','20 min. at 30 Hz']\n",
    "        pltdf_ = pltdf_[pltdf_.metric.isin([metric_])]\n",
    "        plotsatckeddf = []\n",
    "        # stack the dataframe\n",
    "        for v_ in stack_:\n",
    "            tmp_ = pltdf_[others_ + [v_]].rename({v_:'values'} ,axis=1)\n",
    "            tmp_['kit'] = v_\n",
    "            plotsatckeddf.append(tmp_)\n",
    "        # print  \n",
    "        permdfP_tmp = permdfP_groups[(metric_, eval_)]\n",
    "        for stack_tmp in stack_:\n",
    "            permdfP_tmp_ = permdfP_tmp[['depth', stack_tmp]]\n",
    "            permdfP_tmp_ = permdfP_tmp_.groupby('depth').max()\n",
    "            pthresh = permdfP_tmp_[permdfP_tmp_ < 0.05].index.min()\n",
    "            print(stack_tmp, pthresh)\n",
    "        # stack them\n",
    "        plotsatckeddf = pd.concat(plotsatckeddf)\n",
    "        # plot\n",
    "        sns.lineplot(y='values',\n",
    "                      x='depth',\n",
    "                      hue='kit',\n",
    "                      ci=68,\n",
    "                      palette=pall_,\n",
    "                      data=plotsatckeddf, ax=ax)\n",
    "        ax.set_title(rename_title[eval_], fontsize=22)\n",
    "        ax.set_xlabel('Seq. Depth ($\\pm$ 500)', color='#000000',\n",
    "                      fontsize=22)\n",
    "        ax.set_ylabel('F-statistic', color='#000000',\n",
    "                      fontsize=22, labelpad=0)\n",
    "        ax.set_ylim(0,)\n",
    "        # remove all grids, backrounds etc ...\n",
    "        ax.legend_.remove()        \n",
    "        ax.set_facecolor('white')\n",
    "        ax.grid(color='grey',\n",
    "                linestyle='-.', \n",
    "                alpha=0.3,\n",
    "                linewidth=0.7)\n",
    "        ax.set_axisbelow(True)\n",
    "        ax.spines['right'].set_visible(False)\n",
    "        ax.spines['left'].set_visible(True)\n",
    "        ax.spines['bottom'].set_visible(True)\n",
    "        ax.spines['top'].set_visible(False)\n",
    "        ax.spines['bottom'].set_bounds(500, 5250)\n",
    "        for child in ax.get_children():\n",
    "            if isinstance(child, matplotlib.spines.Spine):\n",
    "                child.set_color('grey')\n",
    "    # generate legend from last iterations     \n",
    "    handles, labels = ax.get_legend_handles_labels()\n",
    "    legend = ax.legend(handles[1:], labels[1:], loc=2, \n",
    "                             bbox_to_anchor=(-.90, 1.55),\n",
    "                             prop={'size':22},\n",
    "                             fancybox=True, framealpha=0.5, \n",
    "                             ncol=3, markerscale=3,\n",
    "                             facecolor=\"white\")\n",
    "\n",
    "    # increase the line width in the legend \n",
    "    for line in legend.get_lines()[:]:\n",
    "        line.set_linewidth(12.0)\n",
    "    for line in legend.get_lines()[:]:\n",
    "        line.set_linewidth(12.0)\n",
    "    # set the backrounf to be transparent\n",
    "    fig.patch.set_facecolor('white')\n",
    "    fig.patch.set_alpha(0.0)\n",
    "    # metric\n",
    "    plt.suptitle(metric_, fontsize=33, y=1.45)\n",
    "    \n",
    "    # save the figure to file\n",
    "    plt.savefig('results/figures/depth-permanova-%s-compare.pdf' % (metric_),dpi=600, \n",
    "                bbox_inches='tight',\n",
    "                facecolor=fig.get_facecolor(), \n",
    "                edgecolor='none')\n",
    "\n",
    "    plt.show()"
   ]
  },
  {
   "cell_type": "markdown",
   "metadata": {},
   "source": [
    "# Repeating above analysis but first stratifying based on low vs high biomass"
   ]
  },
  {
   "cell_type": "code",
   "execution_count": 14,
   "metadata": {},
   "outputs": [],
   "source": [
    "low_table = feature_table.methods.filter_samples(table,\n",
    "                                                  metadata = mf,\n",
    "                                                  where = \"biomass_sample='low'\")"
   ]
  },
  {
   "cell_type": "code",
   "execution_count": 15,
   "metadata": {},
   "outputs": [
    {
     "data": {
      "text/html": [
       "<div><img onload=\"(function(div, url){\n",
       "if (typeof require !== 'undefined') {\n",
       "    var baseURL = require.toUrl('').split('/').slice(0, -2).join('/');\n",
       "} else {\n",
       "    var baseURL = JSON.parse(\n",
       "        document.getElementById('jupyter-config-data').innerHTML\n",
       "    ).baseUrl.slice(0, -1);\n",
       "}\n",
       "url = baseURL + url;\n",
       "fetch(url).then(function(res) {\n",
       "    if (res.status === 404) {\n",
       "        div.innerHTML = 'Install QIIME 2 Jupyter extension with:<br />' +\n",
       "                        '<code>jupyter serverextension enable --py qiime2' +\n",
       "                        ' --sys-prefix</code><br />then restart your server.' +\n",
       "                        '<br /><br />(Interactive output not available on ' +\n",
       "                        'static notebook viewer services like nbviewer.)';\n",
       "    } else if (res.status === 409) {\n",
       "        div.innerHTML = 'Visualization no longer in scope. Re-run this cell' +\n",
       "                        ' to see the visualization.';\n",
       "    } else if (res.ok) {\n",
       "        url = res.url;\n",
       "        div.innerHTML = '<iframe src=\\'' + url + '\\' style=\\'' +\n",
       "                        'width: 100%; height: 700px; border: 0;\\'>' +\n",
       "                        '</iframe><hr />Open in a: <a href=\\'' + url + '\\'' +\n",
       "                        ' target=\\'_blank\\'>new window</a>'\n",
       "    } else {\n",
       "        div.innerHTML = 'Something has gone wrong. Check notebook server for' +\n",
       "                        ' errors.';\n",
       "    }\n",
       "});\n",
       "})(this.parentElement, '/qiime2/redirect?location=/tmp/qiime2-archive-jp8c2zvw')\" src=\"data:image/gif;base64,R0lGODlhAQABAIAAAP///wAAACH5BAEAAAAALAAAAAABAAEAAAICRAEAOw==\" /></div>"
      ],
      "text/plain": [
       "<visualization: Visualization uuid: 686299f0-5d46-4857-89e0-20e664584377>"
      ]
     },
     "execution_count": 15,
     "metadata": {},
     "output_type": "execute_result"
    },
    {
     "data": {
      "image/png": "[encoded data removed]",
      "text/plain": [
       "<Figure size 432x288 with 1 Axes>"
      ]
     },
     "metadata": {
      "needs_background": "light"
     },
     "output_type": "display_data"
    }
   ],
   "source": [
    "low_table_viz = feature_table.visualizers.summarize(low_table.filtered_table,\n",
    "                                                   sample_metadata = mf,)\n",
    "low_table_viz.visualization"
   ]
  },
  {
   "cell_type": "code",
   "execution_count": 17,
   "metadata": {},
   "outputs": [
    {
     "ename": "KeyError",
     "evalue": "'There are samples not included in the sample mapping file. Override this error by using the `ignore_missing_samples` argument. Showing only the first 5 samples out of 94: built.doorknob.A.2.qiagen.L, built.doorknob.A.3.qiagen.L, built.doorknob.B.1.qiagen.L, built.doorknob.B.2.qiagen.L, built.doorknob.C.1.qiagen.C ...'",
     "output_type": "error",
     "traceback": [
      "\u001b[0;31m---------------------------------------------------------------------------\u001b[0m",
      "\u001b[0;31mKeyError\u001b[0m                                  Traceback (most recent call last)",
      "\u001b[0;32m<ipython-input-17-df22aef09147>\u001b[0m in \u001b[0;36m<module>\u001b[0;34m\u001b[0m\n\u001b[1;32m      3\u001b[0m                                                              \u001b[0mphylogeny\u001b[0m \u001b[0;34m=\u001b[0m \u001b[0mtree\u001b[0m\u001b[0;34m,\u001b[0m\u001b[0;34m\u001b[0m\u001b[0;34m\u001b[0m\u001b[0m\n\u001b[1;32m      4\u001b[0m                                                              \u001b[0msampling_depth\u001b[0m \u001b[0;34m=\u001b[0m \u001b[0;36m1000\u001b[0m\u001b[0;34m,\u001b[0m\u001b[0;34m\u001b[0m\u001b[0;34m\u001b[0m\u001b[0m\n\u001b[0;32m----> 5\u001b[0;31m                                                              metadata = mf)\n\u001b[0m",
      "\u001b[0;32m</home/mestaki/miniconda3/envs/qiime2-2020.2/lib/python3.6/site-packages/decorator.py:decorator-gen-396>\u001b[0m in \u001b[0;36mcore_metrics_phylogenetic\u001b[0;34m(table, phylogeny, sampling_depth, metadata, n_jobs)\u001b[0m\n",
      "\u001b[0;32m~/miniconda3/envs/qiime2-2020.2/lib/python3.6/site-packages/qiime2/sdk/action.py\u001b[0m in \u001b[0;36mbound_callable\u001b[0;34m(*args, **kwargs)\u001b[0m\n\u001b[1;32m    243\u001b[0m                 \u001b[0;31m# Execute\u001b[0m\u001b[0;34m\u001b[0m\u001b[0;34m\u001b[0m\u001b[0;34m\u001b[0m\u001b[0m\n\u001b[1;32m    244\u001b[0m                 outputs = self._callable_executor_(scope, callable_args,\n\u001b[0;32m--> 245\u001b[0;31m                                                    output_types, provenance)\n\u001b[0m\u001b[1;32m    246\u001b[0m \u001b[0;34m\u001b[0m\u001b[0m\n\u001b[1;32m    247\u001b[0m                 \u001b[0;32mif\u001b[0m \u001b[0mlen\u001b[0m\u001b[0;34m(\u001b[0m\u001b[0moutputs\u001b[0m\u001b[0;34m)\u001b[0m \u001b[0;34m!=\u001b[0m \u001b[0mlen\u001b[0m\u001b[0;34m(\u001b[0m\u001b[0mself\u001b[0m\u001b[0;34m.\u001b[0m\u001b[0msignature\u001b[0m\u001b[0;34m.\u001b[0m\u001b[0moutputs\u001b[0m\u001b[0;34m)\u001b[0m\u001b[0;34m:\u001b[0m\u001b[0;34m\u001b[0m\u001b[0;34m\u001b[0m\u001b[0m\n",
      "\u001b[0;32m~/miniconda3/envs/qiime2-2020.2/lib/python3.6/site-packages/qiime2/sdk/action.py\u001b[0m in \u001b[0;36m_callable_executor_\u001b[0;34m(self, scope, view_args, output_types, provenance)\u001b[0m\n\u001b[1;32m    482\u001b[0m \u001b[0;34m\u001b[0m\u001b[0m\n\u001b[1;32m    483\u001b[0m     \u001b[0;32mdef\u001b[0m \u001b[0m_callable_executor_\u001b[0m\u001b[0;34m(\u001b[0m\u001b[0mself\u001b[0m\u001b[0;34m,\u001b[0m \u001b[0mscope\u001b[0m\u001b[0;34m,\u001b[0m \u001b[0mview_args\u001b[0m\u001b[0;34m,\u001b[0m \u001b[0moutput_types\u001b[0m\u001b[0;34m,\u001b[0m \u001b[0mprovenance\u001b[0m\u001b[0;34m)\u001b[0m\u001b[0;34m:\u001b[0m\u001b[0;34m\u001b[0m\u001b[0;34m\u001b[0m\u001b[0m\n\u001b[0;32m--> 484\u001b[0;31m         \u001b[0moutputs\u001b[0m \u001b[0;34m=\u001b[0m \u001b[0mself\u001b[0m\u001b[0;34m.\u001b[0m\u001b[0m_callable\u001b[0m\u001b[0;34m(\u001b[0m\u001b[0mscope\u001b[0m\u001b[0;34m.\u001b[0m\u001b[0mctx\u001b[0m\u001b[0;34m,\u001b[0m \u001b[0;34m**\u001b[0m\u001b[0mview_args\u001b[0m\u001b[0;34m)\u001b[0m\u001b[0;34m\u001b[0m\u001b[0;34m\u001b[0m\u001b[0m\n\u001b[0m\u001b[1;32m    485\u001b[0m         \u001b[0moutputs\u001b[0m \u001b[0;34m=\u001b[0m \u001b[0mtuplize\u001b[0m\u001b[0;34m(\u001b[0m\u001b[0moutputs\u001b[0m\u001b[0;34m)\u001b[0m\u001b[0;34m\u001b[0m\u001b[0;34m\u001b[0m\u001b[0m\n\u001b[1;32m    486\u001b[0m \u001b[0;34m\u001b[0m\u001b[0m\n",
      "\u001b[0;32m~/miniconda3/envs/qiime2-2020.2/lib/python3.6/site-packages/q2_diversity/_core_metrics.py\u001b[0m in \u001b[0;36mcore_metrics_phylogenetic\u001b[0;34m(ctx, table, phylogeny, sampling_depth, metadata, n_jobs)\u001b[0m\n\u001b[1;32m     51\u001b[0m \u001b[0;34m\u001b[0m\u001b[0m\n\u001b[1;32m     52\u001b[0m     cr = core_metrics(table=table, sampling_depth=sampling_depth,\n\u001b[0;32m---> 53\u001b[0;31m                       metadata=metadata, n_jobs=n_jobs)\n\u001b[0m\u001b[1;32m     54\u001b[0m \u001b[0;34m\u001b[0m\u001b[0m\n\u001b[1;32m     55\u001b[0m     faith_pd_vector, = alpha_phylogenetic(table=cr.rarefied_table,\n",
      "\u001b[0;32m</home/mestaki/miniconda3/envs/qiime2-2020.2/lib/python3.6/site-packages/decorator.py:decorator-gen-523>\u001b[0m in \u001b[0;36mcore_metrics\u001b[0;34m(table, sampling_depth, metadata, with_replacement, n_jobs)\u001b[0m\n",
      "\u001b[0;32m~/miniconda3/envs/qiime2-2020.2/lib/python3.6/site-packages/qiime2/sdk/action.py\u001b[0m in \u001b[0;36mbound_callable\u001b[0;34m(*args, **kwargs)\u001b[0m\n\u001b[1;32m    243\u001b[0m                 \u001b[0;31m# Execute\u001b[0m\u001b[0;34m\u001b[0m\u001b[0;34m\u001b[0m\u001b[0;34m\u001b[0m\u001b[0m\n\u001b[1;32m    244\u001b[0m                 outputs = self._callable_executor_(scope, callable_args,\n\u001b[0;32m--> 245\u001b[0;31m                                                    output_types, provenance)\n\u001b[0m\u001b[1;32m    246\u001b[0m \u001b[0;34m\u001b[0m\u001b[0m\n\u001b[1;32m    247\u001b[0m                 \u001b[0;32mif\u001b[0m \u001b[0mlen\u001b[0m\u001b[0;34m(\u001b[0m\u001b[0moutputs\u001b[0m\u001b[0;34m)\u001b[0m \u001b[0;34m!=\u001b[0m \u001b[0mlen\u001b[0m\u001b[0;34m(\u001b[0m\u001b[0mself\u001b[0m\u001b[0;34m.\u001b[0m\u001b[0msignature\u001b[0m\u001b[0;34m.\u001b[0m\u001b[0moutputs\u001b[0m\u001b[0;34m)\u001b[0m\u001b[0;34m:\u001b[0m\u001b[0;34m\u001b[0m\u001b[0;34m\u001b[0m\u001b[0m\n",
      "\u001b[0;32m~/miniconda3/envs/qiime2-2020.2/lib/python3.6/site-packages/qiime2/sdk/action.py\u001b[0m in \u001b[0;36m_callable_executor_\u001b[0;34m(self, scope, view_args, output_types, provenance)\u001b[0m\n\u001b[1;32m    482\u001b[0m \u001b[0;34m\u001b[0m\u001b[0m\n\u001b[1;32m    483\u001b[0m     \u001b[0;32mdef\u001b[0m \u001b[0m_callable_executor_\u001b[0m\u001b[0;34m(\u001b[0m\u001b[0mself\u001b[0m\u001b[0;34m,\u001b[0m \u001b[0mscope\u001b[0m\u001b[0;34m,\u001b[0m \u001b[0mview_args\u001b[0m\u001b[0;34m,\u001b[0m \u001b[0moutput_types\u001b[0m\u001b[0;34m,\u001b[0m \u001b[0mprovenance\u001b[0m\u001b[0;34m)\u001b[0m\u001b[0;34m:\u001b[0m\u001b[0;34m\u001b[0m\u001b[0;34m\u001b[0m\u001b[0m\n\u001b[0;32m--> 484\u001b[0;31m         \u001b[0moutputs\u001b[0m \u001b[0;34m=\u001b[0m \u001b[0mself\u001b[0m\u001b[0;34m.\u001b[0m\u001b[0m_callable\u001b[0m\u001b[0;34m(\u001b[0m\u001b[0mscope\u001b[0m\u001b[0;34m.\u001b[0m\u001b[0mctx\u001b[0m\u001b[0;34m,\u001b[0m \u001b[0;34m**\u001b[0m\u001b[0mview_args\u001b[0m\u001b[0;34m)\u001b[0m\u001b[0;34m\u001b[0m\u001b[0;34m\u001b[0m\u001b[0m\n\u001b[0m\u001b[1;32m    485\u001b[0m         \u001b[0moutputs\u001b[0m \u001b[0;34m=\u001b[0m \u001b[0mtuplize\u001b[0m\u001b[0;34m(\u001b[0m\u001b[0moutputs\u001b[0m\u001b[0;34m)\u001b[0m\u001b[0;34m\u001b[0m\u001b[0;34m\u001b[0m\u001b[0m\n\u001b[1;32m    486\u001b[0m \u001b[0;34m\u001b[0m\u001b[0m\n",
      "\u001b[0;32m~/miniconda3/envs/qiime2-2020.2/lib/python3.6/site-packages/q2_diversity/_core_metrics.py\u001b[0m in \u001b[0;36mcore_metrics\u001b[0;34m(ctx, table, sampling_depth, metadata, with_replacement, n_jobs)\u001b[0m\n\u001b[1;32m     37\u001b[0m \u001b[0;34m\u001b[0m\u001b[0m\n\u001b[1;32m     38\u001b[0m     \u001b[0;32mfor\u001b[0m \u001b[0mpcoa\u001b[0m \u001b[0;32min\u001b[0m \u001b[0mpcoas\u001b[0m\u001b[0;34m:\u001b[0m\u001b[0;34m\u001b[0m\u001b[0;34m\u001b[0m\u001b[0m\n\u001b[0;32m---> 39\u001b[0;31m         \u001b[0mresults\u001b[0m \u001b[0;34m+=\u001b[0m \u001b[0memperor_plot\u001b[0m\u001b[0;34m(\u001b[0m\u001b[0mpcoa\u001b[0m\u001b[0;34m=\u001b[0m\u001b[0mpcoa\u001b[0m\u001b[0;34m,\u001b[0m \u001b[0mmetadata\u001b[0m\u001b[0;34m=\u001b[0m\u001b[0mmetadata\u001b[0m\u001b[0;34m)\u001b[0m\u001b[0;34m\u001b[0m\u001b[0;34m\u001b[0m\u001b[0m\n\u001b[0m\u001b[1;32m     40\u001b[0m \u001b[0;34m\u001b[0m\u001b[0m\n\u001b[1;32m     41\u001b[0m     \u001b[0;32mreturn\u001b[0m \u001b[0mtuple\u001b[0m\u001b[0;34m(\u001b[0m\u001b[0mresults\u001b[0m\u001b[0;34m)\u001b[0m\u001b[0;34m\u001b[0m\u001b[0;34m\u001b[0m\u001b[0m\n",
      "\u001b[0;32m</home/mestaki/miniconda3/envs/qiime2-2020.2/lib/python3.6/site-packages/decorator.py:decorator-gen-529>\u001b[0m in \u001b[0;36mplot\u001b[0;34m(pcoa, metadata, custom_axes, ignore_missing_samples)\u001b[0m\n",
      "\u001b[0;32m~/miniconda3/envs/qiime2-2020.2/lib/python3.6/site-packages/qiime2/sdk/action.py\u001b[0m in \u001b[0;36mbound_callable\u001b[0;34m(*args, **kwargs)\u001b[0m\n\u001b[1;32m    243\u001b[0m                 \u001b[0;31m# Execute\u001b[0m\u001b[0;34m\u001b[0m\u001b[0;34m\u001b[0m\u001b[0;34m\u001b[0m\u001b[0m\n\u001b[1;32m    244\u001b[0m                 outputs = self._callable_executor_(scope, callable_args,\n\u001b[0;32m--> 245\u001b[0;31m                                                    output_types, provenance)\n\u001b[0m\u001b[1;32m    246\u001b[0m \u001b[0;34m\u001b[0m\u001b[0m\n\u001b[1;32m    247\u001b[0m                 \u001b[0;32mif\u001b[0m \u001b[0mlen\u001b[0m\u001b[0;34m(\u001b[0m\u001b[0moutputs\u001b[0m\u001b[0;34m)\u001b[0m \u001b[0;34m!=\u001b[0m \u001b[0mlen\u001b[0m\u001b[0;34m(\u001b[0m\u001b[0mself\u001b[0m\u001b[0;34m.\u001b[0m\u001b[0msignature\u001b[0m\u001b[0;34m.\u001b[0m\u001b[0moutputs\u001b[0m\u001b[0;34m)\u001b[0m\u001b[0;34m:\u001b[0m\u001b[0;34m\u001b[0m\u001b[0;34m\u001b[0m\u001b[0m\n",
      "\u001b[0;32m~/miniconda3/envs/qiime2-2020.2/lib/python3.6/site-packages/qiime2/sdk/action.py\u001b[0m in \u001b[0;36m_callable_executor_\u001b[0;34m(self, scope, view_args, output_types, provenance)\u001b[0m\n\u001b[1;32m    450\u001b[0m         \u001b[0;31m# will also need to be updated to support OutPath instead of str.\u001b[0m\u001b[0;34m\u001b[0m\u001b[0;34m\u001b[0m\u001b[0;34m\u001b[0m\u001b[0m\n\u001b[1;32m    451\u001b[0m         \u001b[0;32mwith\u001b[0m \u001b[0mtempfile\u001b[0m\u001b[0;34m.\u001b[0m\u001b[0mTemporaryDirectory\u001b[0m\u001b[0;34m(\u001b[0m\u001b[0mprefix\u001b[0m\u001b[0;34m=\u001b[0m\u001b[0;34m'qiime2-temp-'\u001b[0m\u001b[0;34m)\u001b[0m \u001b[0;32mas\u001b[0m \u001b[0mtemp_dir\u001b[0m\u001b[0;34m:\u001b[0m\u001b[0;34m\u001b[0m\u001b[0;34m\u001b[0m\u001b[0m\n\u001b[0;32m--> 452\u001b[0;31m             \u001b[0mret_val\u001b[0m \u001b[0;34m=\u001b[0m \u001b[0mself\u001b[0m\u001b[0;34m.\u001b[0m\u001b[0m_callable\u001b[0m\u001b[0;34m(\u001b[0m\u001b[0moutput_dir\u001b[0m\u001b[0;34m=\u001b[0m\u001b[0mtemp_dir\u001b[0m\u001b[0;34m,\u001b[0m \u001b[0;34m**\u001b[0m\u001b[0mview_args\u001b[0m\u001b[0;34m)\u001b[0m\u001b[0;34m\u001b[0m\u001b[0;34m\u001b[0m\u001b[0m\n\u001b[0m\u001b[1;32m    453\u001b[0m             \u001b[0;32mif\u001b[0m \u001b[0mret_val\u001b[0m \u001b[0;32mis\u001b[0m \u001b[0;32mnot\u001b[0m \u001b[0;32mNone\u001b[0m\u001b[0;34m:\u001b[0m\u001b[0;34m\u001b[0m\u001b[0;34m\u001b[0m\u001b[0m\n\u001b[1;32m    454\u001b[0m                 raise TypeError(\n",
      "\u001b[0;32m~/miniconda3/envs/qiime2-2020.2/lib/python3.6/site-packages/q2_emperor/_plot.py\u001b[0m in \u001b[0;36mplot\u001b[0;34m(output_dir, pcoa, metadata, custom_axes, ignore_missing_samples)\u001b[0m\n\u001b[1;32m     63\u001b[0m     generic_plot(output_dir, master=pcoa, metadata=metadata, other_pcoa=None,\n\u001b[1;32m     64\u001b[0m                  \u001b[0mignore_missing_samples\u001b[0m\u001b[0;34m=\u001b[0m\u001b[0mignore_missing_samples\u001b[0m\u001b[0;34m,\u001b[0m\u001b[0;34m\u001b[0m\u001b[0;34m\u001b[0m\u001b[0m\n\u001b[0;32m---> 65\u001b[0;31m                  custom_axes=custom_axes, plot_name='plot')\n\u001b[0m\u001b[1;32m     66\u001b[0m \u001b[0;34m\u001b[0m\u001b[0m\n\u001b[1;32m     67\u001b[0m \u001b[0;34m\u001b[0m\u001b[0m\n",
      "\u001b[0;32m~/miniconda3/envs/qiime2-2020.2/lib/python3.6/site-packages/q2_emperor/_plot.py\u001b[0m in \u001b[0;36mgeneric_plot\u001b[0;34m(output_dir, master, metadata, other_pcoa, plot_name, custom_axes, settings, ignore_missing_samples, feature_metadata)\u001b[0m\n\u001b[1;32m     39\u001b[0m     viz = Emperor(master, mf, feature_mapping_file=feature_metadata,\n\u001b[1;32m     40\u001b[0m                   \u001b[0mignore_missing_samples\u001b[0m\u001b[0;34m=\u001b[0m\u001b[0mignore_missing_samples\u001b[0m\u001b[0;34m,\u001b[0m\u001b[0;34m\u001b[0m\u001b[0;34m\u001b[0m\u001b[0m\n\u001b[0;32m---> 41\u001b[0;31m                   procrustes=procrustes, remote='.')\n\u001b[0m\u001b[1;32m     42\u001b[0m \u001b[0;34m\u001b[0m\u001b[0m\n\u001b[1;32m     43\u001b[0m     \u001b[0;32mif\u001b[0m \u001b[0mcustom_axes\u001b[0m \u001b[0;32mis\u001b[0m \u001b[0;32mnot\u001b[0m \u001b[0;32mNone\u001b[0m\u001b[0;34m:\u001b[0m\u001b[0;34m\u001b[0m\u001b[0;34m\u001b[0m\u001b[0m\n",
      "\u001b[0;32m~/miniconda3/envs/qiime2-2020.2/lib/python3.6/site-packages/emperor/core.py\u001b[0m in \u001b[0;36m__init__\u001b[0;34m(self, ordination, mapping_file, feature_mapping_file, dimensions, remote, jackknifed, procrustes, ignore_missing_samples)\u001b[0m\n\u001b[1;32m    245\u001b[0m \u001b[0;34m\u001b[0m\u001b[0m\n\u001b[1;32m    246\u001b[0m         self.mf = self._validate_metadata(self.mf, self.ordination.samples,\n\u001b[0;32m--> 247\u001b[0;31m                                           ignore_missing_samples)\n\u001b[0m\u001b[1;32m    248\u001b[0m \u001b[0;34m\u001b[0m\u001b[0m\n\u001b[1;32m    249\u001b[0m         \u001b[0;31m# if biplots are to be visualized\u001b[0m\u001b[0;34m\u001b[0m\u001b[0;34m\u001b[0m\u001b[0;34m\u001b[0m\u001b[0m\n",
      "\u001b[0;32m~/miniconda3/envs/qiime2-2020.2/lib/python3.6/site-packages/emperor/core.py\u001b[0m in \u001b[0;36m_validate_metadata\u001b[0;34m(self, metadata, matrix, ignore_missing_samples, kind)\u001b[0m\n\u001b[1;32m    341\u001b[0m                            \u001b[0;34m\"file. Override this error by using the \"\u001b[0m\u001b[0;34m\u001b[0m\u001b[0;34m\u001b[0m\u001b[0m\n\u001b[1;32m    342\u001b[0m                            \u001b[0;34m\"`ignore_missing_samples` argument. %s\"\u001b[0m \u001b[0;34m%\u001b[0m\u001b[0;34m\u001b[0m\u001b[0;34m\u001b[0m\u001b[0m\n\u001b[0;32m--> 343\u001b[0;31m                            (kind, kind, suffix))\n\u001b[0m\u001b[1;32m    344\u001b[0m         \u001b[0;32melif\u001b[0m \u001b[0mdifference\u001b[0m \u001b[0;32mand\u001b[0m \u001b[0mignore_missing_samples\u001b[0m\u001b[0;34m:\u001b[0m\u001b[0;34m\u001b[0m\u001b[0;34m\u001b[0m\u001b[0m\n\u001b[1;32m    345\u001b[0m             warnings.warn(\"%d out of %d %ss have no metadata and are being\"\n",
      "\u001b[0;31mKeyError\u001b[0m: 'There are samples not included in the sample mapping file. Override this error by using the `ignore_missing_samples` argument. Showing only the first 5 samples out of 94: built.doorknob.A.2.qiagen.L, built.doorknob.A.3.qiagen.L, built.doorknob.B.1.qiagen.L, built.doorknob.B.2.qiagen.L, built.doorknob.C.1.qiagen.C ...'"
     ]
    }
   ],
   "source": [
    "#Running core-metrics\n",
    "low_core_metrics_1k = diversity.pipelines.core_metrics_phylogenetic(low_table.filtered_table,\n",
    "                                                             phylogeny = tree,\n",
    "                                                             sampling_depth = 1000,\n",
    "                                                             metadata = mf)"
   ]
  },
  {
   "cell_type": "code",
   "execution_count": 11,
   "metadata": {},
   "outputs": [
    {
     "data": {
      "text/html": [
       "<div><img onload=\"(function(div, url){\n",
       "if (typeof require !== 'undefined') {\n",
       "    var baseURL = require.toUrl('').split('/').slice(0, -2).join('/');\n",
       "} else {\n",
       "    var baseURL = JSON.parse(\n",
       "        document.getElementById('jupyter-config-data').innerHTML\n",
       "    ).baseUrl.slice(0, -1);\n",
       "}\n",
       "url = baseURL + url;\n",
       "fetch(url).then(function(res) {\n",
       "    if (res.status === 404) {\n",
       "        div.innerHTML = 'Install QIIME 2 Jupyter extension with:<br />' +\n",
       "                        '<code>jupyter serverextension enable --py qiime2' +\n",
       "                        ' --sys-prefix</code><br />then restart your server.' +\n",
       "                        '<br /><br />(Interactive output not available on ' +\n",
       "                        'static notebook viewer services like nbviewer.)';\n",
       "    } else if (res.status === 409) {\n",
       "        div.innerHTML = 'Visualization no longer in scope. Re-run this cell' +\n",
       "                        ' to see the visualization.';\n",
       "    } else if (res.ok) {\n",
       "        url = res.url;\n",
       "        div.innerHTML = '<iframe src=\\'' + url + '\\' style=\\'' +\n",
       "                        'width: 100%; height: 700px; border: 0;\\'>' +\n",
       "                        '</iframe><hr />Open in a: <a href=\\'' + url + '\\'' +\n",
       "                        ' target=\\'_blank\\'>new window</a>'\n",
       "    } else {\n",
       "        div.innerHTML = 'Something has gone wrong. Check notebook server for' +\n",
       "                        ' errors.';\n",
       "    }\n",
       "});\n",
       "})(this.parentElement, '/qiime2/redirect?location=/tmp/qiime2-archive-_j0ai7oh')\" src=\"data:image/gif;base64,R0lGODlhAQABAIAAAP///wAAACH5BAEAAAAALAAAAAABAAEAAAICRAEAOw==\" /></div>"
      ],
      "text/plain": [
       "<visualization: Visualization uuid: c5f68c5a-079f-4b07-b8d5-cba4e25d657e>"
      ]
     },
     "execution_count": 11,
     "metadata": {},
     "output_type": "execute_result"
    }
   ],
   "source": [
    "#visualize unweighted UniFrac of low biomass samples only\n",
    "low_emp_plot1k_uUnifrac = emperor.visualizers.plot(low_core_metrics_1k.unweighted_unifrac_pcoa_results,\n",
    "                                        mf)\n",
    "low_emp_plot1k_uUnifrac.visualization"
   ]
  },
  {
   "cell_type": "code",
   "execution_count": 392,
   "metadata": {},
   "outputs": [
    {
     "data": {
      "text/html": [
       "<div><img onload=\"(function(div, url){\n",
       "if (typeof require !== 'undefined') {\n",
       "    var baseURL = require.toUrl('').split('/').slice(0, -2).join('/');\n",
       "} else {\n",
       "    var baseURL = JSON.parse(\n",
       "        document.getElementById('jupyter-config-data').innerHTML\n",
       "    ).baseUrl.slice(0, -1);\n",
       "}\n",
       "url = baseURL + url;\n",
       "fetch(url).then(function(res) {\n",
       "    if (res.status === 404) {\n",
       "        div.innerHTML = 'Install QIIME 2 Jupyter extension with:<br />' +\n",
       "                        '<code>jupyter serverextension enable --py qiime2' +\n",
       "                        ' --sys-prefix</code><br />then restart your server.' +\n",
       "                        '<br /><br />(Interactive output not available on ' +\n",
       "                        'static notebook viewer services like nbviewer.)';\n",
       "    } else if (res.status === 409) {\n",
       "        div.innerHTML = 'Visualization no longer in scope. Re-run this cell' +\n",
       "                        ' to see the visualization.';\n",
       "    } else if (res.ok) {\n",
       "        url = res.url;\n",
       "        div.innerHTML = '<iframe src=\\'' + url + '\\' style=\\'' +\n",
       "                        'width: 100%; height: 700px; border: 0;\\'>' +\n",
       "                        '</iframe><hr />Open in a: <a href=\\'' + url + '\\'' +\n",
       "                        ' target=\\'_blank\\'>new window</a>'\n",
       "    } else {\n",
       "        div.innerHTML = 'Something has gone wrong. Check notebook server for' +\n",
       "                        ' errors.';\n",
       "    }\n",
       "});\n",
       "})(this.parentElement, '/qiime2/redirect?location=/tmp/qiime2-archive-v4xb_ksq')\" src=\"data:image/gif;base64,R0lGODlhAQABAIAAAP///wAAACH5BAEAAAAALAAAAAABAAEAAAICRAEAOw==\" /></div>"
      ],
      "text/plain": [
       "<visualization: Visualization uuid: 47d904ca-1db2-42f3-89e6-7fa1e3768c0e>"
      ]
     },
     "execution_count": 392,
     "metadata": {},
     "output_type": "execute_result"
    }
   ],
   "source": [
    "#visualize Weighted UniFrac of low biomass samples only\n",
    "low_emp_plot1k_wUnifrac = emperor.visualizers.plot(low_core_metrics_1k.weighted_unifrac_pcoa_results,\n",
    "                                        mf)\n",
    "low_emp_plot1k_wUnifrac.visualization"
   ]
  },
  {
   "cell_type": "code",
   "execution_count": 12,
   "metadata": {},
   "outputs": [
    {
     "data": {
      "text/html": [
       "<div><img onload=\"(function(div, url){\n",
       "if (typeof require !== 'undefined') {\n",
       "    var baseURL = require.toUrl('').split('/').slice(0, -2).join('/');\n",
       "} else {\n",
       "    var baseURL = JSON.parse(\n",
       "        document.getElementById('jupyter-config-data').innerHTML\n",
       "    ).baseUrl.slice(0, -1);\n",
       "}\n",
       "url = baseURL + url;\n",
       "fetch(url).then(function(res) {\n",
       "    if (res.status === 404) {\n",
       "        div.innerHTML = 'Install QIIME 2 Jupyter extension with:<br />' +\n",
       "                        '<code>jupyter serverextension enable --py qiime2' +\n",
       "                        ' --sys-prefix</code><br />then restart your server.' +\n",
       "                        '<br /><br />(Interactive output not available on ' +\n",
       "                        'static notebook viewer services like nbviewer.)';\n",
       "    } else if (res.status === 409) {\n",
       "        div.innerHTML = 'Visualization no longer in scope. Re-run this cell' +\n",
       "                        ' to see the visualization.';\n",
       "    } else if (res.ok) {\n",
       "        url = res.url;\n",
       "        div.innerHTML = '<iframe src=\\'' + url + '\\' style=\\'' +\n",
       "                        'width: 100%; height: 700px; border: 0;\\'>' +\n",
       "                        '</iframe><hr />Open in a: <a href=\\'' + url + '\\'' +\n",
       "                        ' target=\\'_blank\\'>new window</a>'\n",
       "    } else {\n",
       "        div.innerHTML = 'Something has gone wrong. Check notebook server for' +\n",
       "                        ' errors.';\n",
       "    }\n",
       "});\n",
       "})(this.parentElement, '/qiime2/redirect?location=/tmp/qiime2-archive-wkl6q62i')\" src=\"data:image/gif;base64,R0lGODlhAQABAIAAAP///wAAACH5BAEAAAAALAAAAAABAAEAAAICRAEAOw==\" /></div>"
      ],
      "text/plain": [
       "<visualization: Visualization uuid: 3d7eeef6-6d1a-4e09-a80f-f8d2639617ed>"
      ]
     },
     "execution_count": 12,
     "metadata": {},
     "output_type": "execute_result"
    }
   ],
   "source": [
    "#visualize Bray-Curtis of low biomass samples only\n",
    "low_emp_plot1k_bray = emperor.visualizers.plot(low_core_metrics_1k.bray_curtis_pcoa_results,\n",
    "                                        mf)\n",
    "low_emp_plot1k_bray.visualization"
   ]
  },
  {
   "cell_type": "code",
   "execution_count": null,
   "metadata": {},
   "outputs": [],
   "source": [
    "#visualize unweighted UniFrac of low biomass samples only\n",
    "low_emp_plot3k_uUnifrac = emperor.visualizers.plot(low_core_metrics_3k.unweighted_unifrac_pcoa_results,\n",
    "                                        mf)\n",
    "low_emp_plot3k_uUnifrac.visualization"
   ]
  }
 ],
 "metadata": {
  "kernelspec": {
   "display_name": "Python 3",
   "language": "python",
   "name": "python3"
  },
  "language_info": {
   "codemirror_mode": {
    "name": "ipython",
    "version": 3
   },
   "file_extension": ".py",
   "mimetype": "text/x-python",
   "name": "python",
   "nbconvert_exporter": "python",
   "pygments_lexer": "ipython3",
   "version": "3.6.7"
  }
 },
 "nbformat": 4,
 "nbformat_minor": 4
}
